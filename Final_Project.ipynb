{
  "nbformat": 4,
  "nbformat_minor": 0,
  "metadata": {
    "colab": {
      "name": "Final Project.ipynb",
      "provenance": [],
      "collapsed_sections": []
    },
    "kernelspec": {
      "name": "python3",
      "display_name": "Python 3"
    },
    "language_info": {
      "name": "python"
    }
  },
  "cells": [
    {
      "cell_type": "markdown",
      "source": [
        "#Predicting Top Scorers in the English Premier League \n",
        "By Arshad Roshan, Mihir Subhedar, Tejas Sreeram"
      ],
      "metadata": {
        "id": "qRE6zDATvZIc"
      }
    },
    {
      "cell_type": "markdown",
      "source": [
        "# Introduction"
      ],
      "metadata": {
        "id": "CVAayiJ5H4Ob"
      }
    },
    {
      "cell_type": "markdown",
      "source": [
        "The English Premier League is hailed as one of the top football leagues in the world. It is regarded by many as the most competitive league and is home to the best players from around the world. Performing in the EPL is not easy, and there is a huge demand for players that can score goals in the league. \n",
        " \n",
        "In this tutorial, we will analyze the shooting data of players in the English Premier League for the 2017-18, 2018-19, 2019-20, 2020-21 seasons. We will explore the importance of several key statistics like shot accuracy, expected goals, and penalties among others to predict the top scoring players for the current season of 2021-2022.\n",
        " \n",
        "The process we will use includes data cleaning and processing. It will also include an analysis and visualization through plots such as scatter plots, bar graphs, and a heatmap to better understand which attributes impact the goals scored by players. Lastly we will use a machine learning model, specifically the RandomForest model, to train the data and predict the top goalscorers in the Premier League for the season of 2021-2022.\n",
        " \n",
        "The following libraries are required for this analysis:\n",
        " \n",
        "1. Pandas\n",
        "2. Numpy\n",
        "3. Matplotlib\n",
        "4. Seaborn\n",
        "5. Sklearn \n",
        " \n",
        "**NOTE:** Here are some useful links for documentation on panda dataframes and how to plot them \n",
        "1. https://pandas.pydata.org/docs/reference/frame.html\n",
        "2. https://matplotlib.org/stable/api/pyplot_summary.html\n",
        " \n",
        " \n",
        "\n"
      ],
      "metadata": {
        "id": "NvUUnUwjH4tA"
      }
    },
    {
      "cell_type": "markdown",
      "source": [
        "### Libraries"
      ],
      "metadata": {
        "id": "eDcwQrH8OgbG"
      }
    },
    {
      "cell_type": "code",
      "execution_count": null,
      "metadata": {
        "id": "l0AaAyH8mSXC"
      },
      "outputs": [],
      "source": [
        "import numpy as np\n",
        "import matplotlib.pyplot as plt\n",
        "import seaborn as sns"
      ]
    },
    {
      "cell_type": "markdown",
      "source": [
        "# Data Collection and Cleaning"
      ],
      "metadata": {
        "id": "HoyldagfgYU7"
      }
    },
    {
      "cell_type": "markdown",
      "source": [
        "## About the data"
      ],
      "metadata": {
        "id": "XoTjMwA5Qr5Z"
      }
    },
    {
      "cell_type": "markdown",
      "source": [
        "We get our data from FBref.com, a website dedicated to tracking and reporting statistics for football teams and players across the world. We are using their shooting data for players from the English Premier League during the 2020-21 season. \n",
        "\n",
        "https://fbref.com/en/comps/9/10728/shooting/2020-2021-Premier-League-Stats\n",
        "\n",
        "The FBref website allows us to export the Player Shooting table as a .csv file, which we use for our data.\n",
        "\n",
        "*Data Collection:*\n",
        "For data collection and creating a data frame, the library we used was:\n",
        "1. pandas\n",
        "\n",
        "*The following data is from the 2020-2021 season to show how we obtained and cleaned our data* "
      ],
      "metadata": {
        "id": "GlGyYDqHgZGu"
      }
    },
    {
      "cell_type": "code",
      "source": [
        "import pandas as pd # Library required for creating and manipulating data frame\n",
        "# Using 2020-21 season as example for cleaning data\n",
        "df = pd.read_csv(\"playershooting2021.csv\") # File was placed in repository and was read to create dataframe\n",
        "df # Output"
      ],
      "metadata": {
        "colab": {
          "base_uri": "https://localhost:8080/",
          "height": 609
        },
        "id": "HBJtR5R3QXkF",
        "outputId": "a3254abe-63e4-4875-8e1e-d79e757171d8"
      },
      "execution_count": null,
      "outputs": [
        {
          "output_type": "execute_result",
          "data": {
            "text/html": [
              "\n",
              "  <div id=\"df-d5084a50-3524-440e-938a-41cea5887850\">\n",
              "    <div class=\"colab-df-container\">\n",
              "      <div>\n",
              "<style scoped>\n",
              "    .dataframe tbody tr th:only-of-type {\n",
              "        vertical-align: middle;\n",
              "    }\n",
              "\n",
              "    .dataframe tbody tr th {\n",
              "        vertical-align: top;\n",
              "    }\n",
              "\n",
              "    .dataframe thead th {\n",
              "        text-align: right;\n",
              "    }\n",
              "</style>\n",
              "<table border=\"1\" class=\"dataframe\">\n",
              "  <thead>\n",
              "    <tr style=\"text-align: right;\">\n",
              "      <th></th>\n",
              "      <th>Unnamed: 0</th>\n",
              "      <th>Unnamed: 1</th>\n",
              "      <th>Unnamed: 2</th>\n",
              "      <th>Unnamed: 3</th>\n",
              "      <th>Unnamed: 4</th>\n",
              "      <th>Unnamed: 5</th>\n",
              "      <th>Unnamed: 6</th>\n",
              "      <th>Unnamed: 7</th>\n",
              "      <th>Unnamed: 8</th>\n",
              "      <th>Standard</th>\n",
              "      <th>Standard.1</th>\n",
              "      <th>Standard.2</th>\n",
              "      <th>Standard.3</th>\n",
              "      <th>Standard.4</th>\n",
              "      <th>Standard.5</th>\n",
              "      <th>Standard.6</th>\n",
              "      <th>Standard.7</th>\n",
              "      <th>Standard.8</th>\n",
              "      <th>Performance</th>\n",
              "      <th>Performance.1</th>\n",
              "      <th>Expected</th>\n",
              "      <th>Expected.1</th>\n",
              "      <th>Expected.2</th>\n",
              "      <th>Expected.3</th>\n",
              "      <th>Expected.4</th>\n",
              "      <th>Unnamed: 25</th>\n",
              "    </tr>\n",
              "  </thead>\n",
              "  <tbody>\n",
              "    <tr>\n",
              "      <th>0</th>\n",
              "      <td>Rk</td>\n",
              "      <td>Player</td>\n",
              "      <td>Nation</td>\n",
              "      <td>Pos</td>\n",
              "      <td>Squad</td>\n",
              "      <td>Age</td>\n",
              "      <td>Born</td>\n",
              "      <td>90s</td>\n",
              "      <td>Gls</td>\n",
              "      <td>Sh</td>\n",
              "      <td>SoT</td>\n",
              "      <td>SoT%</td>\n",
              "      <td>Sh/90</td>\n",
              "      <td>SoT/90</td>\n",
              "      <td>G/Sh</td>\n",
              "      <td>G/SoT</td>\n",
              "      <td>Dist</td>\n",
              "      <td>FK</td>\n",
              "      <td>PK</td>\n",
              "      <td>PKatt</td>\n",
              "      <td>xG</td>\n",
              "      <td>npxG</td>\n",
              "      <td>npxG/Sh</td>\n",
              "      <td>G-xG</td>\n",
              "      <td>np:G-xG</td>\n",
              "      <td>Matches</td>\n",
              "    </tr>\n",
              "    <tr>\n",
              "      <th>1</th>\n",
              "      <td>1</td>\n",
              "      <td>Patrick van Aanholt\\5f09991f</td>\n",
              "      <td>nl NED</td>\n",
              "      <td>DF</td>\n",
              "      <td>Crystal Palace</td>\n",
              "      <td>29</td>\n",
              "      <td>1990</td>\n",
              "      <td>19.7</td>\n",
              "      <td>0</td>\n",
              "      <td>18</td>\n",
              "      <td>6</td>\n",
              "      <td>33.3</td>\n",
              "      <td>0.91</td>\n",
              "      <td>0.30</td>\n",
              "      <td>0.00</td>\n",
              "      <td>0.00</td>\n",
              "      <td>20.3</td>\n",
              "      <td>3</td>\n",
              "      <td>0</td>\n",
              "      <td>0</td>\n",
              "      <td>1.2</td>\n",
              "      <td>1.2</td>\n",
              "      <td>0.07</td>\n",
              "      <td>-1.2</td>\n",
              "      <td>-1.2</td>\n",
              "      <td>Matches</td>\n",
              "    </tr>\n",
              "    <tr>\n",
              "      <th>2</th>\n",
              "      <td>2</td>\n",
              "      <td>Tammy Abraham\\f586779e</td>\n",
              "      <td>eng ENG</td>\n",
              "      <td>FW</td>\n",
              "      <td>Chelsea</td>\n",
              "      <td>22</td>\n",
              "      <td>1997</td>\n",
              "      <td>11.6</td>\n",
              "      <td>6</td>\n",
              "      <td>32</td>\n",
              "      <td>13</td>\n",
              "      <td>40.6</td>\n",
              "      <td>2.77</td>\n",
              "      <td>1.13</td>\n",
              "      <td>0.19</td>\n",
              "      <td>0.46</td>\n",
              "      <td>9.7</td>\n",
              "      <td>0</td>\n",
              "      <td>0</td>\n",
              "      <td>0</td>\n",
              "      <td>6.4</td>\n",
              "      <td>6.4</td>\n",
              "      <td>0.20</td>\n",
              "      <td>-0.4</td>\n",
              "      <td>-0.4</td>\n",
              "      <td>Matches</td>\n",
              "    </tr>\n",
              "    <tr>\n",
              "      <th>3</th>\n",
              "      <td>3</td>\n",
              "      <td>Che Adams\\f2bf1b0f</td>\n",
              "      <td>sct SCO</td>\n",
              "      <td>FW</td>\n",
              "      <td>Southampton</td>\n",
              "      <td>24</td>\n",
              "      <td>1996</td>\n",
              "      <td>29.6</td>\n",
              "      <td>9</td>\n",
              "      <td>56</td>\n",
              "      <td>31</td>\n",
              "      <td>55.4</td>\n",
              "      <td>1.89</td>\n",
              "      <td>1.05</td>\n",
              "      <td>0.16</td>\n",
              "      <td>0.29</td>\n",
              "      <td>13.1</td>\n",
              "      <td>0</td>\n",
              "      <td>0</td>\n",
              "      <td>0</td>\n",
              "      <td>8.8</td>\n",
              "      <td>8.8</td>\n",
              "      <td>0.16</td>\n",
              "      <td>+0.2</td>\n",
              "      <td>+0.2</td>\n",
              "      <td>Matches</td>\n",
              "    </tr>\n",
              "    <tr>\n",
              "      <th>4</th>\n",
              "      <td>4</td>\n",
              "      <td>Tosin Adarabioyo\\c81d773d</td>\n",
              "      <td>eng ENG</td>\n",
              "      <td>DF</td>\n",
              "      <td>Fulham</td>\n",
              "      <td>22</td>\n",
              "      <td>1997</td>\n",
              "      <td>32.8</td>\n",
              "      <td>0</td>\n",
              "      <td>20</td>\n",
              "      <td>5</td>\n",
              "      <td>25.0</td>\n",
              "      <td>0.61</td>\n",
              "      <td>0.15</td>\n",
              "      <td>0.00</td>\n",
              "      <td>0.00</td>\n",
              "      <td>8.8</td>\n",
              "      <td>0</td>\n",
              "      <td>0</td>\n",
              "      <td>0</td>\n",
              "      <td>1.1</td>\n",
              "      <td>1.1</td>\n",
              "      <td>0.05</td>\n",
              "      <td>-1.1</td>\n",
              "      <td>-1.1</td>\n",
              "      <td>Matches</td>\n",
              "    </tr>\n",
              "    <tr>\n",
              "      <th>...</th>\n",
              "      <td>...</td>\n",
              "      <td>...</td>\n",
              "      <td>...</td>\n",
              "      <td>...</td>\n",
              "      <td>...</td>\n",
              "      <td>...</td>\n",
              "      <td>...</td>\n",
              "      <td>...</td>\n",
              "      <td>...</td>\n",
              "      <td>...</td>\n",
              "      <td>...</td>\n",
              "      <td>...</td>\n",
              "      <td>...</td>\n",
              "      <td>...</td>\n",
              "      <td>...</td>\n",
              "      <td>...</td>\n",
              "      <td>...</td>\n",
              "      <td>...</td>\n",
              "      <td>...</td>\n",
              "      <td>...</td>\n",
              "      <td>...</td>\n",
              "      <td>...</td>\n",
              "      <td>...</td>\n",
              "      <td>...</td>\n",
              "      <td>...</td>\n",
              "      <td>...</td>\n",
              "    </tr>\n",
              "    <tr>\n",
              "      <th>528</th>\n",
              "      <td>528</td>\n",
              "      <td>Andi Zeqiri\\d01231f0</td>\n",
              "      <td>ch SUI</td>\n",
              "      <td>FWDF</td>\n",
              "      <td>Brighton</td>\n",
              "      <td>21</td>\n",
              "      <td>1999</td>\n",
              "      <td>1.9</td>\n",
              "      <td>0</td>\n",
              "      <td>7</td>\n",
              "      <td>2</td>\n",
              "      <td>28.6</td>\n",
              "      <td>3.68</td>\n",
              "      <td>1.05</td>\n",
              "      <td>0.00</td>\n",
              "      <td>0.00</td>\n",
              "      <td>13.1</td>\n",
              "      <td>0</td>\n",
              "      <td>0</td>\n",
              "      <td>0</td>\n",
              "      <td>0.6</td>\n",
              "      <td>0.6</td>\n",
              "      <td>0.09</td>\n",
              "      <td>-0.6</td>\n",
              "      <td>-0.6</td>\n",
              "      <td>Matches</td>\n",
              "    </tr>\n",
              "    <tr>\n",
              "      <th>529</th>\n",
              "      <td>529</td>\n",
              "      <td>Oleksandr Zinchenko\\51cf8561</td>\n",
              "      <td>ua UKR</td>\n",
              "      <td>DF</td>\n",
              "      <td>Manchester City</td>\n",
              "      <td>23</td>\n",
              "      <td>1996</td>\n",
              "      <td>16.4</td>\n",
              "      <td>0</td>\n",
              "      <td>16</td>\n",
              "      <td>4</td>\n",
              "      <td>25.0</td>\n",
              "      <td>0.97</td>\n",
              "      <td>0.24</td>\n",
              "      <td>0.00</td>\n",
              "      <td>0.00</td>\n",
              "      <td>21.9</td>\n",
              "      <td>1</td>\n",
              "      <td>0</td>\n",
              "      <td>0</td>\n",
              "      <td>0.7</td>\n",
              "      <td>0.7</td>\n",
              "      <td>0.05</td>\n",
              "      <td>-0.7</td>\n",
              "      <td>-0.7</td>\n",
              "      <td>Matches</td>\n",
              "    </tr>\n",
              "    <tr>\n",
              "      <th>530</th>\n",
              "      <td>530</td>\n",
              "      <td>Hakim Ziyech\\6622454d</td>\n",
              "      <td>ma MAR</td>\n",
              "      <td>FWMF</td>\n",
              "      <td>Chelsea</td>\n",
              "      <td>27</td>\n",
              "      <td>1993</td>\n",
              "      <td>13.0</td>\n",
              "      <td>2</td>\n",
              "      <td>35</td>\n",
              "      <td>12</td>\n",
              "      <td>34.3</td>\n",
              "      <td>2.69</td>\n",
              "      <td>0.92</td>\n",
              "      <td>0.06</td>\n",
              "      <td>0.17</td>\n",
              "      <td>21.8</td>\n",
              "      <td>0</td>\n",
              "      <td>0</td>\n",
              "      <td>0</td>\n",
              "      <td>1.9</td>\n",
              "      <td>1.9</td>\n",
              "      <td>0.05</td>\n",
              "      <td>+0.1</td>\n",
              "      <td>+0.1</td>\n",
              "      <td>Matches</td>\n",
              "    </tr>\n",
              "    <tr>\n",
              "      <th>531</th>\n",
              "      <td>531</td>\n",
              "      <td>Kurt Zouma\\ce4246f5</td>\n",
              "      <td>fr FRA</td>\n",
              "      <td>DF</td>\n",
              "      <td>Chelsea</td>\n",
              "      <td>25</td>\n",
              "      <td>1994</td>\n",
              "      <td>22.5</td>\n",
              "      <td>5</td>\n",
              "      <td>27</td>\n",
              "      <td>12</td>\n",
              "      <td>44.4</td>\n",
              "      <td>1.20</td>\n",
              "      <td>0.53</td>\n",
              "      <td>0.19</td>\n",
              "      <td>0.42</td>\n",
              "      <td>12.2</td>\n",
              "      <td>0</td>\n",
              "      <td>0</td>\n",
              "      <td>0</td>\n",
              "      <td>1.8</td>\n",
              "      <td>1.8</td>\n",
              "      <td>0.07</td>\n",
              "      <td>+3.2</td>\n",
              "      <td>+3.2</td>\n",
              "      <td>Matches</td>\n",
              "    </tr>\n",
              "    <tr>\n",
              "      <th>532</th>\n",
              "      <td>532</td>\n",
              "      <td>Martin Ødegaard\\79300479</td>\n",
              "      <td>no NOR</td>\n",
              "      <td>MF</td>\n",
              "      <td>Arsenal</td>\n",
              "      <td>21</td>\n",
              "      <td>1998</td>\n",
              "      <td>9.6</td>\n",
              "      <td>1</td>\n",
              "      <td>15</td>\n",
              "      <td>3</td>\n",
              "      <td>20.0</td>\n",
              "      <td>1.56</td>\n",
              "      <td>0.31</td>\n",
              "      <td>0.07</td>\n",
              "      <td>0.33</td>\n",
              "      <td>20.5</td>\n",
              "      <td>1</td>\n",
              "      <td>0</td>\n",
              "      <td>0</td>\n",
              "      <td>1.1</td>\n",
              "      <td>1.1</td>\n",
              "      <td>0.07</td>\n",
              "      <td>-0.1</td>\n",
              "      <td>-0.1</td>\n",
              "      <td>Matches</td>\n",
              "    </tr>\n",
              "  </tbody>\n",
              "</table>\n",
              "<p>533 rows × 26 columns</p>\n",
              "</div>\n",
              "      <button class=\"colab-df-convert\" onclick=\"convertToInteractive('df-d5084a50-3524-440e-938a-41cea5887850')\"\n",
              "              title=\"Convert this dataframe to an interactive table.\"\n",
              "              style=\"display:none;\">\n",
              "        \n",
              "  <svg xmlns=\"http://www.w3.org/2000/svg\" height=\"24px\"viewBox=\"0 0 24 24\"\n",
              "       width=\"24px\">\n",
              "    <path d=\"M0 0h24v24H0V0z\" fill=\"none\"/>\n",
              "    <path d=\"M18.56 5.44l.94 2.06.94-2.06 2.06-.94-2.06-.94-.94-2.06-.94 2.06-2.06.94zm-11 1L8.5 8.5l.94-2.06 2.06-.94-2.06-.94L8.5 2.5l-.94 2.06-2.06.94zm10 10l.94 2.06.94-2.06 2.06-.94-2.06-.94-.94-2.06-.94 2.06-2.06.94z\"/><path d=\"M17.41 7.96l-1.37-1.37c-.4-.4-.92-.59-1.43-.59-.52 0-1.04.2-1.43.59L10.3 9.45l-7.72 7.72c-.78.78-.78 2.05 0 2.83L4 21.41c.39.39.9.59 1.41.59.51 0 1.02-.2 1.41-.59l7.78-7.78 2.81-2.81c.8-.78.8-2.07 0-2.86zM5.41 20L4 18.59l7.72-7.72 1.47 1.35L5.41 20z\"/>\n",
              "  </svg>\n",
              "      </button>\n",
              "      \n",
              "  <style>\n",
              "    .colab-df-container {\n",
              "      display:flex;\n",
              "      flex-wrap:wrap;\n",
              "      gap: 12px;\n",
              "    }\n",
              "\n",
              "    .colab-df-convert {\n",
              "      background-color: #E8F0FE;\n",
              "      border: none;\n",
              "      border-radius: 50%;\n",
              "      cursor: pointer;\n",
              "      display: none;\n",
              "      fill: #1967D2;\n",
              "      height: 32px;\n",
              "      padding: 0 0 0 0;\n",
              "      width: 32px;\n",
              "    }\n",
              "\n",
              "    .colab-df-convert:hover {\n",
              "      background-color: #E2EBFA;\n",
              "      box-shadow: 0px 1px 2px rgba(60, 64, 67, 0.3), 0px 1px 3px 1px rgba(60, 64, 67, 0.15);\n",
              "      fill: #174EA6;\n",
              "    }\n",
              "\n",
              "    [theme=dark] .colab-df-convert {\n",
              "      background-color: #3B4455;\n",
              "      fill: #D2E3FC;\n",
              "    }\n",
              "\n",
              "    [theme=dark] .colab-df-convert:hover {\n",
              "      background-color: #434B5C;\n",
              "      box-shadow: 0px 1px 3px 1px rgba(0, 0, 0, 0.15);\n",
              "      filter: drop-shadow(0px 1px 2px rgba(0, 0, 0, 0.3));\n",
              "      fill: #FFFFFF;\n",
              "    }\n",
              "  </style>\n",
              "\n",
              "      <script>\n",
              "        const buttonEl =\n",
              "          document.querySelector('#df-d5084a50-3524-440e-938a-41cea5887850 button.colab-df-convert');\n",
              "        buttonEl.style.display =\n",
              "          google.colab.kernel.accessAllowed ? 'block' : 'none';\n",
              "\n",
              "        async function convertToInteractive(key) {\n",
              "          const element = document.querySelector('#df-d5084a50-3524-440e-938a-41cea5887850');\n",
              "          const dataTable =\n",
              "            await google.colab.kernel.invokeFunction('convertToInteractive',\n",
              "                                                     [key], {});\n",
              "          if (!dataTable) return;\n",
              "\n",
              "          const docLinkHtml = 'Like what you see? Visit the ' +\n",
              "            '<a target=\"_blank\" href=https://colab.research.google.com/notebooks/data_table.ipynb>data table notebook</a>'\n",
              "            + ' to learn more about interactive tables.';\n",
              "          element.innerHTML = '';\n",
              "          dataTable['output_type'] = 'display_data';\n",
              "          await google.colab.output.renderOutput(dataTable, element);\n",
              "          const docLink = document.createElement('div');\n",
              "          docLink.innerHTML = docLinkHtml;\n",
              "          element.appendChild(docLink);\n",
              "        }\n",
              "      </script>\n",
              "    </div>\n",
              "  </div>\n",
              "  "
            ],
            "text/plain": [
              "    Unnamed: 0                    Unnamed: 1  ... Expected.4 Unnamed: 25\n",
              "0           Rk                        Player  ...    np:G-xG     Matches\n",
              "1            1  Patrick van Aanholt\\5f09991f  ...       -1.2     Matches\n",
              "2            2        Tammy Abraham\\f586779e  ...       -0.4     Matches\n",
              "3            3            Che Adams\\f2bf1b0f  ...       +0.2     Matches\n",
              "4            4     Tosin Adarabioyo\\c81d773d  ...       -1.1     Matches\n",
              "..         ...                           ...  ...        ...         ...\n",
              "528        528          Andi Zeqiri\\d01231f0  ...       -0.6     Matches\n",
              "529        529  Oleksandr Zinchenko\\51cf8561  ...       -0.7     Matches\n",
              "530        530         Hakim Ziyech\\6622454d  ...       +0.1     Matches\n",
              "531        531           Kurt Zouma\\ce4246f5  ...       +3.2     Matches\n",
              "532        532      Martin Ødegaard\\79300479  ...       -0.1     Matches\n",
              "\n",
              "[533 rows x 26 columns]"
            ]
          },
          "metadata": {},
          "execution_count": 215
        }
      ]
    },
    {
      "cell_type": "markdown",
      "source": [
        "## Data Cleaning"
      ],
      "metadata": {
        "id": "-XZk0YEMw1YZ"
      }
    },
    {
      "cell_type": "markdown",
      "source": [
        "**Part 1:**\n",
        " \n",
        "There were many problems with the initial dataframe we were able to read from, so we fixed it using the following library:\n",
        "1. pandas\n",
        " \n",
        "The problems with the initial data frame included wrong column names, unnecessary columns, improper cell values with additional text, and confusing column names. To fix these issues we did the following:\n",
        " \n",
        "1.   Make the first row of the data frame the actual column names \n",
        "  *   The initial column names were 'unnamed' and the proper column names were in the first row\n",
        "2.   Drop the Rank (\"Rk\") column\n",
        "  * This column is unnecessary for our data analysis and should be dropped\n",
        "3. Remove unnecessary characters from the player names column\n",
        "  * The player names had additional character text after a '\\\\' and all of that text had to be removed\n",
        "4. Remove unnecessary characters from the nationality column\n",
        "  * The nationalities also had unneeded characters before the nation was given, so we removed those as well\n",
        "5. Remove secondary positions for each player\n",
        "  * Some of the players played more than one position, so we decided to keep only the primary position\n",
        "6. Drop the \"Born\", \"G-xG\", \"np:G-xG\", and \"Matches\" columns\n",
        "  * These columns are unnecessary for our data analysis and should be removed\n",
        "7. Rename certain columns to have less confusing names\n",
        "  * Certain column names were acronyms or confusing and had to changed\n",
        " \n",
        "**NOTE:** Here are some useful links for information on cleaning and tidying data:\n",
        "1. https://www.jstatsoft.org/article/view/v059i10/v59i10.pdf \n",
        "2. https://pandas.pydata.org/docs/reference/api/pandas.DataFrame.replace.html\n",
        " \n",
        " \n",
        "\n"
      ],
      "metadata": {
        "id": "Dbq48ppwghWy"
      }
    },
    {
      "cell_type": "code",
      "source": [
        "df.columns = df.iloc[0] # Renamed the columns with the first row values\n",
        "df = df.drop(0) # Dropped the first row since it was not needed anymore\n",
        "df = df.drop(['Rk'], axis=1) # Dropped the 'RK' column\n",
        "# Removed all characters including and after '\\' for the 'Player' column\n",
        "df['Player'] = df['Player'].str.split(pat=\"\\\\\").str[0] \n",
        "# Removed all uncapitalized characters from the 'Nation' column\n",
        "df['Nation'] = df['Nation'].str.replace(r'[a-z]', '')\n",
        "# Keep only the first two characters (first position) of the 'Pos' column\n",
        "df['Pos'] = df['Pos'].str[:2]\n",
        "df=df.drop(columns = [\"Born\", \"G-xG\", \"np:G-xG\", \"Matches\"]) # Drop columns\n",
        "# Rename certain columns to better names\n",
        "df.rename(columns={\"Sh/90\": \"Shots per game\", \"SoT/90\": \"SoT per game\", \"Pos\": \"Position\", \"Squad\": \"Team\", \"Gls\": \"Goals\", \"Sh\": \"Shots\", \"xG\": \"Exp_Goals\", }, inplace=True)\n",
        "df.head() # Output"
      ],
      "metadata": {
        "colab": {
          "base_uri": "https://localhost:8080/",
          "height": 320
        },
        "id": "1y-KRaOhw43J",
        "outputId": "d8bb65a3-b104-4345-e452-987635bf06c4"
      },
      "execution_count": null,
      "outputs": [
        {
          "output_type": "execute_result",
          "data": {
            "text/html": [
              "\n",
              "  <div id=\"df-e71b0dec-c2cb-4e85-ad01-8a9139ccf072\">\n",
              "    <div class=\"colab-df-container\">\n",
              "      <div>\n",
              "<style scoped>\n",
              "    .dataframe tbody tr th:only-of-type {\n",
              "        vertical-align: middle;\n",
              "    }\n",
              "\n",
              "    .dataframe tbody tr th {\n",
              "        vertical-align: top;\n",
              "    }\n",
              "\n",
              "    .dataframe thead th {\n",
              "        text-align: right;\n",
              "    }\n",
              "</style>\n",
              "<table border=\"1\" class=\"dataframe\">\n",
              "  <thead>\n",
              "    <tr style=\"text-align: right;\">\n",
              "      <th></th>\n",
              "      <th>Player</th>\n",
              "      <th>Nation</th>\n",
              "      <th>Position</th>\n",
              "      <th>Team</th>\n",
              "      <th>Age</th>\n",
              "      <th>90s</th>\n",
              "      <th>Goals</th>\n",
              "      <th>Shots</th>\n",
              "      <th>SoT</th>\n",
              "      <th>SoT%</th>\n",
              "      <th>Shots per game</th>\n",
              "      <th>SoT per game</th>\n",
              "      <th>G/Sh</th>\n",
              "      <th>G/SoT</th>\n",
              "      <th>Dist</th>\n",
              "      <th>FK</th>\n",
              "      <th>PK</th>\n",
              "      <th>PKatt</th>\n",
              "      <th>Exp_Goals</th>\n",
              "      <th>npxG</th>\n",
              "      <th>npxG/Sh</th>\n",
              "    </tr>\n",
              "  </thead>\n",
              "  <tbody>\n",
              "    <tr>\n",
              "      <th>1</th>\n",
              "      <td>Patrick van Aanholt</td>\n",
              "      <td>NED</td>\n",
              "      <td>DF</td>\n",
              "      <td>Crystal Palace</td>\n",
              "      <td>29</td>\n",
              "      <td>19.7</td>\n",
              "      <td>0</td>\n",
              "      <td>18</td>\n",
              "      <td>6</td>\n",
              "      <td>33.3</td>\n",
              "      <td>0.91</td>\n",
              "      <td>0.30</td>\n",
              "      <td>0.00</td>\n",
              "      <td>0.00</td>\n",
              "      <td>20.3</td>\n",
              "      <td>3</td>\n",
              "      <td>0</td>\n",
              "      <td>0</td>\n",
              "      <td>1.2</td>\n",
              "      <td>1.2</td>\n",
              "      <td>0.07</td>\n",
              "    </tr>\n",
              "    <tr>\n",
              "      <th>2</th>\n",
              "      <td>Tammy Abraham</td>\n",
              "      <td>ENG</td>\n",
              "      <td>FW</td>\n",
              "      <td>Chelsea</td>\n",
              "      <td>22</td>\n",
              "      <td>11.6</td>\n",
              "      <td>6</td>\n",
              "      <td>32</td>\n",
              "      <td>13</td>\n",
              "      <td>40.6</td>\n",
              "      <td>2.77</td>\n",
              "      <td>1.13</td>\n",
              "      <td>0.19</td>\n",
              "      <td>0.46</td>\n",
              "      <td>9.7</td>\n",
              "      <td>0</td>\n",
              "      <td>0</td>\n",
              "      <td>0</td>\n",
              "      <td>6.4</td>\n",
              "      <td>6.4</td>\n",
              "      <td>0.20</td>\n",
              "    </tr>\n",
              "    <tr>\n",
              "      <th>3</th>\n",
              "      <td>Che Adams</td>\n",
              "      <td>SCO</td>\n",
              "      <td>FW</td>\n",
              "      <td>Southampton</td>\n",
              "      <td>24</td>\n",
              "      <td>29.6</td>\n",
              "      <td>9</td>\n",
              "      <td>56</td>\n",
              "      <td>31</td>\n",
              "      <td>55.4</td>\n",
              "      <td>1.89</td>\n",
              "      <td>1.05</td>\n",
              "      <td>0.16</td>\n",
              "      <td>0.29</td>\n",
              "      <td>13.1</td>\n",
              "      <td>0</td>\n",
              "      <td>0</td>\n",
              "      <td>0</td>\n",
              "      <td>8.8</td>\n",
              "      <td>8.8</td>\n",
              "      <td>0.16</td>\n",
              "    </tr>\n",
              "    <tr>\n",
              "      <th>4</th>\n",
              "      <td>Tosin Adarabioyo</td>\n",
              "      <td>ENG</td>\n",
              "      <td>DF</td>\n",
              "      <td>Fulham</td>\n",
              "      <td>22</td>\n",
              "      <td>32.8</td>\n",
              "      <td>0</td>\n",
              "      <td>20</td>\n",
              "      <td>5</td>\n",
              "      <td>25.0</td>\n",
              "      <td>0.61</td>\n",
              "      <td>0.15</td>\n",
              "      <td>0.00</td>\n",
              "      <td>0.00</td>\n",
              "      <td>8.8</td>\n",
              "      <td>0</td>\n",
              "      <td>0</td>\n",
              "      <td>0</td>\n",
              "      <td>1.1</td>\n",
              "      <td>1.1</td>\n",
              "      <td>0.05</td>\n",
              "    </tr>\n",
              "    <tr>\n",
              "      <th>5</th>\n",
              "      <td>Adrián</td>\n",
              "      <td>ESP</td>\n",
              "      <td>GK</td>\n",
              "      <td>Liverpool</td>\n",
              "      <td>33</td>\n",
              "      <td>3.0</td>\n",
              "      <td>0</td>\n",
              "      <td>0</td>\n",
              "      <td>0</td>\n",
              "      <td>NaN</td>\n",
              "      <td>0.00</td>\n",
              "      <td>0.00</td>\n",
              "      <td>NaN</td>\n",
              "      <td>NaN</td>\n",
              "      <td>NaN</td>\n",
              "      <td>0</td>\n",
              "      <td>0</td>\n",
              "      <td>0</td>\n",
              "      <td>0.0</td>\n",
              "      <td>0.0</td>\n",
              "      <td>NaN</td>\n",
              "    </tr>\n",
              "  </tbody>\n",
              "</table>\n",
              "</div>\n",
              "      <button class=\"colab-df-convert\" onclick=\"convertToInteractive('df-e71b0dec-c2cb-4e85-ad01-8a9139ccf072')\"\n",
              "              title=\"Convert this dataframe to an interactive table.\"\n",
              "              style=\"display:none;\">\n",
              "        \n",
              "  <svg xmlns=\"http://www.w3.org/2000/svg\" height=\"24px\"viewBox=\"0 0 24 24\"\n",
              "       width=\"24px\">\n",
              "    <path d=\"M0 0h24v24H0V0z\" fill=\"none\"/>\n",
              "    <path d=\"M18.56 5.44l.94 2.06.94-2.06 2.06-.94-2.06-.94-.94-2.06-.94 2.06-2.06.94zm-11 1L8.5 8.5l.94-2.06 2.06-.94-2.06-.94L8.5 2.5l-.94 2.06-2.06.94zm10 10l.94 2.06.94-2.06 2.06-.94-2.06-.94-.94-2.06-.94 2.06-2.06.94z\"/><path d=\"M17.41 7.96l-1.37-1.37c-.4-.4-.92-.59-1.43-.59-.52 0-1.04.2-1.43.59L10.3 9.45l-7.72 7.72c-.78.78-.78 2.05 0 2.83L4 21.41c.39.39.9.59 1.41.59.51 0 1.02-.2 1.41-.59l7.78-7.78 2.81-2.81c.8-.78.8-2.07 0-2.86zM5.41 20L4 18.59l7.72-7.72 1.47 1.35L5.41 20z\"/>\n",
              "  </svg>\n",
              "      </button>\n",
              "      \n",
              "  <style>\n",
              "    .colab-df-container {\n",
              "      display:flex;\n",
              "      flex-wrap:wrap;\n",
              "      gap: 12px;\n",
              "    }\n",
              "\n",
              "    .colab-df-convert {\n",
              "      background-color: #E8F0FE;\n",
              "      border: none;\n",
              "      border-radius: 50%;\n",
              "      cursor: pointer;\n",
              "      display: none;\n",
              "      fill: #1967D2;\n",
              "      height: 32px;\n",
              "      padding: 0 0 0 0;\n",
              "      width: 32px;\n",
              "    }\n",
              "\n",
              "    .colab-df-convert:hover {\n",
              "      background-color: #E2EBFA;\n",
              "      box-shadow: 0px 1px 2px rgba(60, 64, 67, 0.3), 0px 1px 3px 1px rgba(60, 64, 67, 0.15);\n",
              "      fill: #174EA6;\n",
              "    }\n",
              "\n",
              "    [theme=dark] .colab-df-convert {\n",
              "      background-color: #3B4455;\n",
              "      fill: #D2E3FC;\n",
              "    }\n",
              "\n",
              "    [theme=dark] .colab-df-convert:hover {\n",
              "      background-color: #434B5C;\n",
              "      box-shadow: 0px 1px 3px 1px rgba(0, 0, 0, 0.15);\n",
              "      filter: drop-shadow(0px 1px 2px rgba(0, 0, 0, 0.3));\n",
              "      fill: #FFFFFF;\n",
              "    }\n",
              "  </style>\n",
              "\n",
              "      <script>\n",
              "        const buttonEl =\n",
              "          document.querySelector('#df-e71b0dec-c2cb-4e85-ad01-8a9139ccf072 button.colab-df-convert');\n",
              "        buttonEl.style.display =\n",
              "          google.colab.kernel.accessAllowed ? 'block' : 'none';\n",
              "\n",
              "        async function convertToInteractive(key) {\n",
              "          const element = document.querySelector('#df-e71b0dec-c2cb-4e85-ad01-8a9139ccf072');\n",
              "          const dataTable =\n",
              "            await google.colab.kernel.invokeFunction('convertToInteractive',\n",
              "                                                     [key], {});\n",
              "          if (!dataTable) return;\n",
              "\n",
              "          const docLinkHtml = 'Like what you see? Visit the ' +\n",
              "            '<a target=\"_blank\" href=https://colab.research.google.com/notebooks/data_table.ipynb>data table notebook</a>'\n",
              "            + ' to learn more about interactive tables.';\n",
              "          element.innerHTML = '';\n",
              "          dataTable['output_type'] = 'display_data';\n",
              "          await google.colab.output.renderOutput(dataTable, element);\n",
              "          const docLink = document.createElement('div');\n",
              "          docLink.innerHTML = docLinkHtml;\n",
              "          element.appendChild(docLink);\n",
              "        }\n",
              "      </script>\n",
              "    </div>\n",
              "  </div>\n",
              "  "
            ],
            "text/plain": [
              "0               Player Nation Position  ... Exp_Goals npxG npxG/Sh\n",
              "1  Patrick van Aanholt    NED       DF  ...       1.2  1.2    0.07\n",
              "2        Tammy Abraham    ENG       FW  ...       6.4  6.4    0.20\n",
              "3            Che Adams    SCO       FW  ...       8.8  8.8    0.16\n",
              "4     Tosin Adarabioyo    ENG       DF  ...       1.1  1.1    0.05\n",
              "5               Adrián    ESP       GK  ...       0.0  0.0     NaN\n",
              "\n",
              "[5 rows x 21 columns]"
            ]
          },
          "metadata": {},
          "execution_count": 216
        }
      ]
    },
    {
      "cell_type": "markdown",
      "source": [
        "In addition to the previous steps, we also did the following to clean up the data:\n",
        "8. Remove all players with \"GK\" as a position\n",
        "  * \"GK\" stands for \"Goalkeeper\" and many goalkeepers either had 0 or NaN for the amount of goals they scored, making their data not needed. \"GK\" players would populate the data and would not be beneficial to finding the top scorers of the 2021-2022 season. \n",
        "\n"
      ],
      "metadata": {
        "id": "YEXZrqqugmmC"
      }
    },
    {
      "cell_type": "code",
      "source": [
        "for index, row in df.iterrows(): # Iterate through each index\n",
        "    if row['Position'] == 'GK': # Find any players who are goalkeepers\n",
        "        df = df.drop(index) # Remove that row\n",
        "df.head() # Output -> *Notice: index 5 was removed because the player was a goalkeeper*"
      ],
      "metadata": {
        "colab": {
          "base_uri": "https://localhost:8080/",
          "height": 337
        },
        "id": "8bCjmBqQEDUL",
        "outputId": "ec7477d6-b8a2-4783-c480-a64006ec72c0"
      },
      "execution_count": null,
      "outputs": [
        {
          "output_type": "execute_result",
          "data": {
            "text/html": [
              "\n",
              "  <div id=\"df-f441b42f-97fa-46f5-889a-1a3508ccb4d2\">\n",
              "    <div class=\"colab-df-container\">\n",
              "      <div>\n",
              "<style scoped>\n",
              "    .dataframe tbody tr th:only-of-type {\n",
              "        vertical-align: middle;\n",
              "    }\n",
              "\n",
              "    .dataframe tbody tr th {\n",
              "        vertical-align: top;\n",
              "    }\n",
              "\n",
              "    .dataframe thead th {\n",
              "        text-align: right;\n",
              "    }\n",
              "</style>\n",
              "<table border=\"1\" class=\"dataframe\">\n",
              "  <thead>\n",
              "    <tr style=\"text-align: right;\">\n",
              "      <th></th>\n",
              "      <th>Player</th>\n",
              "      <th>Nation</th>\n",
              "      <th>Position</th>\n",
              "      <th>Team</th>\n",
              "      <th>Age</th>\n",
              "      <th>90s</th>\n",
              "      <th>Goals</th>\n",
              "      <th>Shots</th>\n",
              "      <th>SoT</th>\n",
              "      <th>SoT%</th>\n",
              "      <th>Shots per game</th>\n",
              "      <th>SoT per game</th>\n",
              "      <th>G/Sh</th>\n",
              "      <th>G/SoT</th>\n",
              "      <th>Dist</th>\n",
              "      <th>FK</th>\n",
              "      <th>PK</th>\n",
              "      <th>PKatt</th>\n",
              "      <th>Exp_Goals</th>\n",
              "      <th>npxG</th>\n",
              "      <th>npxG/Sh</th>\n",
              "    </tr>\n",
              "  </thead>\n",
              "  <tbody>\n",
              "    <tr>\n",
              "      <th>1</th>\n",
              "      <td>Patrick van Aanholt</td>\n",
              "      <td>NED</td>\n",
              "      <td>DF</td>\n",
              "      <td>Crystal Palace</td>\n",
              "      <td>29</td>\n",
              "      <td>19.7</td>\n",
              "      <td>0</td>\n",
              "      <td>18</td>\n",
              "      <td>6</td>\n",
              "      <td>33.3</td>\n",
              "      <td>0.91</td>\n",
              "      <td>0.30</td>\n",
              "      <td>0.00</td>\n",
              "      <td>0.00</td>\n",
              "      <td>20.3</td>\n",
              "      <td>3</td>\n",
              "      <td>0</td>\n",
              "      <td>0</td>\n",
              "      <td>1.2</td>\n",
              "      <td>1.2</td>\n",
              "      <td>0.07</td>\n",
              "    </tr>\n",
              "    <tr>\n",
              "      <th>2</th>\n",
              "      <td>Tammy Abraham</td>\n",
              "      <td>ENG</td>\n",
              "      <td>FW</td>\n",
              "      <td>Chelsea</td>\n",
              "      <td>22</td>\n",
              "      <td>11.6</td>\n",
              "      <td>6</td>\n",
              "      <td>32</td>\n",
              "      <td>13</td>\n",
              "      <td>40.6</td>\n",
              "      <td>2.77</td>\n",
              "      <td>1.13</td>\n",
              "      <td>0.19</td>\n",
              "      <td>0.46</td>\n",
              "      <td>9.7</td>\n",
              "      <td>0</td>\n",
              "      <td>0</td>\n",
              "      <td>0</td>\n",
              "      <td>6.4</td>\n",
              "      <td>6.4</td>\n",
              "      <td>0.20</td>\n",
              "    </tr>\n",
              "    <tr>\n",
              "      <th>3</th>\n",
              "      <td>Che Adams</td>\n",
              "      <td>SCO</td>\n",
              "      <td>FW</td>\n",
              "      <td>Southampton</td>\n",
              "      <td>24</td>\n",
              "      <td>29.6</td>\n",
              "      <td>9</td>\n",
              "      <td>56</td>\n",
              "      <td>31</td>\n",
              "      <td>55.4</td>\n",
              "      <td>1.89</td>\n",
              "      <td>1.05</td>\n",
              "      <td>0.16</td>\n",
              "      <td>0.29</td>\n",
              "      <td>13.1</td>\n",
              "      <td>0</td>\n",
              "      <td>0</td>\n",
              "      <td>0</td>\n",
              "      <td>8.8</td>\n",
              "      <td>8.8</td>\n",
              "      <td>0.16</td>\n",
              "    </tr>\n",
              "    <tr>\n",
              "      <th>4</th>\n",
              "      <td>Tosin Adarabioyo</td>\n",
              "      <td>ENG</td>\n",
              "      <td>DF</td>\n",
              "      <td>Fulham</td>\n",
              "      <td>22</td>\n",
              "      <td>32.8</td>\n",
              "      <td>0</td>\n",
              "      <td>20</td>\n",
              "      <td>5</td>\n",
              "      <td>25.0</td>\n",
              "      <td>0.61</td>\n",
              "      <td>0.15</td>\n",
              "      <td>0.00</td>\n",
              "      <td>0.00</td>\n",
              "      <td>8.8</td>\n",
              "      <td>0</td>\n",
              "      <td>0</td>\n",
              "      <td>0</td>\n",
              "      <td>1.1</td>\n",
              "      <td>1.1</td>\n",
              "      <td>0.05</td>\n",
              "    </tr>\n",
              "    <tr>\n",
              "      <th>6</th>\n",
              "      <td>Sergio Agüero</td>\n",
              "      <td>ARG</td>\n",
              "      <td>FW</td>\n",
              "      <td>Manchester City</td>\n",
              "      <td>32</td>\n",
              "      <td>6.2</td>\n",
              "      <td>4</td>\n",
              "      <td>17</td>\n",
              "      <td>10</td>\n",
              "      <td>58.8</td>\n",
              "      <td>2.74</td>\n",
              "      <td>1.61</td>\n",
              "      <td>0.18</td>\n",
              "      <td>0.30</td>\n",
              "      <td>13.9</td>\n",
              "      <td>0</td>\n",
              "      <td>1</td>\n",
              "      <td>2</td>\n",
              "      <td>3.4</td>\n",
              "      <td>1.8</td>\n",
              "      <td>0.11</td>\n",
              "    </tr>\n",
              "  </tbody>\n",
              "</table>\n",
              "</div>\n",
              "      <button class=\"colab-df-convert\" onclick=\"convertToInteractive('df-f441b42f-97fa-46f5-889a-1a3508ccb4d2')\"\n",
              "              title=\"Convert this dataframe to an interactive table.\"\n",
              "              style=\"display:none;\">\n",
              "        \n",
              "  <svg xmlns=\"http://www.w3.org/2000/svg\" height=\"24px\"viewBox=\"0 0 24 24\"\n",
              "       width=\"24px\">\n",
              "    <path d=\"M0 0h24v24H0V0z\" fill=\"none\"/>\n",
              "    <path d=\"M18.56 5.44l.94 2.06.94-2.06 2.06-.94-2.06-.94-.94-2.06-.94 2.06-2.06.94zm-11 1L8.5 8.5l.94-2.06 2.06-.94-2.06-.94L8.5 2.5l-.94 2.06-2.06.94zm10 10l.94 2.06.94-2.06 2.06-.94-2.06-.94-.94-2.06-.94 2.06-2.06.94z\"/><path d=\"M17.41 7.96l-1.37-1.37c-.4-.4-.92-.59-1.43-.59-.52 0-1.04.2-1.43.59L10.3 9.45l-7.72 7.72c-.78.78-.78 2.05 0 2.83L4 21.41c.39.39.9.59 1.41.59.51 0 1.02-.2 1.41-.59l7.78-7.78 2.81-2.81c.8-.78.8-2.07 0-2.86zM5.41 20L4 18.59l7.72-7.72 1.47 1.35L5.41 20z\"/>\n",
              "  </svg>\n",
              "      </button>\n",
              "      \n",
              "  <style>\n",
              "    .colab-df-container {\n",
              "      display:flex;\n",
              "      flex-wrap:wrap;\n",
              "      gap: 12px;\n",
              "    }\n",
              "\n",
              "    .colab-df-convert {\n",
              "      background-color: #E8F0FE;\n",
              "      border: none;\n",
              "      border-radius: 50%;\n",
              "      cursor: pointer;\n",
              "      display: none;\n",
              "      fill: #1967D2;\n",
              "      height: 32px;\n",
              "      padding: 0 0 0 0;\n",
              "      width: 32px;\n",
              "    }\n",
              "\n",
              "    .colab-df-convert:hover {\n",
              "      background-color: #E2EBFA;\n",
              "      box-shadow: 0px 1px 2px rgba(60, 64, 67, 0.3), 0px 1px 3px 1px rgba(60, 64, 67, 0.15);\n",
              "      fill: #174EA6;\n",
              "    }\n",
              "\n",
              "    [theme=dark] .colab-df-convert {\n",
              "      background-color: #3B4455;\n",
              "      fill: #D2E3FC;\n",
              "    }\n",
              "\n",
              "    [theme=dark] .colab-df-convert:hover {\n",
              "      background-color: #434B5C;\n",
              "      box-shadow: 0px 1px 3px 1px rgba(0, 0, 0, 0.15);\n",
              "      filter: drop-shadow(0px 1px 2px rgba(0, 0, 0, 0.3));\n",
              "      fill: #FFFFFF;\n",
              "    }\n",
              "  </style>\n",
              "\n",
              "      <script>\n",
              "        const buttonEl =\n",
              "          document.querySelector('#df-f441b42f-97fa-46f5-889a-1a3508ccb4d2 button.colab-df-convert');\n",
              "        buttonEl.style.display =\n",
              "          google.colab.kernel.accessAllowed ? 'block' : 'none';\n",
              "\n",
              "        async function convertToInteractive(key) {\n",
              "          const element = document.querySelector('#df-f441b42f-97fa-46f5-889a-1a3508ccb4d2');\n",
              "          const dataTable =\n",
              "            await google.colab.kernel.invokeFunction('convertToInteractive',\n",
              "                                                     [key], {});\n",
              "          if (!dataTable) return;\n",
              "\n",
              "          const docLinkHtml = 'Like what you see? Visit the ' +\n",
              "            '<a target=\"_blank\" href=https://colab.research.google.com/notebooks/data_table.ipynb>data table notebook</a>'\n",
              "            + ' to learn more about interactive tables.';\n",
              "          element.innerHTML = '';\n",
              "          dataTable['output_type'] = 'display_data';\n",
              "          await google.colab.output.renderOutput(dataTable, element);\n",
              "          const docLink = document.createElement('div');\n",
              "          docLink.innerHTML = docLinkHtml;\n",
              "          element.appendChild(docLink);\n",
              "        }\n",
              "      </script>\n",
              "    </div>\n",
              "  </div>\n",
              "  "
            ],
            "text/plain": [
              "0               Player Nation Position  ... Exp_Goals npxG npxG/Sh\n",
              "1  Patrick van Aanholt    NED       DF  ...       1.2  1.2    0.07\n",
              "2        Tammy Abraham    ENG       FW  ...       6.4  6.4    0.20\n",
              "3            Che Adams    SCO       FW  ...       8.8  8.8    0.16\n",
              "4     Tosin Adarabioyo    ENG       DF  ...       1.1  1.1    0.05\n",
              "6        Sergio Agüero    ARG       FW  ...       3.4  1.8    0.11\n",
              "\n",
              "[5 rows x 21 columns]"
            ]
          },
          "metadata": {},
          "execution_count": 217
        }
      ]
    },
    {
      "cell_type": "markdown",
      "source": [
        "We also did a NaN check:\n",
        " \n",
        "9. Replace all NaN values \n",
        "  * Much of the data had NaN values and the best way to remove these NaN values was by replacing them with 0. This is because many of the NaN values were Goals per Shot, Goals per Shots on Target, and Distance. Additionally, the value of these players' Goals were all zero, meaning the values of the NaN columns would be zero anyways. \n",
        " \n",
        "**NOTE**: Here are some useful links for NaN values and missing data:\n",
        "1. https://pandas.pydata.org/pandas-docs/stable/user_guide/missing_data.html\n",
        "\n"
      ],
      "metadata": {
        "id": "Ou5qVjuegsUm"
      }
    },
    {
      "cell_type": "code",
      "source": [
        "df[df.isna().any(axis=1)].head() # Outputting all rows with any NaN values "
      ],
      "metadata": {
        "colab": {
          "base_uri": "https://localhost:8080/",
          "height": 337
        },
        "id": "-tOK_YJqDhBx",
        "outputId": "49a642b1-b1fe-47c3-a632-3f4cf5485d52"
      },
      "execution_count": null,
      "outputs": [
        {
          "output_type": "execute_result",
          "data": {
            "text/html": [
              "\n",
              "  <div id=\"df-2c246a55-3a3d-41a3-8356-2e8fc7771ab1\">\n",
              "    <div class=\"colab-df-container\">\n",
              "      <div>\n",
              "<style scoped>\n",
              "    .dataframe tbody tr th:only-of-type {\n",
              "        vertical-align: middle;\n",
              "    }\n",
              "\n",
              "    .dataframe tbody tr th {\n",
              "        vertical-align: top;\n",
              "    }\n",
              "\n",
              "    .dataframe thead th {\n",
              "        text-align: right;\n",
              "    }\n",
              "</style>\n",
              "<table border=\"1\" class=\"dataframe\">\n",
              "  <thead>\n",
              "    <tr style=\"text-align: right;\">\n",
              "      <th></th>\n",
              "      <th>Player</th>\n",
              "      <th>Nation</th>\n",
              "      <th>Position</th>\n",
              "      <th>Team</th>\n",
              "      <th>Age</th>\n",
              "      <th>90s</th>\n",
              "      <th>Goals</th>\n",
              "      <th>Shots</th>\n",
              "      <th>SoT</th>\n",
              "      <th>SoT%</th>\n",
              "      <th>Shots per game</th>\n",
              "      <th>SoT per game</th>\n",
              "      <th>G/Sh</th>\n",
              "      <th>G/SoT</th>\n",
              "      <th>Dist</th>\n",
              "      <th>FK</th>\n",
              "      <th>PK</th>\n",
              "      <th>PKatt</th>\n",
              "      <th>Exp_Goals</th>\n",
              "      <th>npxG</th>\n",
              "      <th>npxG/Sh</th>\n",
              "    </tr>\n",
              "  </thead>\n",
              "  <tbody>\n",
              "    <tr>\n",
              "      <th>26</th>\n",
              "      <td>Elliot Anderson</td>\n",
              "      <td>SCO</td>\n",
              "      <td>MF</td>\n",
              "      <td>Newcastle Utd</td>\n",
              "      <td>17</td>\n",
              "      <td>0.0</td>\n",
              "      <td>0</td>\n",
              "      <td>0</td>\n",
              "      <td>0</td>\n",
              "      <td>NaN</td>\n",
              "      <td>0.00</td>\n",
              "      <td>0.00</td>\n",
              "      <td>NaN</td>\n",
              "      <td>NaN</td>\n",
              "      <td>NaN</td>\n",
              "      <td>0</td>\n",
              "      <td>0</td>\n",
              "      <td>0</td>\n",
              "      <td>0.0</td>\n",
              "      <td>0.0</td>\n",
              "      <td>NaN</td>\n",
              "    </tr>\n",
              "    <tr>\n",
              "      <th>27</th>\n",
              "      <td>Felipe Anderson</td>\n",
              "      <td>BRA</td>\n",
              "      <td>FW</td>\n",
              "      <td>West Ham</td>\n",
              "      <td>27</td>\n",
              "      <td>0.0</td>\n",
              "      <td>0</td>\n",
              "      <td>0</td>\n",
              "      <td>0</td>\n",
              "      <td>NaN</td>\n",
              "      <td>0.00</td>\n",
              "      <td>0.00</td>\n",
              "      <td>NaN</td>\n",
              "      <td>NaN</td>\n",
              "      <td>NaN</td>\n",
              "      <td>0</td>\n",
              "      <td>0</td>\n",
              "      <td>0</td>\n",
              "      <td>0.0</td>\n",
              "      <td>0.0</td>\n",
              "      <td>NaN</td>\n",
              "    </tr>\n",
              "    <tr>\n",
              "      <th>34</th>\n",
              "      <td>Charlie Austin</td>\n",
              "      <td>ENG</td>\n",
              "      <td>FW</td>\n",
              "      <td>West Brom</td>\n",
              "      <td>31</td>\n",
              "      <td>1.5</td>\n",
              "      <td>0</td>\n",
              "      <td>3</td>\n",
              "      <td>0</td>\n",
              "      <td>0.0</td>\n",
              "      <td>1.96</td>\n",
              "      <td>0.00</td>\n",
              "      <td>0.00</td>\n",
              "      <td>NaN</td>\n",
              "      <td>19.3</td>\n",
              "      <td>0</td>\n",
              "      <td>0</td>\n",
              "      <td>0</td>\n",
              "      <td>0.2</td>\n",
              "      <td>0.2</td>\n",
              "      <td>0.07</td>\n",
              "    </tr>\n",
              "    <tr>\n",
              "      <th>38</th>\n",
              "      <td>Eric Bailly</td>\n",
              "      <td>CIV</td>\n",
              "      <td>DF</td>\n",
              "      <td>Manchester Utd</td>\n",
              "      <td>26</td>\n",
              "      <td>10.2</td>\n",
              "      <td>0</td>\n",
              "      <td>2</td>\n",
              "      <td>0</td>\n",
              "      <td>0.0</td>\n",
              "      <td>0.20</td>\n",
              "      <td>0.00</td>\n",
              "      <td>0.00</td>\n",
              "      <td>NaN</td>\n",
              "      <td>10.0</td>\n",
              "      <td>0</td>\n",
              "      <td>0</td>\n",
              "      <td>0</td>\n",
              "      <td>0.1</td>\n",
              "      <td>0.1</td>\n",
              "      <td>0.05</td>\n",
              "    </tr>\n",
              "    <tr>\n",
              "      <th>43</th>\n",
              "      <td>Phil Bardsley</td>\n",
              "      <td>SCO</td>\n",
              "      <td>DF</td>\n",
              "      <td>Burnley</td>\n",
              "      <td>35</td>\n",
              "      <td>3.0</td>\n",
              "      <td>0</td>\n",
              "      <td>4</td>\n",
              "      <td>0</td>\n",
              "      <td>0.0</td>\n",
              "      <td>1.31</td>\n",
              "      <td>0.00</td>\n",
              "      <td>0.00</td>\n",
              "      <td>NaN</td>\n",
              "      <td>25.8</td>\n",
              "      <td>0</td>\n",
              "      <td>0</td>\n",
              "      <td>0</td>\n",
              "      <td>0.1</td>\n",
              "      <td>0.1</td>\n",
              "      <td>0.03</td>\n",
              "    </tr>\n",
              "  </tbody>\n",
              "</table>\n",
              "</div>\n",
              "      <button class=\"colab-df-convert\" onclick=\"convertToInteractive('df-2c246a55-3a3d-41a3-8356-2e8fc7771ab1')\"\n",
              "              title=\"Convert this dataframe to an interactive table.\"\n",
              "              style=\"display:none;\">\n",
              "        \n",
              "  <svg xmlns=\"http://www.w3.org/2000/svg\" height=\"24px\"viewBox=\"0 0 24 24\"\n",
              "       width=\"24px\">\n",
              "    <path d=\"M0 0h24v24H0V0z\" fill=\"none\"/>\n",
              "    <path d=\"M18.56 5.44l.94 2.06.94-2.06 2.06-.94-2.06-.94-.94-2.06-.94 2.06-2.06.94zm-11 1L8.5 8.5l.94-2.06 2.06-.94-2.06-.94L8.5 2.5l-.94 2.06-2.06.94zm10 10l.94 2.06.94-2.06 2.06-.94-2.06-.94-.94-2.06-.94 2.06-2.06.94z\"/><path d=\"M17.41 7.96l-1.37-1.37c-.4-.4-.92-.59-1.43-.59-.52 0-1.04.2-1.43.59L10.3 9.45l-7.72 7.72c-.78.78-.78 2.05 0 2.83L4 21.41c.39.39.9.59 1.41.59.51 0 1.02-.2 1.41-.59l7.78-7.78 2.81-2.81c.8-.78.8-2.07 0-2.86zM5.41 20L4 18.59l7.72-7.72 1.47 1.35L5.41 20z\"/>\n",
              "  </svg>\n",
              "      </button>\n",
              "      \n",
              "  <style>\n",
              "    .colab-df-container {\n",
              "      display:flex;\n",
              "      flex-wrap:wrap;\n",
              "      gap: 12px;\n",
              "    }\n",
              "\n",
              "    .colab-df-convert {\n",
              "      background-color: #E8F0FE;\n",
              "      border: none;\n",
              "      border-radius: 50%;\n",
              "      cursor: pointer;\n",
              "      display: none;\n",
              "      fill: #1967D2;\n",
              "      height: 32px;\n",
              "      padding: 0 0 0 0;\n",
              "      width: 32px;\n",
              "    }\n",
              "\n",
              "    .colab-df-convert:hover {\n",
              "      background-color: #E2EBFA;\n",
              "      box-shadow: 0px 1px 2px rgba(60, 64, 67, 0.3), 0px 1px 3px 1px rgba(60, 64, 67, 0.15);\n",
              "      fill: #174EA6;\n",
              "    }\n",
              "\n",
              "    [theme=dark] .colab-df-convert {\n",
              "      background-color: #3B4455;\n",
              "      fill: #D2E3FC;\n",
              "    }\n",
              "\n",
              "    [theme=dark] .colab-df-convert:hover {\n",
              "      background-color: #434B5C;\n",
              "      box-shadow: 0px 1px 3px 1px rgba(0, 0, 0, 0.15);\n",
              "      filter: drop-shadow(0px 1px 2px rgba(0, 0, 0, 0.3));\n",
              "      fill: #FFFFFF;\n",
              "    }\n",
              "  </style>\n",
              "\n",
              "      <script>\n",
              "        const buttonEl =\n",
              "          document.querySelector('#df-2c246a55-3a3d-41a3-8356-2e8fc7771ab1 button.colab-df-convert');\n",
              "        buttonEl.style.display =\n",
              "          google.colab.kernel.accessAllowed ? 'block' : 'none';\n",
              "\n",
              "        async function convertToInteractive(key) {\n",
              "          const element = document.querySelector('#df-2c246a55-3a3d-41a3-8356-2e8fc7771ab1');\n",
              "          const dataTable =\n",
              "            await google.colab.kernel.invokeFunction('convertToInteractive',\n",
              "                                                     [key], {});\n",
              "          if (!dataTable) return;\n",
              "\n",
              "          const docLinkHtml = 'Like what you see? Visit the ' +\n",
              "            '<a target=\"_blank\" href=https://colab.research.google.com/notebooks/data_table.ipynb>data table notebook</a>'\n",
              "            + ' to learn more about interactive tables.';\n",
              "          element.innerHTML = '';\n",
              "          dataTable['output_type'] = 'display_data';\n",
              "          await google.colab.output.renderOutput(dataTable, element);\n",
              "          const docLink = document.createElement('div');\n",
              "          docLink.innerHTML = docLinkHtml;\n",
              "          element.appendChild(docLink);\n",
              "        }\n",
              "      </script>\n",
              "    </div>\n",
              "  </div>\n",
              "  "
            ],
            "text/plain": [
              "0            Player Nation Position  ... Exp_Goals npxG npxG/Sh\n",
              "26  Elliot Anderson    SCO       MF  ...       0.0  0.0     NaN\n",
              "27  Felipe Anderson    BRA       FW  ...       0.0  0.0     NaN\n",
              "34   Charlie Austin    ENG       FW  ...       0.2  0.2    0.07\n",
              "38      Eric Bailly    CIV       DF  ...       0.1  0.1    0.05\n",
              "43    Phil Bardsley    SCO       DF  ...       0.1  0.1    0.03\n",
              "\n",
              "[5 rows x 21 columns]"
            ]
          },
          "metadata": {},
          "execution_count": 218
        }
      ]
    },
    {
      "cell_type": "code",
      "source": [
        "df = df.fillna(0) # Replacing NaN values with 0\n",
        "df[df.isna().any(axis=1)] # Output -> *Notice: There are no more NaN values*"
      ],
      "metadata": {
        "colab": {
          "base_uri": "https://localhost:8080/",
          "height": 93
        },
        "id": "51ASdB-oDh9e",
        "outputId": "676d1b97-b75b-43c1-be2e-c6aaf4475cf9"
      },
      "execution_count": null,
      "outputs": [
        {
          "output_type": "execute_result",
          "data": {
            "text/html": [
              "\n",
              "  <div id=\"df-c39c0db2-98fa-4d7f-9e71-0125f9cd78c0\">\n",
              "    <div class=\"colab-df-container\">\n",
              "      <div>\n",
              "<style scoped>\n",
              "    .dataframe tbody tr th:only-of-type {\n",
              "        vertical-align: middle;\n",
              "    }\n",
              "\n",
              "    .dataframe tbody tr th {\n",
              "        vertical-align: top;\n",
              "    }\n",
              "\n",
              "    .dataframe thead th {\n",
              "        text-align: right;\n",
              "    }\n",
              "</style>\n",
              "<table border=\"1\" class=\"dataframe\">\n",
              "  <thead>\n",
              "    <tr style=\"text-align: right;\">\n",
              "      <th></th>\n",
              "      <th>Player</th>\n",
              "      <th>Nation</th>\n",
              "      <th>Position</th>\n",
              "      <th>Team</th>\n",
              "      <th>Age</th>\n",
              "      <th>90s</th>\n",
              "      <th>Goals</th>\n",
              "      <th>Shots</th>\n",
              "      <th>SoT</th>\n",
              "      <th>SoT%</th>\n",
              "      <th>Shots per game</th>\n",
              "      <th>SoT per game</th>\n",
              "      <th>G/Sh</th>\n",
              "      <th>G/SoT</th>\n",
              "      <th>Dist</th>\n",
              "      <th>FK</th>\n",
              "      <th>PK</th>\n",
              "      <th>PKatt</th>\n",
              "      <th>Exp_Goals</th>\n",
              "      <th>npxG</th>\n",
              "      <th>npxG/Sh</th>\n",
              "    </tr>\n",
              "  </thead>\n",
              "  <tbody>\n",
              "  </tbody>\n",
              "</table>\n",
              "</div>\n",
              "      <button class=\"colab-df-convert\" onclick=\"convertToInteractive('df-c39c0db2-98fa-4d7f-9e71-0125f9cd78c0')\"\n",
              "              title=\"Convert this dataframe to an interactive table.\"\n",
              "              style=\"display:none;\">\n",
              "        \n",
              "  <svg xmlns=\"http://www.w3.org/2000/svg\" height=\"24px\"viewBox=\"0 0 24 24\"\n",
              "       width=\"24px\">\n",
              "    <path d=\"M0 0h24v24H0V0z\" fill=\"none\"/>\n",
              "    <path d=\"M18.56 5.44l.94 2.06.94-2.06 2.06-.94-2.06-.94-.94-2.06-.94 2.06-2.06.94zm-11 1L8.5 8.5l.94-2.06 2.06-.94-2.06-.94L8.5 2.5l-.94 2.06-2.06.94zm10 10l.94 2.06.94-2.06 2.06-.94-2.06-.94-.94-2.06-.94 2.06-2.06.94z\"/><path d=\"M17.41 7.96l-1.37-1.37c-.4-.4-.92-.59-1.43-.59-.52 0-1.04.2-1.43.59L10.3 9.45l-7.72 7.72c-.78.78-.78 2.05 0 2.83L4 21.41c.39.39.9.59 1.41.59.51 0 1.02-.2 1.41-.59l7.78-7.78 2.81-2.81c.8-.78.8-2.07 0-2.86zM5.41 20L4 18.59l7.72-7.72 1.47 1.35L5.41 20z\"/>\n",
              "  </svg>\n",
              "      </button>\n",
              "      \n",
              "  <style>\n",
              "    .colab-df-container {\n",
              "      display:flex;\n",
              "      flex-wrap:wrap;\n",
              "      gap: 12px;\n",
              "    }\n",
              "\n",
              "    .colab-df-convert {\n",
              "      background-color: #E8F0FE;\n",
              "      border: none;\n",
              "      border-radius: 50%;\n",
              "      cursor: pointer;\n",
              "      display: none;\n",
              "      fill: #1967D2;\n",
              "      height: 32px;\n",
              "      padding: 0 0 0 0;\n",
              "      width: 32px;\n",
              "    }\n",
              "\n",
              "    .colab-df-convert:hover {\n",
              "      background-color: #E2EBFA;\n",
              "      box-shadow: 0px 1px 2px rgba(60, 64, 67, 0.3), 0px 1px 3px 1px rgba(60, 64, 67, 0.15);\n",
              "      fill: #174EA6;\n",
              "    }\n",
              "\n",
              "    [theme=dark] .colab-df-convert {\n",
              "      background-color: #3B4455;\n",
              "      fill: #D2E3FC;\n",
              "    }\n",
              "\n",
              "    [theme=dark] .colab-df-convert:hover {\n",
              "      background-color: #434B5C;\n",
              "      box-shadow: 0px 1px 3px 1px rgba(0, 0, 0, 0.15);\n",
              "      filter: drop-shadow(0px 1px 2px rgba(0, 0, 0, 0.3));\n",
              "      fill: #FFFFFF;\n",
              "    }\n",
              "  </style>\n",
              "\n",
              "      <script>\n",
              "        const buttonEl =\n",
              "          document.querySelector('#df-c39c0db2-98fa-4d7f-9e71-0125f9cd78c0 button.colab-df-convert');\n",
              "        buttonEl.style.display =\n",
              "          google.colab.kernel.accessAllowed ? 'block' : 'none';\n",
              "\n",
              "        async function convertToInteractive(key) {\n",
              "          const element = document.querySelector('#df-c39c0db2-98fa-4d7f-9e71-0125f9cd78c0');\n",
              "          const dataTable =\n",
              "            await google.colab.kernel.invokeFunction('convertToInteractive',\n",
              "                                                     [key], {});\n",
              "          if (!dataTable) return;\n",
              "\n",
              "          const docLinkHtml = 'Like what you see? Visit the ' +\n",
              "            '<a target=\"_blank\" href=https://colab.research.google.com/notebooks/data_table.ipynb>data table notebook</a>'\n",
              "            + ' to learn more about interactive tables.';\n",
              "          element.innerHTML = '';\n",
              "          dataTable['output_type'] = 'display_data';\n",
              "          await google.colab.output.renderOutput(dataTable, element);\n",
              "          const docLink = document.createElement('div');\n",
              "          docLink.innerHTML = docLinkHtml;\n",
              "          element.appendChild(docLink);\n",
              "        }\n",
              "      </script>\n",
              "    </div>\n",
              "  </div>\n",
              "  "
            ],
            "text/plain": [
              "Empty DataFrame\n",
              "Columns: [Player, Nation, Position, Team, Age, 90s, Goals, Shots, SoT, SoT%, Shots per game, SoT per game, G/Sh, G/SoT, Dist, FK, PK, PKatt, Exp_Goals, npxG, npxG/Sh]\n",
              "Index: []"
            ]
          },
          "metadata": {},
          "execution_count": 219
        }
      ]
    },
    {
      "cell_type": "markdown",
      "source": [
        "Lastly, we had to make sure the values in each cell were of the proper type:\n",
        "10. Change the data types for certain columns\n",
        "  * All data was in the form of 'String' and some of the columns had to be changed to int or float data types\n"
      ],
      "metadata": {
        "id": "EUlwiybLgz_m"
      }
    },
    {
      "cell_type": "code",
      "source": [
        "int_cols = [\"Age\", \"Goals\", \"SoT\", \"FK\", \"PK\", \"PKatt\"] # These columns should be changed to type int\n",
        "no_change_cols = ['Player', \"Nation\", \"Position\", \"Team\"] # These columns types should not be changed \n",
        "for cols in df.columns: \n",
        "  if not cols in no_change_cols: # If the column is not in the 'no_change_cols' array\n",
        "    if cols in int_cols: # If it should be converted to type int\n",
        "       df[cols] = df[cols].astype(int)\n",
        "    else: # If it should not be converted to type int, then it will be converted to type float\n",
        "      df[cols] = df[cols].astype(float)\n",
        "df # Final output for what the cleaned data should be"
      ],
      "metadata": {
        "id": "nlZuJ_WsGm2z",
        "colab": {
          "base_uri": "https://localhost:8080/",
          "height": 589
        },
        "outputId": "98440da5-f221-4b29-e567-c316334d1bd7"
      },
      "execution_count": null,
      "outputs": [
        {
          "output_type": "execute_result",
          "data": {
            "text/html": [
              "\n",
              "  <div id=\"df-bcb02faf-f4e7-4165-bd74-9121a77d5f7b\">\n",
              "    <div class=\"colab-df-container\">\n",
              "      <div>\n",
              "<style scoped>\n",
              "    .dataframe tbody tr th:only-of-type {\n",
              "        vertical-align: middle;\n",
              "    }\n",
              "\n",
              "    .dataframe tbody tr th {\n",
              "        vertical-align: top;\n",
              "    }\n",
              "\n",
              "    .dataframe thead th {\n",
              "        text-align: right;\n",
              "    }\n",
              "</style>\n",
              "<table border=\"1\" class=\"dataframe\">\n",
              "  <thead>\n",
              "    <tr style=\"text-align: right;\">\n",
              "      <th></th>\n",
              "      <th>Player</th>\n",
              "      <th>Nation</th>\n",
              "      <th>Position</th>\n",
              "      <th>Team</th>\n",
              "      <th>Age</th>\n",
              "      <th>90s</th>\n",
              "      <th>Goals</th>\n",
              "      <th>Shots</th>\n",
              "      <th>SoT</th>\n",
              "      <th>SoT%</th>\n",
              "      <th>Shots per game</th>\n",
              "      <th>SoT per game</th>\n",
              "      <th>G/Sh</th>\n",
              "      <th>G/SoT</th>\n",
              "      <th>Dist</th>\n",
              "      <th>FK</th>\n",
              "      <th>PK</th>\n",
              "      <th>PKatt</th>\n",
              "      <th>Exp_Goals</th>\n",
              "      <th>npxG</th>\n",
              "      <th>npxG/Sh</th>\n",
              "    </tr>\n",
              "  </thead>\n",
              "  <tbody>\n",
              "    <tr>\n",
              "      <th>1</th>\n",
              "      <td>Patrick van Aanholt</td>\n",
              "      <td>NED</td>\n",
              "      <td>DF</td>\n",
              "      <td>Crystal Palace</td>\n",
              "      <td>29</td>\n",
              "      <td>19.7</td>\n",
              "      <td>0</td>\n",
              "      <td>18.0</td>\n",
              "      <td>6</td>\n",
              "      <td>33.3</td>\n",
              "      <td>0.91</td>\n",
              "      <td>0.30</td>\n",
              "      <td>0.00</td>\n",
              "      <td>0.00</td>\n",
              "      <td>20.3</td>\n",
              "      <td>3</td>\n",
              "      <td>0</td>\n",
              "      <td>0</td>\n",
              "      <td>1.2</td>\n",
              "      <td>1.2</td>\n",
              "      <td>0.07</td>\n",
              "    </tr>\n",
              "    <tr>\n",
              "      <th>2</th>\n",
              "      <td>Tammy Abraham</td>\n",
              "      <td>ENG</td>\n",
              "      <td>FW</td>\n",
              "      <td>Chelsea</td>\n",
              "      <td>22</td>\n",
              "      <td>11.6</td>\n",
              "      <td>6</td>\n",
              "      <td>32.0</td>\n",
              "      <td>13</td>\n",
              "      <td>40.6</td>\n",
              "      <td>2.77</td>\n",
              "      <td>1.13</td>\n",
              "      <td>0.19</td>\n",
              "      <td>0.46</td>\n",
              "      <td>9.7</td>\n",
              "      <td>0</td>\n",
              "      <td>0</td>\n",
              "      <td>0</td>\n",
              "      <td>6.4</td>\n",
              "      <td>6.4</td>\n",
              "      <td>0.20</td>\n",
              "    </tr>\n",
              "    <tr>\n",
              "      <th>3</th>\n",
              "      <td>Che Adams</td>\n",
              "      <td>SCO</td>\n",
              "      <td>FW</td>\n",
              "      <td>Southampton</td>\n",
              "      <td>24</td>\n",
              "      <td>29.6</td>\n",
              "      <td>9</td>\n",
              "      <td>56.0</td>\n",
              "      <td>31</td>\n",
              "      <td>55.4</td>\n",
              "      <td>1.89</td>\n",
              "      <td>1.05</td>\n",
              "      <td>0.16</td>\n",
              "      <td>0.29</td>\n",
              "      <td>13.1</td>\n",
              "      <td>0</td>\n",
              "      <td>0</td>\n",
              "      <td>0</td>\n",
              "      <td>8.8</td>\n",
              "      <td>8.8</td>\n",
              "      <td>0.16</td>\n",
              "    </tr>\n",
              "    <tr>\n",
              "      <th>4</th>\n",
              "      <td>Tosin Adarabioyo</td>\n",
              "      <td>ENG</td>\n",
              "      <td>DF</td>\n",
              "      <td>Fulham</td>\n",
              "      <td>22</td>\n",
              "      <td>32.8</td>\n",
              "      <td>0</td>\n",
              "      <td>20.0</td>\n",
              "      <td>5</td>\n",
              "      <td>25.0</td>\n",
              "      <td>0.61</td>\n",
              "      <td>0.15</td>\n",
              "      <td>0.00</td>\n",
              "      <td>0.00</td>\n",
              "      <td>8.8</td>\n",
              "      <td>0</td>\n",
              "      <td>0</td>\n",
              "      <td>0</td>\n",
              "      <td>1.1</td>\n",
              "      <td>1.1</td>\n",
              "      <td>0.05</td>\n",
              "    </tr>\n",
              "    <tr>\n",
              "      <th>6</th>\n",
              "      <td>Sergio Agüero</td>\n",
              "      <td>ARG</td>\n",
              "      <td>FW</td>\n",
              "      <td>Manchester City</td>\n",
              "      <td>32</td>\n",
              "      <td>6.2</td>\n",
              "      <td>4</td>\n",
              "      <td>17.0</td>\n",
              "      <td>10</td>\n",
              "      <td>58.8</td>\n",
              "      <td>2.74</td>\n",
              "      <td>1.61</td>\n",
              "      <td>0.18</td>\n",
              "      <td>0.30</td>\n",
              "      <td>13.9</td>\n",
              "      <td>0</td>\n",
              "      <td>1</td>\n",
              "      <td>2</td>\n",
              "      <td>3.4</td>\n",
              "      <td>1.8</td>\n",
              "      <td>0.11</td>\n",
              "    </tr>\n",
              "    <tr>\n",
              "      <th>...</th>\n",
              "      <td>...</td>\n",
              "      <td>...</td>\n",
              "      <td>...</td>\n",
              "      <td>...</td>\n",
              "      <td>...</td>\n",
              "      <td>...</td>\n",
              "      <td>...</td>\n",
              "      <td>...</td>\n",
              "      <td>...</td>\n",
              "      <td>...</td>\n",
              "      <td>...</td>\n",
              "      <td>...</td>\n",
              "      <td>...</td>\n",
              "      <td>...</td>\n",
              "      <td>...</td>\n",
              "      <td>...</td>\n",
              "      <td>...</td>\n",
              "      <td>...</td>\n",
              "      <td>...</td>\n",
              "      <td>...</td>\n",
              "      <td>...</td>\n",
              "    </tr>\n",
              "    <tr>\n",
              "      <th>528</th>\n",
              "      <td>Andi Zeqiri</td>\n",
              "      <td>SUI</td>\n",
              "      <td>FW</td>\n",
              "      <td>Brighton</td>\n",
              "      <td>21</td>\n",
              "      <td>1.9</td>\n",
              "      <td>0</td>\n",
              "      <td>7.0</td>\n",
              "      <td>2</td>\n",
              "      <td>28.6</td>\n",
              "      <td>3.68</td>\n",
              "      <td>1.05</td>\n",
              "      <td>0.00</td>\n",
              "      <td>0.00</td>\n",
              "      <td>13.1</td>\n",
              "      <td>0</td>\n",
              "      <td>0</td>\n",
              "      <td>0</td>\n",
              "      <td>0.6</td>\n",
              "      <td>0.6</td>\n",
              "      <td>0.09</td>\n",
              "    </tr>\n",
              "    <tr>\n",
              "      <th>529</th>\n",
              "      <td>Oleksandr Zinchenko</td>\n",
              "      <td>UKR</td>\n",
              "      <td>DF</td>\n",
              "      <td>Manchester City</td>\n",
              "      <td>23</td>\n",
              "      <td>16.4</td>\n",
              "      <td>0</td>\n",
              "      <td>16.0</td>\n",
              "      <td>4</td>\n",
              "      <td>25.0</td>\n",
              "      <td>0.97</td>\n",
              "      <td>0.24</td>\n",
              "      <td>0.00</td>\n",
              "      <td>0.00</td>\n",
              "      <td>21.9</td>\n",
              "      <td>1</td>\n",
              "      <td>0</td>\n",
              "      <td>0</td>\n",
              "      <td>0.7</td>\n",
              "      <td>0.7</td>\n",
              "      <td>0.05</td>\n",
              "    </tr>\n",
              "    <tr>\n",
              "      <th>530</th>\n",
              "      <td>Hakim Ziyech</td>\n",
              "      <td>MAR</td>\n",
              "      <td>FW</td>\n",
              "      <td>Chelsea</td>\n",
              "      <td>27</td>\n",
              "      <td>13.0</td>\n",
              "      <td>2</td>\n",
              "      <td>35.0</td>\n",
              "      <td>12</td>\n",
              "      <td>34.3</td>\n",
              "      <td>2.69</td>\n",
              "      <td>0.92</td>\n",
              "      <td>0.06</td>\n",
              "      <td>0.17</td>\n",
              "      <td>21.8</td>\n",
              "      <td>0</td>\n",
              "      <td>0</td>\n",
              "      <td>0</td>\n",
              "      <td>1.9</td>\n",
              "      <td>1.9</td>\n",
              "      <td>0.05</td>\n",
              "    </tr>\n",
              "    <tr>\n",
              "      <th>531</th>\n",
              "      <td>Kurt Zouma</td>\n",
              "      <td>FRA</td>\n",
              "      <td>DF</td>\n",
              "      <td>Chelsea</td>\n",
              "      <td>25</td>\n",
              "      <td>22.5</td>\n",
              "      <td>5</td>\n",
              "      <td>27.0</td>\n",
              "      <td>12</td>\n",
              "      <td>44.4</td>\n",
              "      <td>1.20</td>\n",
              "      <td>0.53</td>\n",
              "      <td>0.19</td>\n",
              "      <td>0.42</td>\n",
              "      <td>12.2</td>\n",
              "      <td>0</td>\n",
              "      <td>0</td>\n",
              "      <td>0</td>\n",
              "      <td>1.8</td>\n",
              "      <td>1.8</td>\n",
              "      <td>0.07</td>\n",
              "    </tr>\n",
              "    <tr>\n",
              "      <th>532</th>\n",
              "      <td>Martin Ødegaard</td>\n",
              "      <td>NOR</td>\n",
              "      <td>MF</td>\n",
              "      <td>Arsenal</td>\n",
              "      <td>21</td>\n",
              "      <td>9.6</td>\n",
              "      <td>1</td>\n",
              "      <td>15.0</td>\n",
              "      <td>3</td>\n",
              "      <td>20.0</td>\n",
              "      <td>1.56</td>\n",
              "      <td>0.31</td>\n",
              "      <td>0.07</td>\n",
              "      <td>0.33</td>\n",
              "      <td>20.5</td>\n",
              "      <td>1</td>\n",
              "      <td>0</td>\n",
              "      <td>0</td>\n",
              "      <td>1.1</td>\n",
              "      <td>1.1</td>\n",
              "      <td>0.07</td>\n",
              "    </tr>\n",
              "  </tbody>\n",
              "</table>\n",
              "<p>490 rows × 21 columns</p>\n",
              "</div>\n",
              "      <button class=\"colab-df-convert\" onclick=\"convertToInteractive('df-bcb02faf-f4e7-4165-bd74-9121a77d5f7b')\"\n",
              "              title=\"Convert this dataframe to an interactive table.\"\n",
              "              style=\"display:none;\">\n",
              "        \n",
              "  <svg xmlns=\"http://www.w3.org/2000/svg\" height=\"24px\"viewBox=\"0 0 24 24\"\n",
              "       width=\"24px\">\n",
              "    <path d=\"M0 0h24v24H0V0z\" fill=\"none\"/>\n",
              "    <path d=\"M18.56 5.44l.94 2.06.94-2.06 2.06-.94-2.06-.94-.94-2.06-.94 2.06-2.06.94zm-11 1L8.5 8.5l.94-2.06 2.06-.94-2.06-.94L8.5 2.5l-.94 2.06-2.06.94zm10 10l.94 2.06.94-2.06 2.06-.94-2.06-.94-.94-2.06-.94 2.06-2.06.94z\"/><path d=\"M17.41 7.96l-1.37-1.37c-.4-.4-.92-.59-1.43-.59-.52 0-1.04.2-1.43.59L10.3 9.45l-7.72 7.72c-.78.78-.78 2.05 0 2.83L4 21.41c.39.39.9.59 1.41.59.51 0 1.02-.2 1.41-.59l7.78-7.78 2.81-2.81c.8-.78.8-2.07 0-2.86zM5.41 20L4 18.59l7.72-7.72 1.47 1.35L5.41 20z\"/>\n",
              "  </svg>\n",
              "      </button>\n",
              "      \n",
              "  <style>\n",
              "    .colab-df-container {\n",
              "      display:flex;\n",
              "      flex-wrap:wrap;\n",
              "      gap: 12px;\n",
              "    }\n",
              "\n",
              "    .colab-df-convert {\n",
              "      background-color: #E8F0FE;\n",
              "      border: none;\n",
              "      border-radius: 50%;\n",
              "      cursor: pointer;\n",
              "      display: none;\n",
              "      fill: #1967D2;\n",
              "      height: 32px;\n",
              "      padding: 0 0 0 0;\n",
              "      width: 32px;\n",
              "    }\n",
              "\n",
              "    .colab-df-convert:hover {\n",
              "      background-color: #E2EBFA;\n",
              "      box-shadow: 0px 1px 2px rgba(60, 64, 67, 0.3), 0px 1px 3px 1px rgba(60, 64, 67, 0.15);\n",
              "      fill: #174EA6;\n",
              "    }\n",
              "\n",
              "    [theme=dark] .colab-df-convert {\n",
              "      background-color: #3B4455;\n",
              "      fill: #D2E3FC;\n",
              "    }\n",
              "\n",
              "    [theme=dark] .colab-df-convert:hover {\n",
              "      background-color: #434B5C;\n",
              "      box-shadow: 0px 1px 3px 1px rgba(0, 0, 0, 0.15);\n",
              "      filter: drop-shadow(0px 1px 2px rgba(0, 0, 0, 0.3));\n",
              "      fill: #FFFFFF;\n",
              "    }\n",
              "  </style>\n",
              "\n",
              "      <script>\n",
              "        const buttonEl =\n",
              "          document.querySelector('#df-bcb02faf-f4e7-4165-bd74-9121a77d5f7b button.colab-df-convert');\n",
              "        buttonEl.style.display =\n",
              "          google.colab.kernel.accessAllowed ? 'block' : 'none';\n",
              "\n",
              "        async function convertToInteractive(key) {\n",
              "          const element = document.querySelector('#df-bcb02faf-f4e7-4165-bd74-9121a77d5f7b');\n",
              "          const dataTable =\n",
              "            await google.colab.kernel.invokeFunction('convertToInteractive',\n",
              "                                                     [key], {});\n",
              "          if (!dataTable) return;\n",
              "\n",
              "          const docLinkHtml = 'Like what you see? Visit the ' +\n",
              "            '<a target=\"_blank\" href=https://colab.research.google.com/notebooks/data_table.ipynb>data table notebook</a>'\n",
              "            + ' to learn more about interactive tables.';\n",
              "          element.innerHTML = '';\n",
              "          dataTable['output_type'] = 'display_data';\n",
              "          await google.colab.output.renderOutput(dataTable, element);\n",
              "          const docLink = document.createElement('div');\n",
              "          docLink.innerHTML = docLinkHtml;\n",
              "          element.appendChild(docLink);\n",
              "        }\n",
              "      </script>\n",
              "    </div>\n",
              "  </div>\n",
              "  "
            ],
            "text/plain": [
              "0                 Player Nation Position  ... Exp_Goals  npxG  npxG/Sh\n",
              "1    Patrick van Aanholt    NED       DF  ...       1.2   1.2     0.07\n",
              "2          Tammy Abraham    ENG       FW  ...       6.4   6.4     0.20\n",
              "3              Che Adams    SCO       FW  ...       8.8   8.8     0.16\n",
              "4       Tosin Adarabioyo    ENG       DF  ...       1.1   1.1     0.05\n",
              "6          Sergio Agüero    ARG       FW  ...       3.4   1.8     0.11\n",
              "..                   ...    ...      ...  ...       ...   ...      ...\n",
              "528          Andi Zeqiri    SUI       FW  ...       0.6   0.6     0.09\n",
              "529  Oleksandr Zinchenko    UKR       DF  ...       0.7   0.7     0.05\n",
              "530         Hakim Ziyech    MAR       FW  ...       1.9   1.9     0.05\n",
              "531           Kurt Zouma    FRA       DF  ...       1.8   1.8     0.07\n",
              "532      Martin Ødegaard    NOR       MF  ...       1.1   1.1     0.07\n",
              "\n",
              "[490 rows x 21 columns]"
            ]
          },
          "metadata": {},
          "execution_count": 220
        }
      ]
    },
    {
      "cell_type": "markdown",
      "source": [
        "**Part 2:**\n",
        " \n",
        "This is part 2 of data cleaning. Essentially, the following code does the same thing as the last part; however, this time we will add the 2017-18, 2018-19, and 2019-20 seasons to the data frame including the 2020-21 season. In addition to the previous steps, we will also be adding two new columns: \"Season\" and \"yearIndex\". In the code below, the \"Season\" column represents the season of the data frame (e.g. 2017-18, 2018-19, etc.)\n",
        "\n"
      ],
      "metadata": {
        "id": "HKTyd6F9g4tk"
      }
    },
    {
      "cell_type": "code",
      "source": [
        "df1718 = pd.read_csv(\"playershooting1718.csv\") # Loading new dataframe (2017-18)\n",
        "df1718['Season'] = \"2017-18\" # Creating 'Season' column for 2017-18 data frame\n",
        "\n",
        "df1819 = pd.read_csv(\"playershooting1819.csv\") # Loading new dataframe (2018-19)\n",
        "df1819['Season'] = \"2018-19\" # Creating 'Season' column for 2018-19 data frame\n",
        "\n",
        "df1920 = pd.read_csv(\"playershooting1920.csv\") # Loading new dataframe (2019-20)\n",
        "df1920['Season'] = \"2019-20\" # Creating 'Season' column for 2019-20 data frame\n",
        "\n",
        "# A new data frame with only players who have scored; Season 2020-21\n",
        "only_goals_df = df.loc[df['Goals'] >= 1] \n",
        "\n",
        "df2021 = df # Copying 2020-21 data frame to new data frame\n",
        "df2021['Season'] = \"2020-21\" # Creating 'Season' column for 2020-21 data frame\n",
        "\n",
        "dfhist = pd.concat([df1718,df1819,df1920]) # Add all the data frames to dfhist\n",
        "\n",
        "# Clean all the data using the steps shown in part 1\n",
        "dfhist.columns = dfhist.iloc[0]\n",
        "dfhist = dfhist.drop(0)\n",
        "dfhist = dfhist.drop(['Rk'], axis=1)\n",
        "dfhist['Player'] = dfhist['Player'].str.split(pat=\"\\\\\").str[0]\n",
        "dfhist['Nation'] = dfhist['Nation'].str.replace(r'[a-z]', '')\n",
        "dfhist['Pos'] = dfhist['Pos'].str[:2]\n",
        "dfhist=dfhist.drop(columns = [\"Born\", \"G-xG\", \"np:G-xG\", \"Matches\"])\n",
        "dfhist.rename(columns={\"Sh/90\": \"Shots per game\", \"SoT/90\": \"SoT per game\", \"Pos\": \"Position\", \"Squad\": \"Team\", \"Gls\": \"Goals\", \"Sh\": \"Shots\", \"xG\": \"Exp_Goals\",\"2017-18\":\"Season\"}, inplace=True)\n",
        "dfhist = dfhist.reset_index(drop=True)\n",
        "\n",
        "for index, row in dfhist.iterrows():\n",
        "    if row['Position'] == 'GK':\n",
        "        dfhist = dfhist.drop(index)\n",
        "\n",
        "dfhist = dfhist.fillna(0)\n",
        "int_cols = [\"Age\", \"Goals\", \"SoT\", \"FK\", \"PK\", \"PKatt\"]\n",
        "no_change_cols = ['Player', \"Nation\", \"Position\", \"Team\",\"Season\"]\n",
        "\n",
        "for cols in dfhist.columns: \n",
        "  if not cols in no_change_cols:\n",
        "    if cols in int_cols: \n",
        "       dfhist[cols] = dfhist[cols].astype(int)\n",
        "    else: \n",
        "      dfhist[cols] = dfhist[cols].astype(float)\n",
        "\n",
        "dfhist = pd.concat([dfhist,df])\n",
        "dfhist.head()"
      ],
      "metadata": {
        "colab": {
          "base_uri": "https://localhost:8080/",
          "height": 372
        },
        "id": "-cgciI2G8sgH",
        "outputId": "f251efed-34d4-4fe4-f2ad-d7c78aac4d52"
      },
      "execution_count": null,
      "outputs": [
        {
          "output_type": "execute_result",
          "data": {
            "text/html": [
              "\n",
              "  <div id=\"df-e99499c9-1e7a-4a8b-91a3-f80147faa6cf\">\n",
              "    <div class=\"colab-df-container\">\n",
              "      <div>\n",
              "<style scoped>\n",
              "    .dataframe tbody tr th:only-of-type {\n",
              "        vertical-align: middle;\n",
              "    }\n",
              "\n",
              "    .dataframe tbody tr th {\n",
              "        vertical-align: top;\n",
              "    }\n",
              "\n",
              "    .dataframe thead th {\n",
              "        text-align: right;\n",
              "    }\n",
              "</style>\n",
              "<table border=\"1\" class=\"dataframe\">\n",
              "  <thead>\n",
              "    <tr style=\"text-align: right;\">\n",
              "      <th></th>\n",
              "      <th>Player</th>\n",
              "      <th>Nation</th>\n",
              "      <th>Position</th>\n",
              "      <th>Team</th>\n",
              "      <th>Age</th>\n",
              "      <th>90s</th>\n",
              "      <th>Goals</th>\n",
              "      <th>Shots</th>\n",
              "      <th>SoT</th>\n",
              "      <th>SoT%</th>\n",
              "      <th>Shots per game</th>\n",
              "      <th>SoT per game</th>\n",
              "      <th>G/Sh</th>\n",
              "      <th>G/SoT</th>\n",
              "      <th>Dist</th>\n",
              "      <th>FK</th>\n",
              "      <th>PK</th>\n",
              "      <th>PKatt</th>\n",
              "      <th>Exp_Goals</th>\n",
              "      <th>npxG</th>\n",
              "      <th>npxG/Sh</th>\n",
              "      <th>Season</th>\n",
              "    </tr>\n",
              "  </thead>\n",
              "  <tbody>\n",
              "    <tr>\n",
              "      <th>0</th>\n",
              "      <td>Patrick van Aanholt</td>\n",
              "      <td>NED</td>\n",
              "      <td>DF</td>\n",
              "      <td>Crystal Palace</td>\n",
              "      <td>26</td>\n",
              "      <td>24.3</td>\n",
              "      <td>5</td>\n",
              "      <td>33.0</td>\n",
              "      <td>11</td>\n",
              "      <td>33.3</td>\n",
              "      <td>1.36</td>\n",
              "      <td>0.45</td>\n",
              "      <td>0.15</td>\n",
              "      <td>0.45</td>\n",
              "      <td>22.3</td>\n",
              "      <td>4</td>\n",
              "      <td>0</td>\n",
              "      <td>0</td>\n",
              "      <td>3.4</td>\n",
              "      <td>3.4</td>\n",
              "      <td>0.10</td>\n",
              "      <td>2017-18</td>\n",
              "    </tr>\n",
              "    <tr>\n",
              "      <th>1</th>\n",
              "      <td>Rolando Aarons</td>\n",
              "      <td>ENG</td>\n",
              "      <td>FW</td>\n",
              "      <td>Newcastle Utd</td>\n",
              "      <td>21</td>\n",
              "      <td>1.5</td>\n",
              "      <td>0</td>\n",
              "      <td>2.0</td>\n",
              "      <td>0</td>\n",
              "      <td>0.0</td>\n",
              "      <td>1.29</td>\n",
              "      <td>0.00</td>\n",
              "      <td>0.00</td>\n",
              "      <td>0.00</td>\n",
              "      <td>20.6</td>\n",
              "      <td>0</td>\n",
              "      <td>0</td>\n",
              "      <td>0</td>\n",
              "      <td>0.2</td>\n",
              "      <td>0.2</td>\n",
              "      <td>0.08</td>\n",
              "      <td>2017-18</td>\n",
              "    </tr>\n",
              "    <tr>\n",
              "      <th>2</th>\n",
              "      <td>Tammy Abraham</td>\n",
              "      <td>ENG</td>\n",
              "      <td>FW</td>\n",
              "      <td>Swansea City</td>\n",
              "      <td>19</td>\n",
              "      <td>19.2</td>\n",
              "      <td>5</td>\n",
              "      <td>42.0</td>\n",
              "      <td>13</td>\n",
              "      <td>31.0</td>\n",
              "      <td>2.19</td>\n",
              "      <td>0.68</td>\n",
              "      <td>0.12</td>\n",
              "      <td>0.38</td>\n",
              "      <td>12.3</td>\n",
              "      <td>0</td>\n",
              "      <td>0</td>\n",
              "      <td>0</td>\n",
              "      <td>6.7</td>\n",
              "      <td>6.7</td>\n",
              "      <td>0.16</td>\n",
              "      <td>2017-18</td>\n",
              "    </tr>\n",
              "    <tr>\n",
              "      <th>3</th>\n",
              "      <td>Charlie Adam</td>\n",
              "      <td>SCO</td>\n",
              "      <td>MF</td>\n",
              "      <td>Stoke City</td>\n",
              "      <td>31</td>\n",
              "      <td>4.6</td>\n",
              "      <td>0</td>\n",
              "      <td>10.0</td>\n",
              "      <td>2</td>\n",
              "      <td>20.0</td>\n",
              "      <td>2.19</td>\n",
              "      <td>0.44</td>\n",
              "      <td>0.00</td>\n",
              "      <td>0.00</td>\n",
              "      <td>32.8</td>\n",
              "      <td>3</td>\n",
              "      <td>0</td>\n",
              "      <td>1</td>\n",
              "      <td>1.2</td>\n",
              "      <td>0.4</td>\n",
              "      <td>0.04</td>\n",
              "      <td>2017-18</td>\n",
              "    </tr>\n",
              "    <tr>\n",
              "      <th>5</th>\n",
              "      <td>Ibrahim Afellay</td>\n",
              "      <td>NED</td>\n",
              "      <td>MF</td>\n",
              "      <td>Stoke City</td>\n",
              "      <td>31</td>\n",
              "      <td>1.8</td>\n",
              "      <td>0</td>\n",
              "      <td>0.0</td>\n",
              "      <td>0</td>\n",
              "      <td>0.0</td>\n",
              "      <td>0.00</td>\n",
              "      <td>0.00</td>\n",
              "      <td>0.00</td>\n",
              "      <td>0.00</td>\n",
              "      <td>0.0</td>\n",
              "      <td>0</td>\n",
              "      <td>0</td>\n",
              "      <td>0</td>\n",
              "      <td>0.0</td>\n",
              "      <td>0.0</td>\n",
              "      <td>0.00</td>\n",
              "      <td>2017-18</td>\n",
              "    </tr>\n",
              "  </tbody>\n",
              "</table>\n",
              "</div>\n",
              "      <button class=\"colab-df-convert\" onclick=\"convertToInteractive('df-e99499c9-1e7a-4a8b-91a3-f80147faa6cf')\"\n",
              "              title=\"Convert this dataframe to an interactive table.\"\n",
              "              style=\"display:none;\">\n",
              "        \n",
              "  <svg xmlns=\"http://www.w3.org/2000/svg\" height=\"24px\"viewBox=\"0 0 24 24\"\n",
              "       width=\"24px\">\n",
              "    <path d=\"M0 0h24v24H0V0z\" fill=\"none\"/>\n",
              "    <path d=\"M18.56 5.44l.94 2.06.94-2.06 2.06-.94-2.06-.94-.94-2.06-.94 2.06-2.06.94zm-11 1L8.5 8.5l.94-2.06 2.06-.94-2.06-.94L8.5 2.5l-.94 2.06-2.06.94zm10 10l.94 2.06.94-2.06 2.06-.94-2.06-.94-.94-2.06-.94 2.06-2.06.94z\"/><path d=\"M17.41 7.96l-1.37-1.37c-.4-.4-.92-.59-1.43-.59-.52 0-1.04.2-1.43.59L10.3 9.45l-7.72 7.72c-.78.78-.78 2.05 0 2.83L4 21.41c.39.39.9.59 1.41.59.51 0 1.02-.2 1.41-.59l7.78-7.78 2.81-2.81c.8-.78.8-2.07 0-2.86zM5.41 20L4 18.59l7.72-7.72 1.47 1.35L5.41 20z\"/>\n",
              "  </svg>\n",
              "      </button>\n",
              "      \n",
              "  <style>\n",
              "    .colab-df-container {\n",
              "      display:flex;\n",
              "      flex-wrap:wrap;\n",
              "      gap: 12px;\n",
              "    }\n",
              "\n",
              "    .colab-df-convert {\n",
              "      background-color: #E8F0FE;\n",
              "      border: none;\n",
              "      border-radius: 50%;\n",
              "      cursor: pointer;\n",
              "      display: none;\n",
              "      fill: #1967D2;\n",
              "      height: 32px;\n",
              "      padding: 0 0 0 0;\n",
              "      width: 32px;\n",
              "    }\n",
              "\n",
              "    .colab-df-convert:hover {\n",
              "      background-color: #E2EBFA;\n",
              "      box-shadow: 0px 1px 2px rgba(60, 64, 67, 0.3), 0px 1px 3px 1px rgba(60, 64, 67, 0.15);\n",
              "      fill: #174EA6;\n",
              "    }\n",
              "\n",
              "    [theme=dark] .colab-df-convert {\n",
              "      background-color: #3B4455;\n",
              "      fill: #D2E3FC;\n",
              "    }\n",
              "\n",
              "    [theme=dark] .colab-df-convert:hover {\n",
              "      background-color: #434B5C;\n",
              "      box-shadow: 0px 1px 3px 1px rgba(0, 0, 0, 0.15);\n",
              "      filter: drop-shadow(0px 1px 2px rgba(0, 0, 0, 0.3));\n",
              "      fill: #FFFFFF;\n",
              "    }\n",
              "  </style>\n",
              "\n",
              "      <script>\n",
              "        const buttonEl =\n",
              "          document.querySelector('#df-e99499c9-1e7a-4a8b-91a3-f80147faa6cf button.colab-df-convert');\n",
              "        buttonEl.style.display =\n",
              "          google.colab.kernel.accessAllowed ? 'block' : 'none';\n",
              "\n",
              "        async function convertToInteractive(key) {\n",
              "          const element = document.querySelector('#df-e99499c9-1e7a-4a8b-91a3-f80147faa6cf');\n",
              "          const dataTable =\n",
              "            await google.colab.kernel.invokeFunction('convertToInteractive',\n",
              "                                                     [key], {});\n",
              "          if (!dataTable) return;\n",
              "\n",
              "          const docLinkHtml = 'Like what you see? Visit the ' +\n",
              "            '<a target=\"_blank\" href=https://colab.research.google.com/notebooks/data_table.ipynb>data table notebook</a>'\n",
              "            + ' to learn more about interactive tables.';\n",
              "          element.innerHTML = '';\n",
              "          dataTable['output_type'] = 'display_data';\n",
              "          await google.colab.output.renderOutput(dataTable, element);\n",
              "          const docLink = document.createElement('div');\n",
              "          docLink.innerHTML = docLinkHtml;\n",
              "          element.appendChild(docLink);\n",
              "        }\n",
              "      </script>\n",
              "    </div>\n",
              "  </div>\n",
              "  "
            ],
            "text/plain": [
              "0               Player Nation Position  ... npxG  npxG/Sh   Season\n",
              "0  Patrick van Aanholt    NED       DF  ...  3.4     0.10  2017-18\n",
              "1       Rolando Aarons    ENG       FW  ...  0.2     0.08  2017-18\n",
              "2        Tammy Abraham    ENG       FW  ...  6.7     0.16  2017-18\n",
              "3         Charlie Adam    SCO       MF  ...  0.4     0.04  2017-18\n",
              "5      Ibrahim Afellay    NED       MF  ...  0.0     0.00  2017-18\n",
              "\n",
              "[5 rows x 22 columns]"
            ]
          },
          "metadata": {},
          "execution_count": 221
        }
      ]
    },
    {
      "cell_type": "markdown",
      "source": [
        "The following code adds a \"yearIndex\" column. The yearIndex is a value (0, 1, 2, 3) that represents each season for easy access to that season only. \n",
        "* 0-> 2017-18\n",
        "* 1-> 2018-19\n",
        "* 2-> 2019-20\n",
        "* 3-> 2020-21"
      ],
      "metadata": {
        "id": "Et6xDCQHg-1B"
      }
    },
    {
      "cell_type": "code",
      "source": [
        "# Creating a function that maps a 'Season' value to an int value\n",
        "def categorise(row):  \n",
        "    if row[\"Season\"] == \"2017-18\":\n",
        "      return 0\n",
        "    elif row[\"Season\"] == \"2018-19\":\n",
        "      return 1\n",
        "    elif row[\"Season\"] == \"2019-20\":\n",
        "      return 2\n",
        "    else:\n",
        "      return 3\n",
        "\n",
        "# Mapping each 'Season' value to the yearIndex \n",
        "dfhist['yearIndex'] = dfhist.apply(lambda row: categorise(row), axis=1)"
      ],
      "metadata": {
        "id": "ZegLIRSuS8Zx"
      },
      "execution_count": null,
      "outputs": []
    },
    {
      "cell_type": "markdown",
      "source": [
        "The following code creates a new dataframe for the 2021-22 season. This new dataframe is only used for the machine learning portion and will not be used at the moment. "
      ],
      "metadata": {
        "id": "_T3dVohUhEEt"
      }
    },
    {
      "cell_type": "code",
      "source": [
        "df2122 = pd.read_csv(\"playershooting2122.csv\") # Creating a dataframe for the current season: 2021-22\n",
        "\n",
        "# Cleaning the data using the steps from part 1\n",
        "df2122.columns = df2122.iloc[0]\n",
        "df2122 = df2122.drop(0)\n",
        "df2122 = df2122.drop(['Rk'], axis=1)\n",
        "df2122['Player'] = df2122['Player'].str.split(pat=\"\\\\\").str[0]\n",
        "df2122['Age'] = df2122['Age'].str.split(pat=\"-\").str[0]\n",
        "df2122['Nation'] = df2122['Nation'].str.replace(r'[a-z]', '')\n",
        "df2122['Pos'] = df2122['Pos'].str[:2]\n",
        "df2122=df2122.drop(columns = [\"Born\", \"G-xG\", \"np:G-xG\", \"Matches\"])\n",
        "df2122.rename(columns={\"Sh/90\": \"Shots per game\", \"SoT/90\": \"SoT per game\", \"Pos\": \"Position\", \"Squad\": \"Team\", \"Gls\": \"Goals\", \"Sh\": \"Shots\", \"xG\": \"Exp_Goals\",\"2017-18\":\"Season\"}, inplace=True)\n",
        "df2122 = df2122.reset_index(drop=True)\n",
        "\n",
        "for index, row in df2122.iterrows():\n",
        "    if row['Position'] == 'GK':\n",
        "        df2122 = df2122.drop(index)\n",
        "\n",
        "df2122 = df2122.fillna(0)\n",
        "int_cols = [\"Age\", \"Goals\", \"SoT\", \"FK\", \"PK\", \"PKatt\"]\n",
        "no_change_cols = ['Player', \"Nation\", \"Position\", \"Team\",\"Season\"]\n",
        "\n",
        "for cols in df2122.columns: \n",
        "  if not cols in no_change_cols:\n",
        "    if cols in int_cols: \n",
        "       df2122[cols] = df2122[cols].astype(int)\n",
        "    else: \n",
        "      df2122[cols] = df2122[cols].astype(float)\n",
        "\n",
        "df2122.head()"
      ],
      "metadata": {
        "colab": {
          "base_uri": "https://localhost:8080/",
          "height": 320
        },
        "id": "uAFhe-ThkJgr",
        "outputId": "2ba5d463-0fff-40c1-e09a-1d74a20c012f"
      },
      "execution_count": null,
      "outputs": [
        {
          "output_type": "execute_result",
          "data": {
            "text/html": [
              "\n",
              "  <div id=\"df-63020ca0-fde8-4d10-b3d9-169c9a6ba679\">\n",
              "    <div class=\"colab-df-container\">\n",
              "      <div>\n",
              "<style scoped>\n",
              "    .dataframe tbody tr th:only-of-type {\n",
              "        vertical-align: middle;\n",
              "    }\n",
              "\n",
              "    .dataframe tbody tr th {\n",
              "        vertical-align: top;\n",
              "    }\n",
              "\n",
              "    .dataframe thead th {\n",
              "        text-align: right;\n",
              "    }\n",
              "</style>\n",
              "<table border=\"1\" class=\"dataframe\">\n",
              "  <thead>\n",
              "    <tr style=\"text-align: right;\">\n",
              "      <th></th>\n",
              "      <th>Player</th>\n",
              "      <th>Nation</th>\n",
              "      <th>Position</th>\n",
              "      <th>Team</th>\n",
              "      <th>Age</th>\n",
              "      <th>90s</th>\n",
              "      <th>Goals</th>\n",
              "      <th>Shots</th>\n",
              "      <th>SoT</th>\n",
              "      <th>SoT%</th>\n",
              "      <th>Shots per game</th>\n",
              "      <th>SoT per game</th>\n",
              "      <th>G/Sh</th>\n",
              "      <th>G/SoT</th>\n",
              "      <th>Dist</th>\n",
              "      <th>FK</th>\n",
              "      <th>PK</th>\n",
              "      <th>PKatt</th>\n",
              "      <th>Exp_Goals</th>\n",
              "      <th>npxG</th>\n",
              "      <th>npxG/Sh</th>\n",
              "    </tr>\n",
              "  </thead>\n",
              "  <tbody>\n",
              "    <tr>\n",
              "      <th>0</th>\n",
              "      <td>Max Aarons</td>\n",
              "      <td>ENG</td>\n",
              "      <td>DF</td>\n",
              "      <td>Norwich City</td>\n",
              "      <td>21</td>\n",
              "      <td>17.0</td>\n",
              "      <td>0</td>\n",
              "      <td>9.0</td>\n",
              "      <td>2</td>\n",
              "      <td>22.2</td>\n",
              "      <td>0.53</td>\n",
              "      <td>0.12</td>\n",
              "      <td>0.00</td>\n",
              "      <td>0.00</td>\n",
              "      <td>20.2</td>\n",
              "      <td>0</td>\n",
              "      <td>0</td>\n",
              "      <td>0</td>\n",
              "      <td>0.6</td>\n",
              "      <td>0.6</td>\n",
              "      <td>0.06</td>\n",
              "    </tr>\n",
              "    <tr>\n",
              "      <th>1</th>\n",
              "      <td>Che Adams</td>\n",
              "      <td>SCO</td>\n",
              "      <td>FW</td>\n",
              "      <td>Southampton</td>\n",
              "      <td>25</td>\n",
              "      <td>9.5</td>\n",
              "      <td>3</td>\n",
              "      <td>21.0</td>\n",
              "      <td>11</td>\n",
              "      <td>52.4</td>\n",
              "      <td>2.20</td>\n",
              "      <td>1.15</td>\n",
              "      <td>0.14</td>\n",
              "      <td>0.27</td>\n",
              "      <td>14.5</td>\n",
              "      <td>0</td>\n",
              "      <td>0</td>\n",
              "      <td>0</td>\n",
              "      <td>2.4</td>\n",
              "      <td>2.4</td>\n",
              "      <td>0.11</td>\n",
              "    </tr>\n",
              "    <tr>\n",
              "      <th>2</th>\n",
              "      <td>Rayan Aït Nouri</td>\n",
              "      <td>FRA</td>\n",
              "      <td>DF</td>\n",
              "      <td>Wolves</td>\n",
              "      <td>20</td>\n",
              "      <td>8.0</td>\n",
              "      <td>0</td>\n",
              "      <td>6.0</td>\n",
              "      <td>2</td>\n",
              "      <td>33.3</td>\n",
              "      <td>0.75</td>\n",
              "      <td>0.25</td>\n",
              "      <td>0.00</td>\n",
              "      <td>0.00</td>\n",
              "      <td>15.1</td>\n",
              "      <td>0</td>\n",
              "      <td>0</td>\n",
              "      <td>0</td>\n",
              "      <td>0.3</td>\n",
              "      <td>0.3</td>\n",
              "      <td>0.05</td>\n",
              "    </tr>\n",
              "    <tr>\n",
              "      <th>3</th>\n",
              "      <td>Kristoffer Ajer</td>\n",
              "      <td>NOR</td>\n",
              "      <td>DF</td>\n",
              "      <td>Brentford</td>\n",
              "      <td>23</td>\n",
              "      <td>6.3</td>\n",
              "      <td>0</td>\n",
              "      <td>2.0</td>\n",
              "      <td>0</td>\n",
              "      <td>0.0</td>\n",
              "      <td>0.32</td>\n",
              "      <td>0.00</td>\n",
              "      <td>0.00</td>\n",
              "      <td>0.00</td>\n",
              "      <td>9.9</td>\n",
              "      <td>0</td>\n",
              "      <td>0</td>\n",
              "      <td>0</td>\n",
              "      <td>0.2</td>\n",
              "      <td>0.2</td>\n",
              "      <td>0.09</td>\n",
              "    </tr>\n",
              "    <tr>\n",
              "      <th>4</th>\n",
              "      <td>Nathan Aké</td>\n",
              "      <td>NED</td>\n",
              "      <td>DF</td>\n",
              "      <td>Manchester City</td>\n",
              "      <td>26</td>\n",
              "      <td>4.5</td>\n",
              "      <td>1</td>\n",
              "      <td>2.0</td>\n",
              "      <td>1</td>\n",
              "      <td>50.0</td>\n",
              "      <td>0.45</td>\n",
              "      <td>0.22</td>\n",
              "      <td>0.50</td>\n",
              "      <td>1.00</td>\n",
              "      <td>6.0</td>\n",
              "      <td>0</td>\n",
              "      <td>0</td>\n",
              "      <td>0</td>\n",
              "      <td>0.3</td>\n",
              "      <td>0.3</td>\n",
              "      <td>0.14</td>\n",
              "    </tr>\n",
              "  </tbody>\n",
              "</table>\n",
              "</div>\n",
              "      <button class=\"colab-df-convert\" onclick=\"convertToInteractive('df-63020ca0-fde8-4d10-b3d9-169c9a6ba679')\"\n",
              "              title=\"Convert this dataframe to an interactive table.\"\n",
              "              style=\"display:none;\">\n",
              "        \n",
              "  <svg xmlns=\"http://www.w3.org/2000/svg\" height=\"24px\"viewBox=\"0 0 24 24\"\n",
              "       width=\"24px\">\n",
              "    <path d=\"M0 0h24v24H0V0z\" fill=\"none\"/>\n",
              "    <path d=\"M18.56 5.44l.94 2.06.94-2.06 2.06-.94-2.06-.94-.94-2.06-.94 2.06-2.06.94zm-11 1L8.5 8.5l.94-2.06 2.06-.94-2.06-.94L8.5 2.5l-.94 2.06-2.06.94zm10 10l.94 2.06.94-2.06 2.06-.94-2.06-.94-.94-2.06-.94 2.06-2.06.94z\"/><path d=\"M17.41 7.96l-1.37-1.37c-.4-.4-.92-.59-1.43-.59-.52 0-1.04.2-1.43.59L10.3 9.45l-7.72 7.72c-.78.78-.78 2.05 0 2.83L4 21.41c.39.39.9.59 1.41.59.51 0 1.02-.2 1.41-.59l7.78-7.78 2.81-2.81c.8-.78.8-2.07 0-2.86zM5.41 20L4 18.59l7.72-7.72 1.47 1.35L5.41 20z\"/>\n",
              "  </svg>\n",
              "      </button>\n",
              "      \n",
              "  <style>\n",
              "    .colab-df-container {\n",
              "      display:flex;\n",
              "      flex-wrap:wrap;\n",
              "      gap: 12px;\n",
              "    }\n",
              "\n",
              "    .colab-df-convert {\n",
              "      background-color: #E8F0FE;\n",
              "      border: none;\n",
              "      border-radius: 50%;\n",
              "      cursor: pointer;\n",
              "      display: none;\n",
              "      fill: #1967D2;\n",
              "      height: 32px;\n",
              "      padding: 0 0 0 0;\n",
              "      width: 32px;\n",
              "    }\n",
              "\n",
              "    .colab-df-convert:hover {\n",
              "      background-color: #E2EBFA;\n",
              "      box-shadow: 0px 1px 2px rgba(60, 64, 67, 0.3), 0px 1px 3px 1px rgba(60, 64, 67, 0.15);\n",
              "      fill: #174EA6;\n",
              "    }\n",
              "\n",
              "    [theme=dark] .colab-df-convert {\n",
              "      background-color: #3B4455;\n",
              "      fill: #D2E3FC;\n",
              "    }\n",
              "\n",
              "    [theme=dark] .colab-df-convert:hover {\n",
              "      background-color: #434B5C;\n",
              "      box-shadow: 0px 1px 3px 1px rgba(0, 0, 0, 0.15);\n",
              "      filter: drop-shadow(0px 1px 2px rgba(0, 0, 0, 0.3));\n",
              "      fill: #FFFFFF;\n",
              "    }\n",
              "  </style>\n",
              "\n",
              "      <script>\n",
              "        const buttonEl =\n",
              "          document.querySelector('#df-63020ca0-fde8-4d10-b3d9-169c9a6ba679 button.colab-df-convert');\n",
              "        buttonEl.style.display =\n",
              "          google.colab.kernel.accessAllowed ? 'block' : 'none';\n",
              "\n",
              "        async function convertToInteractive(key) {\n",
              "          const element = document.querySelector('#df-63020ca0-fde8-4d10-b3d9-169c9a6ba679');\n",
              "          const dataTable =\n",
              "            await google.colab.kernel.invokeFunction('convertToInteractive',\n",
              "                                                     [key], {});\n",
              "          if (!dataTable) return;\n",
              "\n",
              "          const docLinkHtml = 'Like what you see? Visit the ' +\n",
              "            '<a target=\"_blank\" href=https://colab.research.google.com/notebooks/data_table.ipynb>data table notebook</a>'\n",
              "            + ' to learn more about interactive tables.';\n",
              "          element.innerHTML = '';\n",
              "          dataTable['output_type'] = 'display_data';\n",
              "          await google.colab.output.renderOutput(dataTable, element);\n",
              "          const docLink = document.createElement('div');\n",
              "          docLink.innerHTML = docLinkHtml;\n",
              "          element.appendChild(docLink);\n",
              "        }\n",
              "      </script>\n",
              "    </div>\n",
              "  </div>\n",
              "  "
            ],
            "text/plain": [
              "0           Player Nation Position  ... Exp_Goals  npxG  npxG/Sh\n",
              "0       Max Aarons    ENG       DF  ...       0.6   0.6     0.06\n",
              "1        Che Adams    SCO       FW  ...       2.4   2.4     0.11\n",
              "2  Rayan Aït Nouri    FRA       DF  ...       0.3   0.3     0.05\n",
              "3  Kristoffer Ajer    NOR       DF  ...       0.2   0.2     0.09\n",
              "4       Nathan Aké    NED       DF  ...       0.3   0.3     0.14\n",
              "\n",
              "[5 rows x 21 columns]"
            ]
          },
          "metadata": {},
          "execution_count": 223
        }
      ]
    },
    {
      "cell_type": "markdown",
      "source": [
        "# Understanding the features"
      ],
      "metadata": {
        "id": "MyP6zj_Aa72A"
      }
    },
    {
      "cell_type": "markdown",
      "source": [
        "Before going into data analysis it is important to understand the features and what each feature represents. This means we will go through the following features:\n",
        "\n",
        "1. 'PK': 'PK' stands for the penalty kicks a player has scored\n",
        "2. 'PKatt': 'PKatt' stands for the penalty kicks a player has attempted\n",
        "3. 'Shots': 'Shots' stands for the number of times a player has attempted to shoot the ball into the goal\n",
        "4. 'SoT': 'SoT' stands for the shots on target a player has. Shots on target are shots a player has made that the goalie has had to manually stop from going into the goal.\n",
        "5. 'npxG': 'npxG' stands for the non-penalty expected goals a player has scored \n",
        "6. 'Exp_Goals': 'Exp_Goals' stands for the expected number of goals a player should have scored for the season\n",
        "7. 'Goals': 'Goals' stands for the number of goals a player scored in the season\n",
        "\n",
        "\n",
        "**NOTE:** Here is a useful link if you are interested in the Premier League:\n",
        "1. https://www.premierleague.com/"
      ],
      "metadata": {
        "id": "ZTMRhngpa-42"
      }
    },
    {
      "cell_type": "markdown",
      "source": [
        "# Exploratory Data Analysis"
      ],
      "metadata": {
        "id": "zbohqTz59WE0"
      }
    },
    {
      "cell_type": "markdown",
      "source": [
        "To kickoff our analysis of these datasets, we created a heatmap to determine the correlation between all of the variables across the dataset to help gauge any patterns on relationships that exist between the variables. \n",
        " \n",
        "The matrix below is this heatmap, it helps showcase the correlation between the variables in our entire dataset. In the matrix below, the darker, reddish boxes represent variables that are highly correlated. Lighter cells indicate a weaker correlation. \n",
        " \n",
        "Since we aim to predict the top goal scorers, we need to focus on which variables have a strong relationship with the Goals variable. \n",
        " \n",
        "**NOTES:** Here is a useful link on heatmaps:\n",
        "1. https://towardsdatascience.com/heatmap-basics-with-pythons-seaborn-fb92ea280a6c\n",
        "\n"
      ],
      "metadata": {
        "id": "3F-ShcFl9aVb"
      }
    },
    {
      "cell_type": "code",
      "source": [
        "# Plot a heatmap based on the combined data from the past 4 seasons\n",
        "plt.figure(figsize=(12,10))\n",
        "cor = dfhist.corr()\n",
        "sns.heatmap(cor, annot=True, cmap=plt.cm.Reds)\n",
        "# New\n",
        "plt.title(\"Correlation Matrix for all variables in dataset\")\n",
        "plt.ylabel(\"Features\")\n",
        "plt.xlabel(\"Features\")\n",
        "plt.show()"
      ],
      "metadata": {
        "colab": {
          "base_uri": "https://localhost:8080/",
          "height": 690
        },
        "id": "Fpk65Iei9eM0",
        "outputId": "bb6c7572-46a4-4733-853f-5363216dbd47"
      },
      "execution_count": null,
      "outputs": [
        {
          "output_type": "display_data",
          "data": {
            "image/png": "[encoded data removed]",
            "text/plain": [
              "<Figure size 864x720 with 2 Axes>"
            ]
          },
          "metadata": {
            "needs_background": "light"
          }
        }
      ]
    },
    {
      "cell_type": "markdown",
      "source": [
        "The heatmap above displays a wide array of correlations between the variables from the dataset. Focusing on the Goals column, we can see that it holds quite a strong correlation with some of the variables, which we will show in the code below.\n",
        "\n",
        "However, since we will be using this data to predict the top scorers for the next season, we must try and get a clearer understanding of which variables hold a strong correlation with Goals. "
      ],
      "metadata": {
        "id": "O0Lils5s9iuh"
      }
    },
    {
      "cell_type": "code",
      "source": [
        "#Correlation with output variable\n",
        "cor_target = abs(cor[\"Goals\"])\n",
        "print(type(cor_target))\n",
        "#Selecting highly correlated features\n",
        "relevant_features = cor_target[cor_target>0.5]\n",
        "# New\n",
        "relevant_features.sort_values()"
      ],
      "metadata": {
        "colab": {
          "base_uri": "https://localhost:8080/"
        },
        "id": "Ro7OmN-69jRS",
        "outputId": "55343c50-dd4c-4564-ce48-149242e63ee7"
      },
      "execution_count": null,
      "outputs": [
        {
          "output_type": "stream",
          "name": "stdout",
          "text": [
            "<class 'pandas.core.series.Series'>\n"
          ]
        },
        {
          "output_type": "execute_result",
          "data": {
            "text/plain": [
              "0\n",
              "PK           0.546950\n",
              "PKatt        0.562561\n",
              "Shots        0.861014\n",
              "SoT          0.913765\n",
              "npxG         0.920665\n",
              "Exp_Goals    0.941077\n",
              "Goals        1.000000\n",
              "Name: Goals, dtype: float64"
            ]
          },
          "metadata": {},
          "execution_count": 225
        }
      ]
    },
    {
      "cell_type": "markdown",
      "source": [
        "In the code above, we use column indexing to get the series of correlations with Goals and look at the variables that have a correlation of greater than 0.5. A correlation greater than 0.5 will be indicative of a relationship between a variable and Goals, however, this does not guarantee a *strong* correlation and we will need to look closer at the relationship between these variables.\n",
        "\n",
        "As we can see, the variables with the strongest correlation are the expected goals, the expected goals minus penalties, and the number of shots on target. We will also explore the relationship between goals and the remaining variables displayed above as a correlation greater than 0.5 is still relatively strong and can be a good predictor. "
      ],
      "metadata": {
        "id": "PvYp4pqq9nZG"
      }
    },
    {
      "cell_type": "markdown",
      "source": [
        "## Exploring relationship between goals and correlated variables\n",
        "\n"
      ],
      "metadata": {
        "id": "220BGyGqdK_W"
      }
    },
    {
      "cell_type": "markdown",
      "source": [
        "The following few blocks of code are using creating scatter plots\n",
        "\n",
        "**NOTE:** Here is a useful link on scatter plots \n",
        "1. https://www.jmp.com/en_us/statistics-knowledge-portal/exploratory-data-analysis/scatter-plot.html"
      ],
      "metadata": {
        "id": "gvRhkWRZbLJP"
      }
    },
    {
      "cell_type": "markdown",
      "source": [
        "### Relationship between shots and goals"
      ],
      "metadata": {
        "id": "BGgVdsQoAWxT"
      }
    },
    {
      "cell_type": "code",
      "source": [
        "fig1, ax1 = plt.subplots()\n",
        "ax1.scatter(only_goals_df[\"Shots\"], only_goals_df[\"Goals\"])\n",
        "plt.title(\"Shots vs. Goals\")\n",
        "plt.xlabel(\"Shots\")\n",
        "plt.ylabel(\"Goals\")\n",
        "\n",
        "ax1.text(only_goals_df.Shots[only_goals_df.Player==\"Harry Kane\"], only_goals_df.Goals[only_goals_df.Player==\"Harry Kane\"],\"Harry Kane\", fontdict=dict(color=\"red\", alpha=10, size=12))\n",
        "ax1.text(only_goals_df.Shots[only_goals_df.Player==\"Joe Willock\"], only_goals_df.Goals[only_goals_df.Player==\"Joe Willock\"],\"Joe Willock\", fontdict=dict(color=\"red\", alpha=10, size=12))\n",
        "\n",
        "plt.show()"
      ],
      "metadata": {
        "colab": {
          "base_uri": "https://localhost:8080/",
          "height": 295
        },
        "id": "tL7a3gnFF_BE",
        "outputId": "586c01ce-ee3f-48e6-e6f2-452e194c6f07"
      },
      "execution_count": null,
      "outputs": [
        {
          "output_type": "display_data",
          "data": {
            "image/png": "[encoded data removed]",
            "text/plain": [
              "<Figure size 432x288 with 1 Axes>"
            ]
          },
          "metadata": {
            "needs_background": "light"
          }
        }
      ]
    },
    {
      "cell_type": "markdown",
      "source": [
        "This plot shows helps understand the relation between Shots taken by a player and their total goals scored. Looking back to the results of our heatmap, we know that the two variables have a correlation of 0.86. This indicates a strong positive relationship between the two, which is also reflected from the graph above. \n",
        "\n",
        "The graph also helps us notice players that are especially efficient with their shooting, and players who simply take a large number of shots, resulting in a higher number of goals. This is evident from the two labeled points on the graph, Joe Willock and Harry Kane. Harry Kane is a striker, meaning he is given a lot more opportunities to take shots and score goals in games, while Joe Willock is a midfielder, so he occasionally gets the opportunity to score goals. From the plot, we can see that Joe is very efficient with his shooting, as he scored almost every shot he took during this season. However, Harry Kane is quite different due to his position, he has the freedom of taking as many shots as he possibly can, so he does not need to be concerned about efficiency, just that he scores at least one of the shots he takes. While this does not affect the correlation of the two variables, it does speak to the variations we see in the plot, and what could be causing them. \n",
        "\n",
        "We also notice number of shots taken by player begins to taper off after around 40 shots,however, past this point of 40 shots, we also see an increase in the number of goals scored as players past this range are forwards who get many opportunities to take shots, and in turn have a higher probability of scoring goals. "
      ],
      "metadata": {
        "id": "dMvcQM3P9qui"
      }
    },
    {
      "cell_type": "markdown",
      "source": [
        "### Relationship between shots on target and goals"
      ],
      "metadata": {
        "id": "O2GKOLfpe3QX"
      }
    },
    {
      "cell_type": "code",
      "source": [
        "# Plot Shots on Target vs. Goals\n",
        "fig1, ax1 = plt.subplots()\n",
        "ax1.scatter(only_goals_df[\"SoT\"], only_goals_df[\"Goals\"])\n",
        "plt.title(\"Shots on Target vs. Goals\")\n",
        "plt.xlabel(\"Shots on Target\")\n",
        "plt.ylabel(\"Goals\")\n",
        "\n",
        "ax1.text(only_goals_df.SoT[only_goals_df.Player==\"Harry Kane\"], only_goals_df.Goals[only_goals_df.Player==\"Harry Kane\"],\"Harry Kane\", fontdict=dict(color=\"red\", alpha=10, size=12))\n",
        "ax1.text(only_goals_df.SoT[only_goals_df.Player==\"Jorginho\"], only_goals_df.Goals[only_goals_df.Player==\"Jorginho\"],\"Jorginho\", fontdict=dict(color=\"red\", alpha=10, size=12))\n",
        "\n",
        "plt.show()"
      ],
      "metadata": {
        "colab": {
          "base_uri": "https://localhost:8080/",
          "height": 295
        },
        "id": "yAhob84kJVPM",
        "outputId": "195daf06-447e-413c-8790-09c7814969cb"
      },
      "execution_count": null,
      "outputs": [
        {
          "output_type": "display_data",
          "data": {
            "image/png": "[encoded data removed]",
            "text/plain": [
              "<Figure size 432x288 with 1 Axes>"
            ]
          },
          "metadata": {
            "needs_background": "light"
          }
        }
      ]
    },
    {
      "cell_type": "markdown",
      "source": [
        "Similar to the previous plot, this scatter plot of shots on target against goals scored reiterates the strong positive correlation between the two variables. The heatmap represented these two fields to have a correlation score of 0.91, and this seems feasible as the plot shows the positive, increasing trend between shots on target and goals scored. \n",
        "\n",
        "However, there is an outlier that has been highlighted, which is Jorginho. Initially, it did not make sense how a player could have 0 shots on target, while also having any goals scored. But, after further analysis of our dataset, we found that this outlier exists because the data does not count penalties attempted as shots on target. Going back to Jorginho, we looked at his statistics and saw that every goal he scored this season was from a penalty! This made it very clear as to why his point seemed to not only be an outlier, but also impossible. While this is surprising, it does show the importance of penalties scored as a feature when analysing the goals scored by players, especially since it can skew the data for other variables, such as shots on target. "
      ],
      "metadata": {
        "id": "WnMShi3K9u8t"
      }
    },
    {
      "cell_type": "markdown",
      "source": [
        "### Relationship between expected goals and goals"
      ],
      "metadata": {
        "id": "6FI5Rxu6rS5t"
      }
    },
    {
      "cell_type": "code",
      "source": [
        "# Plot Goals vs Expected Goals\n",
        "only_goals_df.plot.scatter(x='Exp_Goals',y='Goals')\n",
        "ax = plt.gca()\n",
        "plt.ylabel(\"Goals\")\n",
        "plt.xlabel(\"Expected Goals\")\n",
        "plt.title(\"Expected Goals vs. Goals\")\n",
        "plt.figure(figsize=(10,10)) \n",
        "plt.show()"
      ],
      "metadata": {
        "colab": {
          "base_uri": "https://localhost:8080/",
          "height": 312
        },
        "id": "2hX2wacC9w_I",
        "outputId": "f85f1816-de52-402d-dc9d-9efb375946c7"
      },
      "execution_count": null,
      "outputs": [
        {
          "output_type": "display_data",
          "data": {
            "image/png": "[encoded data removed]",
            "text/plain": [
              "<Figure size 432x288 with 1 Axes>"
            ]
          },
          "metadata": {
            "needs_background": "light"
          }
        },
        {
          "output_type": "display_data",
          "data": {
            "text/plain": [
              "<Figure size 720x720 with 0 Axes>"
            ]
          },
          "metadata": {}
        }
      ]
    },
    {
      "cell_type": "markdown",
      "source": [
        "This scatter plot is a representation of he expected goals against the actual goals scored. The heatmap indicated that this is pair of variables had a correlation score of 0.94, which is the highest correlation score the goals variable has with any of the others from the dataset. This was something we expected since the expected goals feature is an indicator for the goals variable. However, we will explore this relationship in more detail when discussing our prediction model. \n",
        "\n",
        "Based on this plot, we can see a positive, increasing relationship, supporting the results of the heatmap. We noted the large amount of clustering that is present at the bottom left of the plot, which we attributed to the large number of players that only score one goal in a season. Usually, these are defenders or midfielders who get very few opportunities to score, hence their expected goals is 0. \n",
        "\n",
        "The graph supports the results of the heatmap and makes it evident that expected goals must be included as a predictor to have a successful machine learning model."
      ],
      "metadata": {
        "id": "pRWX6m6vrV83"
      }
    },
    {
      "cell_type": "markdown",
      "source": [
        "### Relationship between non-penalty expected goals and goals"
      ],
      "metadata": {
        "id": "bQNwiLEcrY8q"
      }
    },
    {
      "cell_type": "code",
      "source": [
        "# Plot Shots on Target vs. Goals\n",
        "fig1, ax1 = plt.subplots()\n",
        "ax1.scatter(only_goals_df[\"npxG\"], only_goals_df[\"Goals\"])\n",
        "plt.title(\"Non-penalty expected goals vs. Goals\")\n",
        "plt.xlabel(\"Non-penalty expected goals\")\n",
        "plt.ylabel(\"Goals\")\n",
        "\n",
        "ax1.text(only_goals_df.npxG[only_goals_df.Player==\"Jorginho\"], only_goals_df.Goals[only_goals_df.Player==\"Jorginho\"],\"Jorginho\", fontdict=dict(color=\"red\", alpha=10, size=12))\n",
        "\n",
        "plt.show()"
      ],
      "metadata": {
        "colab": {
          "base_uri": "https://localhost:8080/",
          "height": 295
        },
        "id": "KMWU_joHKETM",
        "outputId": "117776cc-9bcd-4738-ad25-a7f81baa92ba"
      },
      "execution_count": null,
      "outputs": [
        {
          "output_type": "display_data",
          "data": {
            "image/png": "[encoded data removed]",
            "text/plain": [
              "<Figure size 432x288 with 1 Axes>"
            ]
          },
          "metadata": {
            "needs_background": "light"
          }
        }
      ]
    },
    {
      "cell_type": "markdown",
      "source": [
        "This scatter plot is a representation of he expected goals against the actual goals scored. The heatmap indicated that this is pair of variables had a correlation score of 0.94, which is the highest correlation score the goals variable has with any of the others from the dataset. This was something we expected since the expected goals feature is an indicator for the goals variable. However, we will explore this relationship in more detail when discussing our prediction model. \n",
        "\n",
        "Based on this plot, we can see a positive, increasing relationship, supporting the results of the heatmap. We noted the large amount of clustering that is present at the bottom left of the plot, which we attributed to the large number of players that only score one goal in a season. Usually, these are defenders or midfielders who get very few opportunities to score, hence their expected goals is 0. \n",
        "\n",
        "The graph supports the results of the heatmap and makes it evident that expected goals must be included as a predictor to have a successful machine learning model. \n"
      ],
      "metadata": {
        "id": "4f83qTpZ93h6"
      }
    },
    {
      "cell_type": "markdown",
      "source": [
        "##Understanding Penalties and its relationship with goals\n",
        "\n",
        "One finding from the heatmap that was interesting to us was the strong correlation penalties scored has with goals scored. From our perspective, we did not see how the two were related. To answer this question, we decided to plot the top 25 goalscorers for the last 4 seasons and split them based on whether or not they scored at least one penalty that season. \n",
        "\n",
        "Our goal with this plot was to get a better understanding of how common it is for the top scorers to also be the designated penalty taker for their team. If there is a clear relationship between the two, we will know that it is an important feature to include in our predictive model."
      ],
      "metadata": {
        "id": "6Wc68qSHTKCc"
      }
    },
    {
      "cell_type": "code",
      "source": [
        "only_goals_df_hist = []\n",
        "for i in range(4):\n",
        "  only_goals_df_hist.append(dfhist[dfhist[\"yearIndex\"] == i].sort_values(by=['Goals'], ascending=False).head(25))"
      ],
      "metadata": {
        "id": "KNWH8qQyU0AL"
      },
      "execution_count": null,
      "outputs": []
    },
    {
      "cell_type": "code",
      "source": [
        "from matplotlib.patches import Patch\n",
        "\n",
        "for only_goals in only_goals_df_hist:\n",
        "  only_goals['hasPK'] = (only_goals['PK'] >= 1)\n",
        "  colors = {True:\"#900C3F\", False:\"#031d62\"}\n",
        "  only_goals.set_index(\"Player\")[\"Goals\"].plot(kind=\"bar\", x=\"Player\", color=only_goals[\"hasPK\"].replace(colors), figsize=(20,8)).legend(\n",
        "    [\n",
        "        Patch(facecolor=colors[True]),\n",
        "        Patch(facecolor=colors[False])\n",
        "    ], [\"Has PKed\", \"Has not PKed\"]\n",
        "  )\n",
        "  plt.title(f\"Goals vs. Player for \" + only_goals[\"Season\"][only_goals.first_valid_index()])\n",
        "  plt.xlabel(\"Player\")\n",
        "  plt.ylabel(\"Goals\")\n",
        "  plt.show()"
      ],
      "metadata": {
        "colab": {
          "base_uri": "https://localhost:8080/",
          "height": 1000
        },
        "id": "pYoJMnvwV49S",
        "outputId": "3dee52db-0373-4de4-ce81-7a1b327c851c"
      },
      "execution_count": null,
      "outputs": [
        {
          "output_type": "display_data",
          "data": {
            "image/png": "[encoded data removed]",
            "text/plain": [
              "<Figure size 1440x576 with 1 Axes>"
            ]
          },
          "metadata": {
            "needs_background": "light"
          }
        },
        {
          "output_type": "display_data",
          "data": {
            "image/png": "[encoded data removed]",
            "text/plain": [
              "<Figure size 1440x576 with 1 Axes>"
            ]
          },
          "metadata": {
            "needs_background": "light"
          }
        },
        {
          "output_type": "display_data",
          "data": {
            "image/png": "[encoded data removed]",
            "text/plain": [
              "<Figure size 1440x576 with 1 Axes>"
            ]
          },
          "metadata": {
            "needs_background": "light"
          }
        },
        {
          "output_type": "display_data",
          "data": {
            "image/png": "[encoded data removed]",
            "text/plain": [
              "<Figure size 1440x576 with 1 Axes>"
            ]
          },
          "metadata": {
            "needs_background": "light"
          }
        }
      ]
    },
    {
      "cell_type": "markdown",
      "source": [
        "These 4 graphs have provided some clarity over the relationship of penalties scored and top scoreres in a season. Based on these four graphs, on average, only 9 out of the top 25 players did **not** score a penalty. This supports the claim that penalties scored and goals scored have a correlation, as suggested by the heatmap. Furthermore, it helps us understand why penalties is an necessary predictor when we build our machine learning model later in this project. "
      ],
      "metadata": {
        "id": "Ck2-mD9lTLx6"
      }
    },
    {
      "cell_type": "markdown",
      "source": [
        "## Are teams indicators of top goalscorers?\n",
        "\n",
        "One aspect of this dataset we wanted to explore is the impact a player's team can have on whether they will be in the top goalscorers for a particular season. Below, we plotted four graphs depicting the total number of goals scored by each team in four seperate seasons in hopes of visualising the data and comparing it to the graphs above which show the top 25 goalscorers for the same seasons. "
      ],
      "metadata": {
        "id": "UKhTdQ-vTiZn"
      }
    },
    {
      "cell_type": "code",
      "source": [
        "cumulative_goals_season = []\n",
        "for i in range(4):\n",
        "  goals_team = {}\n",
        "  season_df = dfhist[dfhist[\"yearIndex\"] == i]\n",
        "  for index, row in season_df.iterrows():\n",
        "    curr_team = row[\"Team\"]\n",
        "    if curr_team not in goals_team:\n",
        "      goals_team[curr_team] = season_df[season_df[\"Team\"] == curr_team][\"Goals\"].sum()\n",
        "  cumulative_goals_season.append(goals_team)"
      ],
      "metadata": {
        "id": "XnQp4hmUz9Rl"
      },
      "execution_count": null,
      "outputs": []
    },
    {
      "cell_type": "code",
      "source": [
        "seasons_dict = {0:\"2017-18\", 1:\"2018-19\", 2:\"2019-20\", 3:\"2020-21\"}\n",
        "i = 0\n",
        "for season_goals in cumulative_goals_season:\n",
        "  curr_df = pd.DataFrame({'Goals': list(season_goals.values())}, index=list(season_goals))\n",
        "  ax = curr_df.plot.bar(y='Goals', figsize=(20, 8))\n",
        "  ax.set_title(\"Total Goals vs. Team for \" + seasons_dict[i])\n",
        "  ax.set_xlabel(\"Team\")\n",
        "  ax.set_ylabel(\"Total Goals\")\n",
        "  i+=1"
      ],
      "metadata": {
        "colab": {
          "base_uri": "https://localhost:8080/",
          "height": 1000
        },
        "id": "L33X1mjxz-Zq",
        "outputId": "4b70c670-25a4-46bd-af3f-4534ebb8f95f"
      },
      "execution_count": null,
      "outputs": [
        {
          "output_type": "display_data",
          "data": {
            "image/png": "[encoded data removed]",
            "text/plain": [
              "<Figure size 1440x576 with 1 Axes>"
            ]
          },
          "metadata": {
            "needs_background": "light"
          }
        },
        {
          "output_type": "display_data",
          "data": {
            "image/png": "[encoded data removed]",
            "text/plain": [
              "<Figure size 1440x576 with 1 Axes>"
            ]
          },
          "metadata": {
            "needs_background": "light"
          }
        },
        {
          "output_type": "display_data",
          "data": {
            "image/png": "[encoded data removed]",
            "text/plain": [
              "<Figure size 1440x576 with 1 Axes>"
            ]
          },
          "metadata": {
            "needs_background": "light"
          }
        },
        {
          "output_type": "display_data",
          "data": {
            "image/png": "[encoded data removed]",
            "text/plain": [
              "<Figure size 1440x576 with 1 Axes>"
            ]
          },
          "metadata": {
            "needs_background": "light"
          }
        }
      ]
    },
    {
      "cell_type": "markdown",
      "source": [
        "To analyze this data, we will start by comparing the graph for total team goals for the 2017-2018 season to the top goalscorers of the same season. From our second set of graphs, we can see that the 3 teams that scored the most goals for this season were Manchester City, Liverpool, and Arsenal. The three goalscorers for this season were Mohammed Salah (Liverpool), Harry Kane (Tottenham), and Sergio Aguero (Manchester City). Using this simple comparison we notice that two of the three top scorers belong to teams that scored the most goals for this season. Since this is a small sample, we cannot say with complete confidence that there is a relation between the two, however, these graphs do support the claim that there is a correlation between team and top goalscorer. \n",
        "\n",
        "Moving on to the next season (2018-2019), the top 3 scoring teams were Manchester City, Liverpool, and Arsenal again! And the top 3 goalscorers for this season were Mohammed Salah (Liverpool), Sadio Mane (Liverpool), and PierePierre-Emerick Aubameyang (Arsenal). This time, we see that all three players belonged to one of the top three scoring teams, reiterating the correlation between team and top goalscorer. It is important to note that this season, Liverpool scored the second most goals, yet two of the top three goalscorers were Liverpool players, hence, the correlation might not be as strong as we initially expected since none of the top three goalscorers belong to Manchester City, who scored the most goals this season. \n",
        "\n",
        "For the 2019-2020 season, the top three goalscoring teams were Manchester City, Liverpool, and Chelsea. The top three goalscorers for this season were Jamie Vardy (Leicster City), Pierre-Emerick Aubameyang (Arsenal), and Danny Ings (Southampton). The data from this season contradicts the claim that teams affect top goalscorers as two of the top three goalscorers were not from any of the top three goalscoring teams! In-fact, Southampton were the 8th most goalscoring team even though their star forward Danny Ings was the third highest goalscorer. \n",
        "\n",
        "Lastly, we have the 2020-2021 season. This season, the top three goalscoring teams were Manchester City, Manchester United, and Tottenham. And, the top three goalscorers were Harry Kane (Tottenham), Mohammed Salah (Liverpool), and Bruno Fernandes (Manchester United). Similar to the first two seasons we looked at, two of the three top goalscorers were in one of the top goalscoring teams. \n",
        "\n",
        "Overall, the data clearly shows some level of correlation between the teams and the top goalscorers. However, this correlation is quite volatile and is clearly not an indicator that a top scorer has to belong to a top scoring team. The 2019-2020 season was the most contradictory season, which is what led us to the conclusion that it would not be the most effective predictor in our model, and should not be used as such."
      ],
      "metadata": {
        "id": "vW1KOZX5Vixg"
      }
    },
    {
      "cell_type": "markdown",
      "source": [
        "#Machine Learning: Predicting Goals"
      ],
      "metadata": {
        "id": "GlIDt92usGHb"
      }
    },
    {
      "cell_type": "markdown",
      "source": [
        "Our goal for this section is to create an accurate predictor for the top 20 goalscorers of the 2021-2022 season in the English Premier League. In order to achieve this goal, we will use supervised learning (we have both the features, shots, SoT, PK, PKatt, xG, npxG as well as the targets (goals) that we want to predict). We are using a regression model, specifically the random forest regressor because the target value goals is a continuous variable so the task is to predict the number of goals as opposed to classification. To train the model, we give the random forest the features and the targets so it can learn to translate the input data into a prediction. To make this prediction more accurate, we adopted the holdout set method with which we trained our model on 75% of our data, and tested it against the remaining 25%. \n",
        "\n",
        "Here are some helpful links to learn more about these methods: \n",
        "1. https://scikit-learn.org/stable/modules/generated/sklearn.ensemble.RandomForestRegressor.html\n",
        "\n",
        "2. https://towardsdatascience.com/types-of-machine-learning-algorithms-you-should-know-953a08248861\n",
        "\n",
        "Our input data is the features mentioned earlier, and we will assign each player a vector that represents them which contains their Shots, SoT, PK, PKatt, xG, and npxG. Since we only have quantitative features, we don’t have to perform any encoding and can directly input the player vectors to the model."
      ],
      "metadata": {
        "id": "qhRuVVSYt7er"
      }
    },
    {
      "cell_type": "code",
      "source": [
        "from sklearn.model_selection import train_test_split\n",
        "from sklearn.metrics import r2_score"
      ],
      "metadata": {
        "id": "I0xYIdVZZlxJ"
      },
      "execution_count": null,
      "outputs": []
    },
    {
      "cell_type": "markdown",
      "source": [
        "## Setting up the data for training"
      ],
      "metadata": {
        "id": "PEsF59SeUsvB"
      }
    },
    {
      "cell_type": "markdown",
      "source": [
        "Before we feed the data into the model, we have to separate the target data and the feature data. We use numpy arrays because that is what the regressor takes as input.\n",
        "\n",
        "After gathering the input data for the model, we split it into training and testing datasets. The training dataset will be used to show the model the goals scored by player vectors so that it can learn the relationship between the features and target to predict the number of goals scored. The testing dataset will be used to test the model on what it has learned through the supervised learning on data that it has not seen yet, and which it has no access to the target values. By setting test size to 0.25, the model learns on 75% of the historic player data and is tested on 25%.\n",
        "\n",
        "To learn more about the holdout set method follow this link: \n",
        "https://vitalflux.com/hold-out-method-for-training-machine-learning-model/\n"
      ],
      "metadata": {
        "id": "exMCLuCKSvqf"
      }
    },
    {
      "cell_type": "code",
      "source": [
        "feature_df = dfhist[['Shots','SoT','PK','PKatt','Exp_Goals','npxG']]\n",
        "\n",
        "# Setting up targets as the column of goals\n",
        "targets = np.array(dfhist['Goals'])\n",
        "featurelist = list(feature_df.columns)\n",
        "features = np.array(feature_df)\n",
        "\n",
        "# Using the train_test_split function to create a holdout set, training the data on 75% and testing the model on 25% of the data\n",
        "train_features, test_features, train_targets, test_targets = train_test_split(features, targets, test_size = 0.25, random_state = 50)\n",
        "\n",
        "print('Training Features Shape:', train_features.shape)\n",
        "print('Training Targets Shape:', train_targets.shape)\n",
        "print('Testing Features Shape:', test_features.shape)\n",
        "print('Testing Targets Shape:', test_targets.shape)"
      ],
      "metadata": {
        "colab": {
          "base_uri": "https://localhost:8080/"
        },
        "id": "uzNnSF_kaI4y",
        "outputId": "93617a38-591b-4d06-c221-9406c9593edd"
      },
      "execution_count": null,
      "outputs": [
        {
          "output_type": "stream",
          "name": "stdout",
          "text": [
            "Training Features Shape: (1452, 6)\n",
            "Training Targets Shape: (1452,)\n",
            "Testing Features Shape: (484, 6)\n",
            "Testing Targets Shape: (484,)\n"
          ]
        }
      ]
    },
    {
      "cell_type": "markdown",
      "source": [
        "We need to verify the shape of the datasets to make sure that the training features and targets as well as the testing features and targets have the same size."
      ],
      "metadata": {
        "id": "vxzowNRQTkWL"
      }
    },
    {
      "cell_type": "markdown",
      "source": [
        "## Creating and training the RandomForest model"
      ],
      "metadata": {
        "id": "cUhSrs6mTwVf"
      }
    },
    {
      "cell_type": "markdown",
      "source": [
        "Now that we have everything we need to feed the model, we import the Scikit-learn random forest regressor model, instantiate it with 1000 decision trees, and train it with the fit( ) method.\n",
        "\n",
        "To learn more about the fit() method and training a model follow this link:\n",
        "\n",
        "https://towardsdatascience.com/random-forest-in-python-24d0893d51c0\n",
        "\n"
      ],
      "metadata": {
        "id": "G3Rgvl1-T0T2"
      }
    },
    {
      "cell_type": "code",
      "source": [
        "# Import the model we are using\n",
        "from sklearn.ensemble import RandomForestRegressor\n",
        "# Instantiate model with 1000 decision trees\n",
        "rf = RandomForestRegressor(n_estimators = 1000, random_state = 50)\n",
        "# Train the model on training data\n",
        "rf.fit(train_features, train_targets)\n",
        "predictions = rf.predict(test_features)"
      ],
      "metadata": {
        "id": "vCcH5ddbSehd"
      },
      "execution_count": null,
      "outputs": []
    },
    {
      "cell_type": "markdown",
      "source": [
        "Now that our model has been trained, we make predictions on test features and compare it with the test targets. Basically, we are giving the model the shots, shots on target, penalties scored, penalties attempted, xG, and npxG and asking it to predict the goals scored. "
      ],
      "metadata": {
        "id": "mw6ruy_IUAo7"
      }
    },
    {
      "cell_type": "markdown",
      "source": [
        "## Calculating error and accuracy with first model"
      ],
      "metadata": {
        "id": "qp6gYsHIUHkY"
      }
    },
    {
      "cell_type": "markdown",
      "source": [
        "We get the mean absolute error by subtracting the target actual values from the target predictions and taking the mean."
      ],
      "metadata": {
        "id": "jmGtDw_CULFl"
      }
    },
    {
      "cell_type": "code",
      "source": [
        "errors = abs(predictions - test_targets)\n",
        "# Print out the mean absolute error\n",
        "print('Mean Absolute Error:', np.mean(errors), 'goals')"
      ],
      "metadata": {
        "colab": {
          "base_uri": "https://localhost:8080/"
        },
        "id": "-9RXpkPwSsoX",
        "outputId": "f0a62919-fdd0-42a7-eb3c-1d52b032220f"
      },
      "execution_count": null,
      "outputs": [
        {
          "output_type": "stream",
          "name": "stdout",
          "text": [
            "Mean Absolute Error: 0.6715351930167298 goals\n"
          ]
        }
      ]
    },
    {
      "cell_type": "markdown",
      "source": [
        "The mean absolute error is 0.67, which means that on average, our model predicts within 1 goal of the actual target. This is not a very high error level, so the model seems to be quite accurate. In order to see the actual accuracy of the model, we use the R2 score from scikit-learn."
      ],
      "metadata": {
        "id": "HZTQYwkeURtd"
      }
    },
    {
      "cell_type": "code",
      "source": [
        "# Accuracy of the model\n",
        "r2_score(test_targets,predictions)"
      ],
      "metadata": {
        "colab": {
          "base_uri": "https://localhost:8080/"
        },
        "id": "bo-v9H_LS6xL",
        "outputId": "6cfb9eee-2f7d-41e6-de32-f0bbd0425cf8"
      },
      "execution_count": null,
      "outputs": [
        {
          "output_type": "stream",
          "name": "stdout",
          "text": [
            "R2 Scrore: 0.9018658100945267\n"
          ]
        }
      ]
    },
    {
      "cell_type": "markdown",
      "source": [
        "We get an R2 score of 0.90. This means our model is 90% accurate. We are quite pleased with this result and it means the training of our model has been successful.  "
      ],
      "metadata": {
        "id": "lP5Hm0STVJUt"
      }
    },
    {
      "cell_type": "markdown",
      "source": [
        "## Manually testing the accuracy of our model"
      ],
      "metadata": {
        "id": "N2OXijD6VwZr"
      }
    },
    {
      "cell_type": "markdown",
      "source": [
        "Now let's see an example of a prediction with context. In their 2018-19 title winning season, Manchester City’s Sergio Aguero scored 21 goals. If we input his features for the season, our model should be able to tell us how many goals he scored. "
      ],
      "metadata": {
        "id": "KulsW6BdV1sI"
      }
    },
    {
      "cell_type": "code",
      "source": [
        "sergiodf = dfhist.loc[dfhist['Player'] == 'Sergio Agüero']\n",
        "# Taking the data for Sergio Aguero for the 2018-2019 Season\n",
        "sergio = sergiodf.iloc[1]\n",
        "sergiodf = pd.DataFrame(sergio).transpose()\n",
        "sergiodf"
      ],
      "metadata": {
        "colab": {
          "base_uri": "https://localhost:8080/",
          "height": 197
        },
        "id": "gPVsyWYiXLI1",
        "outputId": "549e273f-9189-40fa-97b7-bd38d2f103f8"
      },
      "execution_count": null,
      "outputs": [
        {
          "output_type": "execute_result",
          "data": {
            "text/html": [
              "\n",
              "  <div id=\"df-4f028555-5188-4508-a423-ce37f58d1013\">\n",
              "    <div class=\"colab-df-container\">\n",
              "      <div>\n",
              "<style scoped>\n",
              "    .dataframe tbody tr th:only-of-type {\n",
              "        vertical-align: middle;\n",
              "    }\n",
              "\n",
              "    .dataframe tbody tr th {\n",
              "        vertical-align: top;\n",
              "    }\n",
              "\n",
              "    .dataframe thead th {\n",
              "        text-align: right;\n",
              "    }\n",
              "</style>\n",
              "<table border=\"1\" class=\"dataframe\">\n",
              "  <thead>\n",
              "    <tr style=\"text-align: right;\">\n",
              "      <th></th>\n",
              "      <th>Player</th>\n",
              "      <th>Nation</th>\n",
              "      <th>Position</th>\n",
              "      <th>Team</th>\n",
              "      <th>Age</th>\n",
              "      <th>90s</th>\n",
              "      <th>Goals</th>\n",
              "      <th>Shots</th>\n",
              "      <th>SoT</th>\n",
              "      <th>SoT%</th>\n",
              "      <th>Shots per game</th>\n",
              "      <th>SoT per game</th>\n",
              "      <th>G/Sh</th>\n",
              "      <th>G/SoT</th>\n",
              "      <th>Dist</th>\n",
              "      <th>FK</th>\n",
              "      <th>PK</th>\n",
              "      <th>PKatt</th>\n",
              "      <th>Exp_Goals</th>\n",
              "      <th>npxG</th>\n",
              "      <th>npxG/Sh</th>\n",
              "      <th>Season</th>\n",
              "      <th>yearIndex</th>\n",
              "    </tr>\n",
              "  </thead>\n",
              "  <tbody>\n",
              "    <tr>\n",
              "      <th>530</th>\n",
              "      <td>Sergio Agüero</td>\n",
              "      <td>ARG</td>\n",
              "      <td>FW</td>\n",
              "      <td>Manchester City</td>\n",
              "      <td>30</td>\n",
              "      <td>27.3</td>\n",
              "      <td>21</td>\n",
              "      <td>113</td>\n",
              "      <td>41</td>\n",
              "      <td>36.3</td>\n",
              "      <td>4.14</td>\n",
              "      <td>1.5</td>\n",
              "      <td>0.17</td>\n",
              "      <td>0.46</td>\n",
              "      <td>14.2</td>\n",
              "      <td>3</td>\n",
              "      <td>2</td>\n",
              "      <td>2</td>\n",
              "      <td>19.6</td>\n",
              "      <td>18.1</td>\n",
              "      <td>0.16</td>\n",
              "      <td>2018-19</td>\n",
              "      <td>1</td>\n",
              "    </tr>\n",
              "  </tbody>\n",
              "</table>\n",
              "</div>\n",
              "      <button class=\"colab-df-convert\" onclick=\"convertToInteractive('df-4f028555-5188-4508-a423-ce37f58d1013')\"\n",
              "              title=\"Convert this dataframe to an interactive table.\"\n",
              "              style=\"display:none;\">\n",
              "        \n",
              "  <svg xmlns=\"http://www.w3.org/2000/svg\" height=\"24px\"viewBox=\"0 0 24 24\"\n",
              "       width=\"24px\">\n",
              "    <path d=\"M0 0h24v24H0V0z\" fill=\"none\"/>\n",
              "    <path d=\"M18.56 5.44l.94 2.06.94-2.06 2.06-.94-2.06-.94-.94-2.06-.94 2.06-2.06.94zm-11 1L8.5 8.5l.94-2.06 2.06-.94-2.06-.94L8.5 2.5l-.94 2.06-2.06.94zm10 10l.94 2.06.94-2.06 2.06-.94-2.06-.94-.94-2.06-.94 2.06-2.06.94z\"/><path d=\"M17.41 7.96l-1.37-1.37c-.4-.4-.92-.59-1.43-.59-.52 0-1.04.2-1.43.59L10.3 9.45l-7.72 7.72c-.78.78-.78 2.05 0 2.83L4 21.41c.39.39.9.59 1.41.59.51 0 1.02-.2 1.41-.59l7.78-7.78 2.81-2.81c.8-.78.8-2.07 0-2.86zM5.41 20L4 18.59l7.72-7.72 1.47 1.35L5.41 20z\"/>\n",
              "  </svg>\n",
              "      </button>\n",
              "      \n",
              "  <style>\n",
              "    .colab-df-container {\n",
              "      display:flex;\n",
              "      flex-wrap:wrap;\n",
              "      gap: 12px;\n",
              "    }\n",
              "\n",
              "    .colab-df-convert {\n",
              "      background-color: #E8F0FE;\n",
              "      border: none;\n",
              "      border-radius: 50%;\n",
              "      cursor: pointer;\n",
              "      display: none;\n",
              "      fill: #1967D2;\n",
              "      height: 32px;\n",
              "      padding: 0 0 0 0;\n",
              "      width: 32px;\n",
              "    }\n",
              "\n",
              "    .colab-df-convert:hover {\n",
              "      background-color: #E2EBFA;\n",
              "      box-shadow: 0px 1px 2px rgba(60, 64, 67, 0.3), 0px 1px 3px 1px rgba(60, 64, 67, 0.15);\n",
              "      fill: #174EA6;\n",
              "    }\n",
              "\n",
              "    [theme=dark] .colab-df-convert {\n",
              "      background-color: #3B4455;\n",
              "      fill: #D2E3FC;\n",
              "    }\n",
              "\n",
              "    [theme=dark] .colab-df-convert:hover {\n",
              "      background-color: #434B5C;\n",
              "      box-shadow: 0px 1px 3px 1px rgba(0, 0, 0, 0.15);\n",
              "      filter: drop-shadow(0px 1px 2px rgba(0, 0, 0, 0.3));\n",
              "      fill: #FFFFFF;\n",
              "    }\n",
              "  </style>\n",
              "\n",
              "      <script>\n",
              "        const buttonEl =\n",
              "          document.querySelector('#df-4f028555-5188-4508-a423-ce37f58d1013 button.colab-df-convert');\n",
              "        buttonEl.style.display =\n",
              "          google.colab.kernel.accessAllowed ? 'block' : 'none';\n",
              "\n",
              "        async function convertToInteractive(key) {\n",
              "          const element = document.querySelector('#df-4f028555-5188-4508-a423-ce37f58d1013');\n",
              "          const dataTable =\n",
              "            await google.colab.kernel.invokeFunction('convertToInteractive',\n",
              "                                                     [key], {});\n",
              "          if (!dataTable) return;\n",
              "\n",
              "          const docLinkHtml = 'Like what you see? Visit the ' +\n",
              "            '<a target=\"_blank\" href=https://colab.research.google.com/notebooks/data_table.ipynb>data table notebook</a>'\n",
              "            + ' to learn more about interactive tables.';\n",
              "          element.innerHTML = '';\n",
              "          dataTable['output_type'] = 'display_data';\n",
              "          await google.colab.output.renderOutput(dataTable, element);\n",
              "          const docLink = document.createElement('div');\n",
              "          docLink.innerHTML = docLinkHtml;\n",
              "          element.appendChild(docLink);\n",
              "        }\n",
              "      </script>\n",
              "    </div>\n",
              "  </div>\n",
              "  "
            ],
            "text/plain": [
              "0           Player Nation Position  ... npxG/Sh   Season yearIndex\n",
              "530  Sergio Agüero    ARG       FW  ...    0.16  2018-19         1\n",
              "\n",
              "[1 rows x 23 columns]"
            ]
          },
          "metadata": {},
          "execution_count": 266
        }
      ]
    },
    {
      "cell_type": "code",
      "source": [
        "# Setting up the input for the prediction model\n",
        "sergio_input = [[sergio['Shots'],sergio['SoT'],sergio['PK'],sergio['PKatt'],sergio['Exp_Goals'],sergio['npxG']]]\n",
        "sergio_input"
      ],
      "metadata": {
        "colab": {
          "base_uri": "https://localhost:8080/"
        },
        "id": "Gig7500jYOSE",
        "outputId": "689e9035-26d4-4fbf-d02a-34da6617af3e"
      },
      "execution_count": null,
      "outputs": [
        {
          "output_type": "execute_result",
          "data": {
            "text/plain": [
              "[[113.0, 41, 2, 2, 19.6, 18.1]]"
            ]
          },
          "metadata": {},
          "execution_count": 240
        }
      ]
    },
    {
      "cell_type": "code",
      "source": [
        "# Predicting the goals for Sergio Aguero based on his stats from the 2018-2019 season\n",
        "sergio_goals = rf.predict(sergio_input)\n",
        "int(sergio_goals[0])\n",
        "# It predicts 21 goals for Sergio Aguero by the end of the 18-19 season, which is exactly how many he did score. \n",
        "# Need to add showing his actual goals.\n",
        "print(f\"Number of goals actually scored by Sergio Aguero: \"+str(sergio['Goals'])+ \" and number of goals predicted by our model: \"+str(int(sergio_goals[0])))"
      ],
      "metadata": {
        "id": "VMQ4ZT7FZGGv",
        "colab": {
          "base_uri": "https://localhost:8080/"
        },
        "outputId": "9ba8c95e-90d5-4eeb-b091-51eeb1e56f7f"
      },
      "execution_count": null,
      "outputs": [
        {
          "output_type": "stream",
          "name": "stdout",
          "text": [
            "Number of goals actually scored by Sergio Aguero: 21 and number of goals predicted by our model: 21\n"
          ]
        }
      ]
    },
    {
      "cell_type": "markdown",
      "source": [
        "Excellent! Our model was able to accurately predict exactly how many goals Aguero scored during the 2018-19 season."
      ],
      "metadata": {
        "id": "YRxhZI_LWZ7Y"
      }
    },
    {
      "cell_type": "markdown",
      "source": [
        "There is one potential issue with this prediction. Since the historic player data was split into training and testing sets, there is a chance that Aguero's feature vector for the 18-19 season was seen by the model during supervised learning. To get around this, let’s ask the model to predict the number of goals Cristiano Ronaldo has scored this season, which is not part of the historic dataset.\n"
      ],
      "metadata": {
        "id": "kCFu5rfjWmmK"
      }
    },
    {
      "cell_type": "code",
      "source": [
        "# Testing raw data the model has not seen. Using 21-22 current day data\n",
        "cristianodf = df2122.loc[df2122['Player'] == 'Cristiano Ronaldo']\n",
        "cristianodf\n"
      ],
      "metadata": {
        "colab": {
          "base_uri": "https://localhost:8080/",
          "height": 159
        },
        "id": "OSq2QFKebpub",
        "outputId": "ed8c3f08-1e70-4f90-df63-f85cc6a29fb2"
      },
      "execution_count": null,
      "outputs": [
        {
          "output_type": "execute_result",
          "data": {
            "text/html": [
              "\n",
              "  <div id=\"df-145fe5b6-42a5-435b-9dea-b4707b1f3ff0\">\n",
              "    <div class=\"colab-df-container\">\n",
              "      <div>\n",
              "<style scoped>\n",
              "    .dataframe tbody tr th:only-of-type {\n",
              "        vertical-align: middle;\n",
              "    }\n",
              "\n",
              "    .dataframe tbody tr th {\n",
              "        vertical-align: top;\n",
              "    }\n",
              "\n",
              "    .dataframe thead th {\n",
              "        text-align: right;\n",
              "    }\n",
              "</style>\n",
              "<table border=\"1\" class=\"dataframe\">\n",
              "  <thead>\n",
              "    <tr style=\"text-align: right;\">\n",
              "      <th></th>\n",
              "      <th>Player</th>\n",
              "      <th>Nation</th>\n",
              "      <th>Position</th>\n",
              "      <th>Team</th>\n",
              "      <th>Age</th>\n",
              "      <th>90s</th>\n",
              "      <th>Goals</th>\n",
              "      <th>Shots</th>\n",
              "      <th>SoT</th>\n",
              "      <th>SoT%</th>\n",
              "      <th>Shots per game</th>\n",
              "      <th>SoT per game</th>\n",
              "      <th>G/Sh</th>\n",
              "      <th>G/SoT</th>\n",
              "      <th>Dist</th>\n",
              "      <th>FK</th>\n",
              "      <th>PK</th>\n",
              "      <th>PKatt</th>\n",
              "      <th>Exp_Goals</th>\n",
              "      <th>npxG</th>\n",
              "      <th>npxG/Sh</th>\n",
              "    </tr>\n",
              "  </thead>\n",
              "  <tbody>\n",
              "    <tr>\n",
              "      <th>358</th>\n",
              "      <td>Cristiano Ronaldo</td>\n",
              "      <td>POR</td>\n",
              "      <td>FW</td>\n",
              "      <td>Manchester Utd</td>\n",
              "      <td>36</td>\n",
              "      <td>11.4</td>\n",
              "      <td>7</td>\n",
              "      <td>44.0</td>\n",
              "      <td>17</td>\n",
              "      <td>38.6</td>\n",
              "      <td>3.85</td>\n",
              "      <td>1.49</td>\n",
              "      <td>0.11</td>\n",
              "      <td>0.29</td>\n",
              "      <td>14.9</td>\n",
              "      <td>2</td>\n",
              "      <td>2</td>\n",
              "      <td>2</td>\n",
              "      <td>7.2</td>\n",
              "      <td>5.7</td>\n",
              "      <td>0.14</td>\n",
              "    </tr>\n",
              "  </tbody>\n",
              "</table>\n",
              "</div>\n",
              "      <button class=\"colab-df-convert\" onclick=\"convertToInteractive('df-145fe5b6-42a5-435b-9dea-b4707b1f3ff0')\"\n",
              "              title=\"Convert this dataframe to an interactive table.\"\n",
              "              style=\"display:none;\">\n",
              "        \n",
              "  <svg xmlns=\"http://www.w3.org/2000/svg\" height=\"24px\"viewBox=\"0 0 24 24\"\n",
              "       width=\"24px\">\n",
              "    <path d=\"M0 0h24v24H0V0z\" fill=\"none\"/>\n",
              "    <path d=\"M18.56 5.44l.94 2.06.94-2.06 2.06-.94-2.06-.94-.94-2.06-.94 2.06-2.06.94zm-11 1L8.5 8.5l.94-2.06 2.06-.94-2.06-.94L8.5 2.5l-.94 2.06-2.06.94zm10 10l.94 2.06.94-2.06 2.06-.94-2.06-.94-.94-2.06-.94 2.06-2.06.94z\"/><path d=\"M17.41 7.96l-1.37-1.37c-.4-.4-.92-.59-1.43-.59-.52 0-1.04.2-1.43.59L10.3 9.45l-7.72 7.72c-.78.78-.78 2.05 0 2.83L4 21.41c.39.39.9.59 1.41.59.51 0 1.02-.2 1.41-.59l7.78-7.78 2.81-2.81c.8-.78.8-2.07 0-2.86zM5.41 20L4 18.59l7.72-7.72 1.47 1.35L5.41 20z\"/>\n",
              "  </svg>\n",
              "      </button>\n",
              "      \n",
              "  <style>\n",
              "    .colab-df-container {\n",
              "      display:flex;\n",
              "      flex-wrap:wrap;\n",
              "      gap: 12px;\n",
              "    }\n",
              "\n",
              "    .colab-df-convert {\n",
              "      background-color: #E8F0FE;\n",
              "      border: none;\n",
              "      border-radius: 50%;\n",
              "      cursor: pointer;\n",
              "      display: none;\n",
              "      fill: #1967D2;\n",
              "      height: 32px;\n",
              "      padding: 0 0 0 0;\n",
              "      width: 32px;\n",
              "    }\n",
              "\n",
              "    .colab-df-convert:hover {\n",
              "      background-color: #E2EBFA;\n",
              "      box-shadow: 0px 1px 2px rgba(60, 64, 67, 0.3), 0px 1px 3px 1px rgba(60, 64, 67, 0.15);\n",
              "      fill: #174EA6;\n",
              "    }\n",
              "\n",
              "    [theme=dark] .colab-df-convert {\n",
              "      background-color: #3B4455;\n",
              "      fill: #D2E3FC;\n",
              "    }\n",
              "\n",
              "    [theme=dark] .colab-df-convert:hover {\n",
              "      background-color: #434B5C;\n",
              "      box-shadow: 0px 1px 3px 1px rgba(0, 0, 0, 0.15);\n",
              "      filter: drop-shadow(0px 1px 2px rgba(0, 0, 0, 0.3));\n",
              "      fill: #FFFFFF;\n",
              "    }\n",
              "  </style>\n",
              "\n",
              "      <script>\n",
              "        const buttonEl =\n",
              "          document.querySelector('#df-145fe5b6-42a5-435b-9dea-b4707b1f3ff0 button.colab-df-convert');\n",
              "        buttonEl.style.display =\n",
              "          google.colab.kernel.accessAllowed ? 'block' : 'none';\n",
              "\n",
              "        async function convertToInteractive(key) {\n",
              "          const element = document.querySelector('#df-145fe5b6-42a5-435b-9dea-b4707b1f3ff0');\n",
              "          const dataTable =\n",
              "            await google.colab.kernel.invokeFunction('convertToInteractive',\n",
              "                                                     [key], {});\n",
              "          if (!dataTable) return;\n",
              "\n",
              "          const docLinkHtml = 'Like what you see? Visit the ' +\n",
              "            '<a target=\"_blank\" href=https://colab.research.google.com/notebooks/data_table.ipynb>data table notebook</a>'\n",
              "            + ' to learn more about interactive tables.';\n",
              "          element.innerHTML = '';\n",
              "          dataTable['output_type'] = 'display_data';\n",
              "          await google.colab.output.renderOutput(dataTable, element);\n",
              "          const docLink = document.createElement('div');\n",
              "          docLink.innerHTML = docLinkHtml;\n",
              "          element.appendChild(docLink);\n",
              "        }\n",
              "      </script>\n",
              "    </div>\n",
              "  </div>\n",
              "  "
            ],
            "text/plain": [
              "0               Player Nation Position  ... Exp_Goals  npxG  npxG/Sh\n",
              "358  Cristiano Ronaldo    POR       FW  ...       7.2   5.7     0.14\n",
              "\n",
              "[1 rows x 21 columns]"
            ]
          },
          "metadata": {},
          "execution_count": 242
        }
      ]
    },
    {
      "cell_type": "markdown",
      "source": [
        "We can observe that Ronaldo has scored 7 goals so far this season."
      ],
      "metadata": {
        "id": "gk2GDJjBXPtR"
      }
    },
    {
      "cell_type": "code",
      "source": [
        "cristiano_input = [[44,17,2,2,7.2,5.7]]\n",
        "cristiano_goals = rf.predict(cristiano_input)\n",
        "cristiano_goals[0]"
      ],
      "metadata": {
        "colab": {
          "base_uri": "https://localhost:8080/"
        },
        "id": "xMHZAlOfpUZW",
        "outputId": "e78b272a-bbe0-478b-e124-3804fab9d1a9"
      },
      "execution_count": null,
      "outputs": [
        {
          "output_type": "execute_result",
          "data": {
            "text/plain": [
              "8.095333333333334"
            ]
          },
          "metadata": {},
          "execution_count": 243
        }
      ]
    },
    {
      "cell_type": "markdown",
      "source": [
        "Our model predicted that Ronaldo scored 8 goals this season. This is very close to the actual number of goals he has in the current season, there is still a small level of error which does make sense considering our model's mean absolute error is 0.67 goals. \n"
      ],
      "metadata": {
        "id": "__LMo0aNXaUP"
      }
    },
    {
      "cell_type": "markdown",
      "source": [
        "## Predicting the top 20 goalscorers\n"
      ],
      "metadata": {
        "id": "ckKGfnq6XvFP"
      }
    },
    {
      "cell_type": "markdown",
      "source": [
        "Now that we have confidence in our model, let us predict the top scorers in the Premier League at the end of the current season. We will feed the model the features scaled up to 38 games since that is the total number of games each team will play by the end of the season. "
      ],
      "metadata": {
        "id": "iGJOXIwqXx87"
      }
    },
    {
      "cell_type": "code",
      "source": [
        "# Blank predictions\n",
        "preds = df2122['Player']\n",
        "df_preds = preds.to_frame()\n",
        "# For 21-22 Predicting the top 25 scorers based on their season data till now (December 2021)\n",
        "for index, row in df2122.iterrows():\n",
        "  # Scale down by dividing by 18, then scale up to 38 games for the whole season\n",
        "    player_vector = [[(row['Shots']/18)*38,(row['SoT']/18)*38,(row['PK']/18)*38,(row['PKatt']/18)*38,(row['Exp_Goals']/18)*38,(row['npxG']/18)*38]]\n",
        "   # Append the model's prediction to the list of predictions\n",
        "    df_preds.loc[index, 'Prediction'] = int(round(rf.predict(player_vector)[0]))\n",
        "\n",
        "# Sort the prediction\n",
        "df_preds = df_preds.sort_values(by='Prediction', ascending=False)\n",
        "df_preds = df_preds.reset_index(drop=True)\n",
        "df_preds = df_preds.shift()[1:]\n",
        "# Output top 20 predicted goalscorers\n",
        "df_preds.head(20)"
      ],
      "metadata": {
        "id": "gf2amjuKk0Ri",
        "colab": {
          "base_uri": "https://localhost:8080/",
          "height": 677
        },
        "outputId": "e3912005-d5d0-4b5f-babc-a47ff4edefff"
      },
      "execution_count": null,
      "outputs": [
        {
          "output_type": "execute_result",
          "data": {
            "text/html": [
              "\n",
              "  <div id=\"df-50968266-978b-4ef2-8ba8-52db1cd9c348\">\n",
              "    <div class=\"colab-df-container\">\n",
              "      <div>\n",
              "<style scoped>\n",
              "    .dataframe tbody tr th:only-of-type {\n",
              "        vertical-align: middle;\n",
              "    }\n",
              "\n",
              "    .dataframe tbody tr th {\n",
              "        vertical-align: top;\n",
              "    }\n",
              "\n",
              "    .dataframe thead th {\n",
              "        text-align: right;\n",
              "    }\n",
              "</style>\n",
              "<table border=\"1\" class=\"dataframe\">\n",
              "  <thead>\n",
              "    <tr style=\"text-align: right;\">\n",
              "      <th></th>\n",
              "      <th>Player</th>\n",
              "      <th>Prediction</th>\n",
              "    </tr>\n",
              "  </thead>\n",
              "  <tbody>\n",
              "    <tr>\n",
              "      <th>1</th>\n",
              "      <td>Mohamed Salah</td>\n",
              "      <td>22.0</td>\n",
              "    </tr>\n",
              "    <tr>\n",
              "      <th>2</th>\n",
              "      <td>Sadio Mané</td>\n",
              "      <td>21.0</td>\n",
              "    </tr>\n",
              "    <tr>\n",
              "      <th>3</th>\n",
              "      <td>Diogo Jota</td>\n",
              "      <td>20.0</td>\n",
              "    </tr>\n",
              "    <tr>\n",
              "      <th>4</th>\n",
              "      <td>Cristiano Ronaldo</td>\n",
              "      <td>16.0</td>\n",
              "    </tr>\n",
              "    <tr>\n",
              "      <th>5</th>\n",
              "      <td>Pierre-Emerick Aubameyang</td>\n",
              "      <td>13.0</td>\n",
              "    </tr>\n",
              "    <tr>\n",
              "      <th>6</th>\n",
              "      <td>Emmanuel Dennis</td>\n",
              "      <td>12.0</td>\n",
              "    </tr>\n",
              "    <tr>\n",
              "      <th>7</th>\n",
              "      <td>Ollie Watkins</td>\n",
              "      <td>12.0</td>\n",
              "    </tr>\n",
              "    <tr>\n",
              "      <th>8</th>\n",
              "      <td>Jarrod Bowen</td>\n",
              "      <td>11.0</td>\n",
              "    </tr>\n",
              "    <tr>\n",
              "      <th>9</th>\n",
              "      <td>Raphael Dias Belloli</td>\n",
              "      <td>11.0</td>\n",
              "    </tr>\n",
              "    <tr>\n",
              "      <th>10</th>\n",
              "      <td>Ivan Toney</td>\n",
              "      <td>10.0</td>\n",
              "    </tr>\n",
              "    <tr>\n",
              "      <th>11</th>\n",
              "      <td>Jamie Vardy</td>\n",
              "      <td>10.0</td>\n",
              "    </tr>\n",
              "    <tr>\n",
              "      <th>12</th>\n",
              "      <td>Teemu Pukki</td>\n",
              "      <td>10.0</td>\n",
              "    </tr>\n",
              "    <tr>\n",
              "      <th>13</th>\n",
              "      <td>Harry Kane</td>\n",
              "      <td>10.0</td>\n",
              "    </tr>\n",
              "    <tr>\n",
              "      <th>14</th>\n",
              "      <td>Joshua King</td>\n",
              "      <td>10.0</td>\n",
              "    </tr>\n",
              "    <tr>\n",
              "      <th>15</th>\n",
              "      <td>Mason Mount</td>\n",
              "      <td>10.0</td>\n",
              "    </tr>\n",
              "    <tr>\n",
              "      <th>16</th>\n",
              "      <td>Dominic Calvert-Lewin</td>\n",
              "      <td>10.0</td>\n",
              "    </tr>\n",
              "    <tr>\n",
              "      <th>17</th>\n",
              "      <td>Conor Gallagher</td>\n",
              "      <td>10.0</td>\n",
              "    </tr>\n",
              "    <tr>\n",
              "      <th>18</th>\n",
              "      <td>Armando Broja</td>\n",
              "      <td>9.0</td>\n",
              "    </tr>\n",
              "    <tr>\n",
              "      <th>19</th>\n",
              "      <td>Roberto Firmino</td>\n",
              "      <td>9.0</td>\n",
              "    </tr>\n",
              "    <tr>\n",
              "      <th>20</th>\n",
              "      <td>Gabriel Jesus</td>\n",
              "      <td>9.0</td>\n",
              "    </tr>\n",
              "  </tbody>\n",
              "</table>\n",
              "</div>\n",
              "      <button class=\"colab-df-convert\" onclick=\"convertToInteractive('df-50968266-978b-4ef2-8ba8-52db1cd9c348')\"\n",
              "              title=\"Convert this dataframe to an interactive table.\"\n",
              "              style=\"display:none;\">\n",
              "        \n",
              "  <svg xmlns=\"http://www.w3.org/2000/svg\" height=\"24px\"viewBox=\"0 0 24 24\"\n",
              "       width=\"24px\">\n",
              "    <path d=\"M0 0h24v24H0V0z\" fill=\"none\"/>\n",
              "    <path d=\"M18.56 5.44l.94 2.06.94-2.06 2.06-.94-2.06-.94-.94-2.06-.94 2.06-2.06.94zm-11 1L8.5 8.5l.94-2.06 2.06-.94-2.06-.94L8.5 2.5l-.94 2.06-2.06.94zm10 10l.94 2.06.94-2.06 2.06-.94-2.06-.94-.94-2.06-.94 2.06-2.06.94z\"/><path d=\"M17.41 7.96l-1.37-1.37c-.4-.4-.92-.59-1.43-.59-.52 0-1.04.2-1.43.59L10.3 9.45l-7.72 7.72c-.78.78-.78 2.05 0 2.83L4 21.41c.39.39.9.59 1.41.59.51 0 1.02-.2 1.41-.59l7.78-7.78 2.81-2.81c.8-.78.8-2.07 0-2.86zM5.41 20L4 18.59l7.72-7.72 1.47 1.35L5.41 20z\"/>\n",
              "  </svg>\n",
              "      </button>\n",
              "      \n",
              "  <style>\n",
              "    .colab-df-container {\n",
              "      display:flex;\n",
              "      flex-wrap:wrap;\n",
              "      gap: 12px;\n",
              "    }\n",
              "\n",
              "    .colab-df-convert {\n",
              "      background-color: #E8F0FE;\n",
              "      border: none;\n",
              "      border-radius: 50%;\n",
              "      cursor: pointer;\n",
              "      display: none;\n",
              "      fill: #1967D2;\n",
              "      height: 32px;\n",
              "      padding: 0 0 0 0;\n",
              "      width: 32px;\n",
              "    }\n",
              "\n",
              "    .colab-df-convert:hover {\n",
              "      background-color: #E2EBFA;\n",
              "      box-shadow: 0px 1px 2px rgba(60, 64, 67, 0.3), 0px 1px 3px 1px rgba(60, 64, 67, 0.15);\n",
              "      fill: #174EA6;\n",
              "    }\n",
              "\n",
              "    [theme=dark] .colab-df-convert {\n",
              "      background-color: #3B4455;\n",
              "      fill: #D2E3FC;\n",
              "    }\n",
              "\n",
              "    [theme=dark] .colab-df-convert:hover {\n",
              "      background-color: #434B5C;\n",
              "      box-shadow: 0px 1px 3px 1px rgba(0, 0, 0, 0.15);\n",
              "      filter: drop-shadow(0px 1px 2px rgba(0, 0, 0, 0.3));\n",
              "      fill: #FFFFFF;\n",
              "    }\n",
              "  </style>\n",
              "\n",
              "      <script>\n",
              "        const buttonEl =\n",
              "          document.querySelector('#df-50968266-978b-4ef2-8ba8-52db1cd9c348 button.colab-df-convert');\n",
              "        buttonEl.style.display =\n",
              "          google.colab.kernel.accessAllowed ? 'block' : 'none';\n",
              "\n",
              "        async function convertToInteractive(key) {\n",
              "          const element = document.querySelector('#df-50968266-978b-4ef2-8ba8-52db1cd9c348');\n",
              "          const dataTable =\n",
              "            await google.colab.kernel.invokeFunction('convertToInteractive',\n",
              "                                                     [key], {});\n",
              "          if (!dataTable) return;\n",
              "\n",
              "          const docLinkHtml = 'Like what you see? Visit the ' +\n",
              "            '<a target=\"_blank\" href=https://colab.research.google.com/notebooks/data_table.ipynb>data table notebook</a>'\n",
              "            + ' to learn more about interactive tables.';\n",
              "          element.innerHTML = '';\n",
              "          dataTable['output_type'] = 'display_data';\n",
              "          await google.colab.output.renderOutput(dataTable, element);\n",
              "          const docLink = document.createElement('div');\n",
              "          docLink.innerHTML = docLinkHtml;\n",
              "          element.appendChild(docLink);\n",
              "        }\n",
              "      </script>\n",
              "    </div>\n",
              "  </div>\n",
              "  "
            ],
            "text/plain": [
              "                       Player  Prediction\n",
              "1               Mohamed Salah        22.0\n",
              "2                  Sadio Mané        21.0\n",
              "3                  Diogo Jota        20.0\n",
              "4           Cristiano Ronaldo        16.0\n",
              "5   Pierre-Emerick Aubameyang        13.0\n",
              "6             Emmanuel Dennis        12.0\n",
              "7               Ollie Watkins        12.0\n",
              "8                Jarrod Bowen        11.0\n",
              "9        Raphael Dias Belloli        11.0\n",
              "10                 Ivan Toney        10.0\n",
              "11                Jamie Vardy        10.0\n",
              "12                Teemu Pukki        10.0\n",
              "13                 Harry Kane        10.0\n",
              "14                Joshua King        10.0\n",
              "15                Mason Mount        10.0\n",
              "16      Dominic Calvert-Lewin        10.0\n",
              "17            Conor Gallagher        10.0\n",
              "18              Armando Broja         9.0\n",
              "19            Roberto Firmino         9.0\n",
              "20              Gabriel Jesus         9.0"
            ]
          },
          "metadata": {},
          "execution_count": 244
        }
      ]
    },
    {
      "cell_type": "markdown",
      "source": [
        "There we go! It is no surprise that Mohamed Salah, the current leading goalscorer, tops the table."
      ],
      "metadata": {
        "id": "QpQ6EOeonl8J"
      }
    },
    {
      "cell_type": "markdown",
      "source": [
        "## Importance of xG\n",
        "\n",
        "In our exploratory data analysis, we saw that expected goals had the highest correlation to goals. With a correlation score of 0.94, we were initially concerned that such a strong correlation may make our model’s predictions solely based on the expected goals feature passed into the model. We had to ask ourselves, could expected goals be too good of an indicator?\n",
        "\n",
        "According to FBref, \"Expected goals (xG) is the probability that a shot will result in a goal based on the characteristics of that shot and the events leading up to it\". For example, variables like location of the shot, body part, and type of attack are taken into consideration. You can read more about FBref's explanation for xG [here](https://fbref.com/en/expected-goals-model-explained/).\n",
        "\n",
        "The xG stat that we use in our data is the cumulative expected goals of a player for a season. Expected goals is a great predictor of goals because there is a heavy amount of probability involved in its calculation which is based on expectation that professional footballers will score chances that they are expected to score."
      ],
      "metadata": {
        "id": "Yu4LFsYrWVtB"
      }
    },
    {
      "cell_type": "markdown",
      "source": [
        "### Getting feature importance for our first model"
      ],
      "metadata": {
        "id": "N-wnipYdeb14"
      }
    },
    {
      "cell_type": "markdown",
      "source": [
        "Now let’s see how much our model relies on xG to make predictions.\n"
      ],
      "metadata": {
        "id": "OhG54cqfeflL"
      }
    },
    {
      "cell_type": "code",
      "source": [
        "# Get numerical feature importances\n",
        "# Use randomforrest built-in function feature_importance to find the which features are most improtant\n",
        "importances = list(rf.feature_importances_)\n",
        "# List of tuples with variable and importance\n",
        "feature_importances = [(feature, round(importance, 2)) for feature, importance in zip(featurelist, importances)]\n",
        "\n",
        "for feature in feature_importances:\n",
        "  print(feature[0]+\" Importance: \"+str(feature[1]))"
      ],
      "metadata": {
        "id": "ivqt2SjJf7Sp",
        "colab": {
          "base_uri": "https://localhost:8080/"
        },
        "outputId": "9238a010-beab-4e21-83e1-80b6c70da245"
      },
      "execution_count": null,
      "outputs": [
        {
          "output_type": "stream",
          "name": "stdout",
          "text": [
            "Shots Importance: 0.03\n",
            "SoT Importance: 0.08\n",
            "PK Importance: 0.0\n",
            "PKatt Importance: 0.0\n",
            "Exp_Goals Importance: 0.81\n",
            "npxG Importance: 0.06\n"
          ]
        }
      ]
    },
    {
      "cell_type": "code",
      "source": [
        "# Make a bar chart\n",
        "plt.bar(featurelist, importances, color=['red','orange','yellow','green','blue','purple'])\n",
        "plt.ylabel('Importance') \n",
        "plt.xlabel('Feature') \n",
        "plt.title('Feature Importances')\n",
        "plt.show()"
      ],
      "metadata": {
        "id": "kGMFnciyhgWa",
        "colab": {
          "base_uri": "https://localhost:8080/",
          "height": 296
        },
        "outputId": "914f164f-5d12-43e9-eefc-eda91fe19c84"
      },
      "execution_count": null,
      "outputs": [
        {
          "output_type": "display_data",
          "data": {
            "image/png": "[encoded data removed]",
            "text/plain": [
              "<Figure size 432x288 with 1 Axes>"
            ]
          },
          "metadata": {
            "needs_background": "light"
          }
        }
      ]
    },
    {
      "cell_type": "markdown",
      "source": [
        "After plotting the feature importances, we see that the model relies heavily on expected goals to predict the results. When we include xG, our model performs well and maintains a low error and high accuracy level. But, now we want to measure its performance with the \"less important\" features. We will repeat the prediction model process removing the feature xG and observe the results."
      ],
      "metadata": {
        "id": "6kXGFuwGelid"
      }
    },
    {
      "cell_type": "markdown",
      "source": [
        "## Creating a second model (excluding xG) and calculating its accuracy and error\n"
      ],
      "metadata": {
        "id": "7gPnCnFGex9D"
      }
    },
    {
      "cell_type": "markdown",
      "source": [
        "After recognizing our prediction model's dependence on the xG feature, we will re-create the RandomForrest model, but this time exclude xG."
      ],
      "metadata": {
        "id": "NjCkCrV8e2Pq"
      }
    },
    {
      "cell_type": "code",
      "source": [
        "# We can see the feature lsit no longer has xG\n",
        "feature_df = dfhist[['Shots','SoT','PK','PKatt','npxG']]\n",
        "\n",
        "targets = np.array(dfhist['Goals'])\n",
        "featurelist = list(feature_df.columns)\n",
        "features = np.array(feature_df)\n",
        "\n",
        "train_features, test_features, train_targets, test_targets = train_test_split(features, targets, test_size = 0.25, random_state = 50)\n",
        "\n",
        "# Import the model we are using\n",
        "from sklearn.ensemble import RandomForestRegressor\n",
        "# Instantiate model with 1000 decision trees\n",
        "rf2 = RandomForestRegressor(n_estimators = 1000, random_state = 50)\n",
        "# Train the model on training data\n",
        "rf2.fit(train_features, train_targets)\n",
        "predictions = rf2.predict(test_features)\n",
        "\n",
        "# Calculate the absolute errors\n",
        "errors = abs(predictions - test_targets)\n",
        "# Print out the mean absolute error (mae)\n",
        "print('Mean Absolute Error for updated model excluding xG:', np.mean(errors), 'goals')\n",
        "\n",
        "# Accuracy score\n",
        "print(\"\\nThe accuracy for our updated model excluding xG: \"+str(r2_score(test_targets,predictions)))"
      ],
      "metadata": {
        "id": "pK2v36dKlQ9t",
        "colab": {
          "base_uri": "https://localhost:8080/"
        },
        "outputId": "61de9c03-ed6a-4f4e-cedb-ff830cb78a5b"
      },
      "execution_count": null,
      "outputs": [
        {
          "output_type": "stream",
          "name": "stdout",
          "text": [
            "Mean Absolute Error for updated model excluding xG: 0.6528736534658308 goals\n",
            "\n",
            "The accuracy for our updated model excluding xG: 0.9042585233688856\n"
          ]
        }
      ]
    },
    {
      "cell_type": "markdown",
      "source": [
        "## Predicting the top 20 goalscorers with our second model"
      ],
      "metadata": {
        "id": "Ryf7G5ArfiA3"
      }
    },
    {
      "cell_type": "code",
      "source": [
        "# Predicting 21-22 top 20 scorers based on model WITHOUT xG\n",
        "preds = df2122['Player']\n",
        "df_preds = preds.to_frame()\n",
        "for index, row in df2122.iterrows():\n",
        "    player_vector = [[(row['Shots']/18)*38,(row['SoT']/18)*38,(row['PK']/18)*38,(row['PKatt']/18)*38,(row['npxG']/18)*38]]\n",
        "    df_preds.loc[index, 'Prediction'] = int(round(rf2.predict(player_vector)[0]))\n",
        "\n",
        "df_preds = df_preds.sort_values(by='Prediction', ascending=False)\n",
        "df_preds = df_preds.reset_index(drop=True)\n",
        "df_preds = df_preds.shift()[1:]\n",
        "df_preds.head(20)"
      ],
      "metadata": {
        "colab": {
          "base_uri": "https://localhost:8080/",
          "height": 677
        },
        "id": "HVM0JCCZfhKF",
        "outputId": "2b536462-9664-43d6-f4bf-f16a760dfe9d"
      },
      "execution_count": null,
      "outputs": [
        {
          "output_type": "execute_result",
          "data": {
            "text/html": [
              "\n",
              "  <div id=\"df-1b9702d1-8050-4df7-9cc6-339288057857\">\n",
              "    <div class=\"colab-df-container\">\n",
              "      <div>\n",
              "<style scoped>\n",
              "    .dataframe tbody tr th:only-of-type {\n",
              "        vertical-align: middle;\n",
              "    }\n",
              "\n",
              "    .dataframe tbody tr th {\n",
              "        vertical-align: top;\n",
              "    }\n",
              "\n",
              "    .dataframe thead th {\n",
              "        text-align: right;\n",
              "    }\n",
              "</style>\n",
              "<table border=\"1\" class=\"dataframe\">\n",
              "  <thead>\n",
              "    <tr style=\"text-align: right;\">\n",
              "      <th></th>\n",
              "      <th>Player</th>\n",
              "      <th>Prediction</th>\n",
              "    </tr>\n",
              "  </thead>\n",
              "  <tbody>\n",
              "    <tr>\n",
              "      <th>1</th>\n",
              "      <td>Mohamed Salah</td>\n",
              "      <td>22.0</td>\n",
              "    </tr>\n",
              "    <tr>\n",
              "      <th>2</th>\n",
              "      <td>Sadio Mané</td>\n",
              "      <td>19.0</td>\n",
              "    </tr>\n",
              "    <tr>\n",
              "      <th>3</th>\n",
              "      <td>Diogo Jota</td>\n",
              "      <td>17.0</td>\n",
              "    </tr>\n",
              "    <tr>\n",
              "      <th>4</th>\n",
              "      <td>Cristiano Ronaldo</td>\n",
              "      <td>15.0</td>\n",
              "    </tr>\n",
              "    <tr>\n",
              "      <th>5</th>\n",
              "      <td>Pierre-Emerick Aubameyang</td>\n",
              "      <td>13.0</td>\n",
              "    </tr>\n",
              "    <tr>\n",
              "      <th>6</th>\n",
              "      <td>Raphael Dias Belloli</td>\n",
              "      <td>12.0</td>\n",
              "    </tr>\n",
              "    <tr>\n",
              "      <th>7</th>\n",
              "      <td>Ollie Watkins</td>\n",
              "      <td>12.0</td>\n",
              "    </tr>\n",
              "    <tr>\n",
              "      <th>8</th>\n",
              "      <td>Emmanuel Dennis</td>\n",
              "      <td>12.0</td>\n",
              "    </tr>\n",
              "    <tr>\n",
              "      <th>9</th>\n",
              "      <td>Mason Mount</td>\n",
              "      <td>11.0</td>\n",
              "    </tr>\n",
              "    <tr>\n",
              "      <th>10</th>\n",
              "      <td>Joshua King</td>\n",
              "      <td>11.0</td>\n",
              "    </tr>\n",
              "    <tr>\n",
              "      <th>11</th>\n",
              "      <td>Teemu Pukki</td>\n",
              "      <td>11.0</td>\n",
              "    </tr>\n",
              "    <tr>\n",
              "      <th>12</th>\n",
              "      <td>Jarrod Bowen</td>\n",
              "      <td>11.0</td>\n",
              "    </tr>\n",
              "    <tr>\n",
              "      <th>13</th>\n",
              "      <td>Ivan Toney</td>\n",
              "      <td>10.0</td>\n",
              "    </tr>\n",
              "    <tr>\n",
              "      <th>14</th>\n",
              "      <td>Harry Kane</td>\n",
              "      <td>10.0</td>\n",
              "    </tr>\n",
              "    <tr>\n",
              "      <th>15</th>\n",
              "      <td>Conor Gallagher</td>\n",
              "      <td>10.0</td>\n",
              "    </tr>\n",
              "    <tr>\n",
              "      <th>16</th>\n",
              "      <td>Jamie Vardy</td>\n",
              "      <td>10.0</td>\n",
              "    </tr>\n",
              "    <tr>\n",
              "      <th>17</th>\n",
              "      <td>Ismaila Sarr</td>\n",
              "      <td>10.0</td>\n",
              "    </tr>\n",
              "    <tr>\n",
              "      <th>18</th>\n",
              "      <td>Raheem Sterling</td>\n",
              "      <td>10.0</td>\n",
              "    </tr>\n",
              "    <tr>\n",
              "      <th>19</th>\n",
              "      <td>Armando Broja</td>\n",
              "      <td>9.0</td>\n",
              "    </tr>\n",
              "    <tr>\n",
              "      <th>20</th>\n",
              "      <td>Neal Maupay</td>\n",
              "      <td>9.0</td>\n",
              "    </tr>\n",
              "  </tbody>\n",
              "</table>\n",
              "</div>\n",
              "      <button class=\"colab-df-convert\" onclick=\"convertToInteractive('df-1b9702d1-8050-4df7-9cc6-339288057857')\"\n",
              "              title=\"Convert this dataframe to an interactive table.\"\n",
              "              style=\"display:none;\">\n",
              "        \n",
              "  <svg xmlns=\"http://www.w3.org/2000/svg\" height=\"24px\"viewBox=\"0 0 24 24\"\n",
              "       width=\"24px\">\n",
              "    <path d=\"M0 0h24v24H0V0z\" fill=\"none\"/>\n",
              "    <path d=\"M18.56 5.44l.94 2.06.94-2.06 2.06-.94-2.06-.94-.94-2.06-.94 2.06-2.06.94zm-11 1L8.5 8.5l.94-2.06 2.06-.94-2.06-.94L8.5 2.5l-.94 2.06-2.06.94zm10 10l.94 2.06.94-2.06 2.06-.94-2.06-.94-.94-2.06-.94 2.06-2.06.94z\"/><path d=\"M17.41 7.96l-1.37-1.37c-.4-.4-.92-.59-1.43-.59-.52 0-1.04.2-1.43.59L10.3 9.45l-7.72 7.72c-.78.78-.78 2.05 0 2.83L4 21.41c.39.39.9.59 1.41.59.51 0 1.02-.2 1.41-.59l7.78-7.78 2.81-2.81c.8-.78.8-2.07 0-2.86zM5.41 20L4 18.59l7.72-7.72 1.47 1.35L5.41 20z\"/>\n",
              "  </svg>\n",
              "      </button>\n",
              "      \n",
              "  <style>\n",
              "    .colab-df-container {\n",
              "      display:flex;\n",
              "      flex-wrap:wrap;\n",
              "      gap: 12px;\n",
              "    }\n",
              "\n",
              "    .colab-df-convert {\n",
              "      background-color: #E8F0FE;\n",
              "      border: none;\n",
              "      border-radius: 50%;\n",
              "      cursor: pointer;\n",
              "      display: none;\n",
              "      fill: #1967D2;\n",
              "      height: 32px;\n",
              "      padding: 0 0 0 0;\n",
              "      width: 32px;\n",
              "    }\n",
              "\n",
              "    .colab-df-convert:hover {\n",
              "      background-color: #E2EBFA;\n",
              "      box-shadow: 0px 1px 2px rgba(60, 64, 67, 0.3), 0px 1px 3px 1px rgba(60, 64, 67, 0.15);\n",
              "      fill: #174EA6;\n",
              "    }\n",
              "\n",
              "    [theme=dark] .colab-df-convert {\n",
              "      background-color: #3B4455;\n",
              "      fill: #D2E3FC;\n",
              "    }\n",
              "\n",
              "    [theme=dark] .colab-df-convert:hover {\n",
              "      background-color: #434B5C;\n",
              "      box-shadow: 0px 1px 3px 1px rgba(0, 0, 0, 0.15);\n",
              "      filter: drop-shadow(0px 1px 2px rgba(0, 0, 0, 0.3));\n",
              "      fill: #FFFFFF;\n",
              "    }\n",
              "  </style>\n",
              "\n",
              "      <script>\n",
              "        const buttonEl =\n",
              "          document.querySelector('#df-1b9702d1-8050-4df7-9cc6-339288057857 button.colab-df-convert');\n",
              "        buttonEl.style.display =\n",
              "          google.colab.kernel.accessAllowed ? 'block' : 'none';\n",
              "\n",
              "        async function convertToInteractive(key) {\n",
              "          const element = document.querySelector('#df-1b9702d1-8050-4df7-9cc6-339288057857');\n",
              "          const dataTable =\n",
              "            await google.colab.kernel.invokeFunction('convertToInteractive',\n",
              "                                                     [key], {});\n",
              "          if (!dataTable) return;\n",
              "\n",
              "          const docLinkHtml = 'Like what you see? Visit the ' +\n",
              "            '<a target=\"_blank\" href=https://colab.research.google.com/notebooks/data_table.ipynb>data table notebook</a>'\n",
              "            + ' to learn more about interactive tables.';\n",
              "          element.innerHTML = '';\n",
              "          dataTable['output_type'] = 'display_data';\n",
              "          await google.colab.output.renderOutput(dataTable, element);\n",
              "          const docLink = document.createElement('div');\n",
              "          docLink.innerHTML = docLinkHtml;\n",
              "          element.appendChild(docLink);\n",
              "        }\n",
              "      </script>\n",
              "    </div>\n",
              "  </div>\n",
              "  "
            ],
            "text/plain": [
              "                       Player  Prediction\n",
              "1               Mohamed Salah        22.0\n",
              "2                  Sadio Mané        19.0\n",
              "3                  Diogo Jota        17.0\n",
              "4           Cristiano Ronaldo        15.0\n",
              "5   Pierre-Emerick Aubameyang        13.0\n",
              "6        Raphael Dias Belloli        12.0\n",
              "7               Ollie Watkins        12.0\n",
              "8             Emmanuel Dennis        12.0\n",
              "9                 Mason Mount        11.0\n",
              "10                Joshua King        11.0\n",
              "11                Teemu Pukki        11.0\n",
              "12               Jarrod Bowen        11.0\n",
              "13                 Ivan Toney        10.0\n",
              "14                 Harry Kane        10.0\n",
              "15            Conor Gallagher        10.0\n",
              "16                Jamie Vardy        10.0\n",
              "17               Ismaila Sarr        10.0\n",
              "18            Raheem Sterling        10.0\n",
              "19              Armando Broja         9.0\n",
              "20                Neal Maupay         9.0"
            ]
          },
          "metadata": {},
          "execution_count": 248
        }
      ]
    },
    {
      "cell_type": "markdown",
      "source": [
        "After running the model without xG, we still get very similar results. The mean absolute error is actually less and the accuracy is the same. In fact most of the predictions made by both models is also the same.\n",
        "\n",
        "This shows us that there is another feature that is almost as important to this model as xG was. Lets try to find out which feature this is using the same steps we did previously. "
      ],
      "metadata": {
        "id": "kXIJk5zTj20s"
      }
    },
    {
      "cell_type": "markdown",
      "source": [
        "### Getting feature importance for our second model"
      ],
      "metadata": {
        "id": "F01bAZmLgHDy"
      }
    },
    {
      "cell_type": "code",
      "source": [
        "# Get numerical feature importances\n",
        "importances = list(rf2.feature_importances_)\n",
        "# List of tuples with variable and importance\n",
        "feature_importances = [(feature, round(importance, 2)) for feature, importance in zip(featurelist, importances)]\n",
        "\n",
        "for feature in feature_importances:\n",
        "  print(feature[0]+\" Importance: \"+str(feature[1]))"
      ],
      "metadata": {
        "id": "etKxZOxbnQAe",
        "colab": {
          "base_uri": "https://localhost:8080/"
        },
        "outputId": "85c1ba36-773e-4710-f0c4-20b5e9b3b8ba"
      },
      "execution_count": null,
      "outputs": [
        {
          "output_type": "stream",
          "name": "stdout",
          "text": [
            "Shots Importance: 0.04\n",
            "SoT Importance: 0.3\n",
            "PK Importance: 0.02\n",
            "PKatt Importance: 0.02\n",
            "npxG Importance: 0.62\n"
          ]
        }
      ]
    },
    {
      "cell_type": "code",
      "source": [
        "# Make a bar chart\n",
        "plt.bar(featurelist, importances, color=['red','orange','yellow','green','blue'])\n",
        "plt.ylabel('Importance') \n",
        "plt.xlabel('Feature') \n",
        "plt.title('Feature Importances')\n",
        "plt.show()"
      ],
      "metadata": {
        "colab": {
          "base_uri": "https://localhost:8080/",
          "height": 295
        },
        "id": "Hx4047nGVLit",
        "outputId": "2b74b1d7-4068-4bf9-e88b-b4b617a0be06"
      },
      "execution_count": null,
      "outputs": [
        {
          "output_type": "display_data",
          "data": {
            "image/png": "[encoded data removed]",
            "text/plain": [
              "<Figure size 432x288 with 1 Axes>"
            ]
          },
          "metadata": {
            "needs_background": "light"
          }
        }
      ]
    },
    {
      "cell_type": "markdown",
      "source": [
        "After plotting the feature importance without xG, we observe that there is a high importance for non-penalty expected goals (npxG). This makes sense because npxG and xG are quite similar, only differing in the 0.76 xG for each penalty attempt. We also know this from the correlation matrix, which showed a correlation of 0.98 for xG and npxG. We will finally repeat the prediction process excluding npxG as well."
      ],
      "metadata": {
        "id": "cmtz7MOng0jc"
      }
    },
    {
      "cell_type": "markdown",
      "source": [
        "## Creating a third model (excluding xG and npxG) and calculating its accuracy and error\n",
        "\n"
      ],
      "metadata": {
        "id": "fwvA1zNlgZqg"
      }
    },
    {
      "cell_type": "markdown",
      "source": [
        "After recognizing our prediction model's dependence on both the xG and npxG features, we will re-create the RandomForrest model again, but this time exclude xG and npxG."
      ],
      "metadata": {
        "id": "j8u2guMugZqh"
      }
    },
    {
      "cell_type": "code",
      "source": [
        "# We see the predictors don't have xG or non-penalty xG\n",
        "feature_df = dfhist[['Shots','SoT','PK','PKatt']]\n",
        "\n",
        "targets = np.array(dfhist['Goals'])\n",
        "featurelist = list(feature_df.columns)\n",
        "features = np.array(feature_df)\n",
        "\n",
        "train_features, test_features, train_targets, test_targets = train_test_split(features, targets, test_size = 0.25, random_state = 50)\n",
        "\n",
        "# Import the model we are using\n",
        "from sklearn.ensemble import RandomForestRegressor\n",
        "# Instantiate model with 1000 decision trees\n",
        "rf3 = RandomForestRegressor(n_estimators = 1000, random_state = 50)\n",
        "# Train the model on training data\n",
        "rf3.fit(train_features, train_targets)\n",
        "predictions = rf3.predict(test_features)\n",
        "\n",
        "# Calculate the absolute errors\n",
        "errors = abs(predictions - test_targets)\n",
        "# Print out the mean absolute error (mae)\n",
        "print('Mean Absolute Error:', np.mean(errors), 'goals')\n",
        "\n",
        "# Print accuracy, note it is still accurate, almost equal accuracy to model with xg and non-pen xg\n",
        "print(\"\\n\"+str(r2_score(test_targets,predictions)))\n"
      ],
      "metadata": {
        "id": "Wlf6CHfHnbdt",
        "colab": {
          "base_uri": "https://localhost:8080/"
        },
        "outputId": "10823f2e-bec4-48c3-e760-8b7cd6458169"
      },
      "execution_count": null,
      "outputs": [
        {
          "output_type": "stream",
          "name": "stdout",
          "text": [
            "Mean Absolute Error: 0.7413479991757604 goals\n",
            "\n",
            "0.8662449332471283\n"
          ]
        }
      ]
    },
    {
      "cell_type": "markdown",
      "source": [
        "## Predicting the top 20 goalscorers with our third model"
      ],
      "metadata": {
        "id": "x41Erbg-hCYN"
      }
    },
    {
      "cell_type": "code",
      "source": [
        "preds = df2122['Player']\n",
        "df_preds = preds.to_frame()\n",
        "for index, row in df2122.iterrows():\n",
        "    player_vector = [[(row['Shots']/18)*38,(row['SoT']/18)*38,(row['PK']/18)*38,(row['PKatt']/18)*38]]\n",
        "    df_preds.loc[index, 'Prediction'] = int(round(rf3.predict(player_vector)[0]))\n",
        "\n",
        "df_preds = df_preds.sort_values(by='Prediction', ascending=False)\n",
        "df_preds = df_preds.reset_index(drop=True)\n",
        "df_preds = df_preds.shift()[1:]\n",
        "df_preds.head(20)"
      ],
      "metadata": {
        "colab": {
          "base_uri": "https://localhost:8080/",
          "height": 677
        },
        "id": "Zpoz7UCFhILE",
        "outputId": "e4104031-390b-4106-a87c-78fb6f6860d6"
      },
      "execution_count": null,
      "outputs": [
        {
          "output_type": "execute_result",
          "data": {
            "text/html": [
              "\n",
              "  <div id=\"df-bf26b6f4-a4f9-47d3-ad52-38b7d543610c\">\n",
              "    <div class=\"colab-df-container\">\n",
              "      <div>\n",
              "<style scoped>\n",
              "    .dataframe tbody tr th:only-of-type {\n",
              "        vertical-align: middle;\n",
              "    }\n",
              "\n",
              "    .dataframe tbody tr th {\n",
              "        vertical-align: top;\n",
              "    }\n",
              "\n",
              "    .dataframe thead th {\n",
              "        text-align: right;\n",
              "    }\n",
              "</style>\n",
              "<table border=\"1\" class=\"dataframe\">\n",
              "  <thead>\n",
              "    <tr style=\"text-align: right;\">\n",
              "      <th></th>\n",
              "      <th>Player</th>\n",
              "      <th>Prediction</th>\n",
              "    </tr>\n",
              "  </thead>\n",
              "  <tbody>\n",
              "    <tr>\n",
              "      <th>1</th>\n",
              "      <td>Mohamed Salah</td>\n",
              "      <td>23.0</td>\n",
              "    </tr>\n",
              "    <tr>\n",
              "      <th>2</th>\n",
              "      <td>Cristiano Ronaldo</td>\n",
              "      <td>21.0</td>\n",
              "    </tr>\n",
              "    <tr>\n",
              "      <th>3</th>\n",
              "      <td>Emmanuel Dennis</td>\n",
              "      <td>16.0</td>\n",
              "    </tr>\n",
              "    <tr>\n",
              "      <th>4</th>\n",
              "      <td>Pierre-Emerick Aubameyang</td>\n",
              "      <td>14.0</td>\n",
              "    </tr>\n",
              "    <tr>\n",
              "      <th>5</th>\n",
              "      <td>Raphael Dias Belloli</td>\n",
              "      <td>13.0</td>\n",
              "    </tr>\n",
              "    <tr>\n",
              "      <th>6</th>\n",
              "      <td>Jarrod Bowen</td>\n",
              "      <td>13.0</td>\n",
              "    </tr>\n",
              "    <tr>\n",
              "      <th>7</th>\n",
              "      <td>Leandro Trossard</td>\n",
              "      <td>13.0</td>\n",
              "    </tr>\n",
              "    <tr>\n",
              "      <th>8</th>\n",
              "      <td>Ollie Watkins</td>\n",
              "      <td>12.0</td>\n",
              "    </tr>\n",
              "    <tr>\n",
              "      <th>9</th>\n",
              "      <td>Teemu Pukki</td>\n",
              "      <td>11.0</td>\n",
              "    </tr>\n",
              "    <tr>\n",
              "      <th>10</th>\n",
              "      <td>Sadio Mané</td>\n",
              "      <td>11.0</td>\n",
              "    </tr>\n",
              "    <tr>\n",
              "      <th>11</th>\n",
              "      <td>Mason Mount</td>\n",
              "      <td>11.0</td>\n",
              "    </tr>\n",
              "    <tr>\n",
              "      <th>12</th>\n",
              "      <td>Conor Gallagher</td>\n",
              "      <td>10.0</td>\n",
              "    </tr>\n",
              "    <tr>\n",
              "      <th>13</th>\n",
              "      <td>Harvey Barnes</td>\n",
              "      <td>10.0</td>\n",
              "    </tr>\n",
              "    <tr>\n",
              "      <th>14</th>\n",
              "      <td>Ivan Toney</td>\n",
              "      <td>10.0</td>\n",
              "    </tr>\n",
              "    <tr>\n",
              "      <th>15</th>\n",
              "      <td>Ismaila Sarr</td>\n",
              "      <td>10.0</td>\n",
              "    </tr>\n",
              "    <tr>\n",
              "      <th>16</th>\n",
              "      <td>Raheem Sterling</td>\n",
              "      <td>10.0</td>\n",
              "    </tr>\n",
              "    <tr>\n",
              "      <th>17</th>\n",
              "      <td>Jamie Vardy</td>\n",
              "      <td>10.0</td>\n",
              "    </tr>\n",
              "    <tr>\n",
              "      <th>18</th>\n",
              "      <td>Jack Grealish</td>\n",
              "      <td>10.0</td>\n",
              "    </tr>\n",
              "    <tr>\n",
              "      <th>19</th>\n",
              "      <td>James Ward-Prowse</td>\n",
              "      <td>10.0</td>\n",
              "    </tr>\n",
              "    <tr>\n",
              "      <th>20</th>\n",
              "      <td>Phil Foden</td>\n",
              "      <td>10.0</td>\n",
              "    </tr>\n",
              "  </tbody>\n",
              "</table>\n",
              "</div>\n",
              "      <button class=\"colab-df-convert\" onclick=\"convertToInteractive('df-bf26b6f4-a4f9-47d3-ad52-38b7d543610c')\"\n",
              "              title=\"Convert this dataframe to an interactive table.\"\n",
              "              style=\"display:none;\">\n",
              "        \n",
              "  <svg xmlns=\"http://www.w3.org/2000/svg\" height=\"24px\"viewBox=\"0 0 24 24\"\n",
              "       width=\"24px\">\n",
              "    <path d=\"M0 0h24v24H0V0z\" fill=\"none\"/>\n",
              "    <path d=\"M18.56 5.44l.94 2.06.94-2.06 2.06-.94-2.06-.94-.94-2.06-.94 2.06-2.06.94zm-11 1L8.5 8.5l.94-2.06 2.06-.94-2.06-.94L8.5 2.5l-.94 2.06-2.06.94zm10 10l.94 2.06.94-2.06 2.06-.94-2.06-.94-.94-2.06-.94 2.06-2.06.94z\"/><path d=\"M17.41 7.96l-1.37-1.37c-.4-.4-.92-.59-1.43-.59-.52 0-1.04.2-1.43.59L10.3 9.45l-7.72 7.72c-.78.78-.78 2.05 0 2.83L4 21.41c.39.39.9.59 1.41.59.51 0 1.02-.2 1.41-.59l7.78-7.78 2.81-2.81c.8-.78.8-2.07 0-2.86zM5.41 20L4 18.59l7.72-7.72 1.47 1.35L5.41 20z\"/>\n",
              "  </svg>\n",
              "      </button>\n",
              "      \n",
              "  <style>\n",
              "    .colab-df-container {\n",
              "      display:flex;\n",
              "      flex-wrap:wrap;\n",
              "      gap: 12px;\n",
              "    }\n",
              "\n",
              "    .colab-df-convert {\n",
              "      background-color: #E8F0FE;\n",
              "      border: none;\n",
              "      border-radius: 50%;\n",
              "      cursor: pointer;\n",
              "      display: none;\n",
              "      fill: #1967D2;\n",
              "      height: 32px;\n",
              "      padding: 0 0 0 0;\n",
              "      width: 32px;\n",
              "    }\n",
              "\n",
              "    .colab-df-convert:hover {\n",
              "      background-color: #E2EBFA;\n",
              "      box-shadow: 0px 1px 2px rgba(60, 64, 67, 0.3), 0px 1px 3px 1px rgba(60, 64, 67, 0.15);\n",
              "      fill: #174EA6;\n",
              "    }\n",
              "\n",
              "    [theme=dark] .colab-df-convert {\n",
              "      background-color: #3B4455;\n",
              "      fill: #D2E3FC;\n",
              "    }\n",
              "\n",
              "    [theme=dark] .colab-df-convert:hover {\n",
              "      background-color: #434B5C;\n",
              "      box-shadow: 0px 1px 3px 1px rgba(0, 0, 0, 0.15);\n",
              "      filter: drop-shadow(0px 1px 2px rgba(0, 0, 0, 0.3));\n",
              "      fill: #FFFFFF;\n",
              "    }\n",
              "  </style>\n",
              "\n",
              "      <script>\n",
              "        const buttonEl =\n",
              "          document.querySelector('#df-bf26b6f4-a4f9-47d3-ad52-38b7d543610c button.colab-df-convert');\n",
              "        buttonEl.style.display =\n",
              "          google.colab.kernel.accessAllowed ? 'block' : 'none';\n",
              "\n",
              "        async function convertToInteractive(key) {\n",
              "          const element = document.querySelector('#df-bf26b6f4-a4f9-47d3-ad52-38b7d543610c');\n",
              "          const dataTable =\n",
              "            await google.colab.kernel.invokeFunction('convertToInteractive',\n",
              "                                                     [key], {});\n",
              "          if (!dataTable) return;\n",
              "\n",
              "          const docLinkHtml = 'Like what you see? Visit the ' +\n",
              "            '<a target=\"_blank\" href=https://colab.research.google.com/notebooks/data_table.ipynb>data table notebook</a>'\n",
              "            + ' to learn more about interactive tables.';\n",
              "          element.innerHTML = '';\n",
              "          dataTable['output_type'] = 'display_data';\n",
              "          await google.colab.output.renderOutput(dataTable, element);\n",
              "          const docLink = document.createElement('div');\n",
              "          docLink.innerHTML = docLinkHtml;\n",
              "          element.appendChild(docLink);\n",
              "        }\n",
              "      </script>\n",
              "    </div>\n",
              "  </div>\n",
              "  "
            ],
            "text/plain": [
              "                       Player  Prediction\n",
              "1               Mohamed Salah        23.0\n",
              "2           Cristiano Ronaldo        21.0\n",
              "3             Emmanuel Dennis        16.0\n",
              "4   Pierre-Emerick Aubameyang        14.0\n",
              "5        Raphael Dias Belloli        13.0\n",
              "6                Jarrod Bowen        13.0\n",
              "7            Leandro Trossard        13.0\n",
              "8               Ollie Watkins        12.0\n",
              "9                 Teemu Pukki        11.0\n",
              "10                 Sadio Mané        11.0\n",
              "11                Mason Mount        11.0\n",
              "12            Conor Gallagher        10.0\n",
              "13              Harvey Barnes        10.0\n",
              "14                 Ivan Toney        10.0\n",
              "15               Ismaila Sarr        10.0\n",
              "16            Raheem Sterling        10.0\n",
              "17                Jamie Vardy        10.0\n",
              "18              Jack Grealish        10.0\n",
              "19          James Ward-Prowse        10.0\n",
              "20                 Phil Foden        10.0"
            ]
          },
          "metadata": {},
          "execution_count": 252
        }
      ]
    },
    {
      "cell_type": "markdown",
      "source": [
        "After running the model excluding both xG and npxG, we observe that there is a slightly higher error and lower accuracy. It is interesting to note that Diogo Jota, who is currently second in scoring with 9 goals, is nowhere to be found in the top 20 predicted scorers this season. It is very unlikely that he will not score one more goal, if not more for the rest of the season, suggesting that xG and npxG are very strong predictors of goals."
      ],
      "metadata": {
        "id": "JqJ_7kDUkrwR"
      }
    },
    {
      "cell_type": "markdown",
      "source": [
        "### Getting feature importance for our third model"
      ],
      "metadata": {
        "id": "GhQPLSVyhQOj"
      }
    },
    {
      "cell_type": "code",
      "source": [
        "# Get numerical feature importances\n",
        "importances = list(rf3.feature_importances_)\n",
        "# List of tuples with variable and importance\n",
        "feature_importances = [(feature, round(importance, 2)) for feature, importance in zip(featurelist, importances)]\n",
        "\n",
        "for feature in feature_importances:\n",
        "  print(feature[0]+\" Importance: \"+str(feature[1]))"
      ],
      "metadata": {
        "id": "V389B4rnn9H-",
        "colab": {
          "base_uri": "https://localhost:8080/"
        },
        "outputId": "7c86d82d-a63d-448b-8687-8ee3d07ffba4"
      },
      "execution_count": null,
      "outputs": [
        {
          "output_type": "stream",
          "name": "stdout",
          "text": [
            "Shots Importance: 0.07\n",
            "SoT Importance: 0.87\n",
            "PK Importance: 0.03\n",
            "PKatt Importance: 0.04\n"
          ]
        }
      ]
    },
    {
      "cell_type": "code",
      "source": [
        "# Make a bar chart\n",
        "plt.bar(featurelist, importances, color=['red','orange','yellow','green'])\n",
        "plt.ylabel('Importance') \n",
        "plt.xlabel('Feature') \n",
        "plt.title('Feature Importances')\n",
        "plt.show()"
      ],
      "metadata": {
        "colab": {
          "base_uri": "https://localhost:8080/",
          "height": 295
        },
        "id": "g61JXzp_VwzI",
        "outputId": "544bd8ff-5e61-476c-ca0c-7a343a0186a5"
      },
      "execution_count": null,
      "outputs": [
        {
          "output_type": "display_data",
          "data": {
            "image/png": "[encoded data removed]",
            "text/plain": [
              "<Figure size 432x288 with 1 Axes>"
            ]
          },
          "metadata": {
            "needs_background": "light"
          }
        }
      ]
    },
    {
      "cell_type": "markdown",
      "source": [
        "When we look at the plot of the importance for each feature, we see that shots on target is now the most important feature. This reflects the fact that there is a heirarchical importance of features. This is also supported by the correlation scores for each feature as those are closely related to these importance scores. \n"
      ],
      "metadata": {
        "id": "1G_tu-l7rz1D"
      }
    },
    {
      "cell_type": "markdown",
      "source": [
        "## Findings from predictive model"
      ],
      "metadata": {
        "id": "vZtT9nYEjjhW"
      }
    },
    {
      "cell_type": "markdown",
      "source": [
        "While we did create three different instances of the RandomForestRegressor model, the dataset we used provided enough data such that the trained models maintained low levels of error and high levels of accuracy. These models also predicted an extremely similar list of top 20 goalscorers for this season, with all of them having Mohammed Salah as their predicted top scorer of the season. This is a very feasible prediction as Salah is having an amazing season and is on pace to be the top goalscorer. \n",
        "\n",
        "While the models had an average accuracy of 89%, we believe the top 10 scorers the models predicted will be very accurate, this claim is simply based on the current highest goalscorers and our personal predictions. We are excited to see how accurate our model was once the season ends!"
      ],
      "metadata": {
        "id": "VGLn_2rrjjU-"
      }
    },
    {
      "cell_type": "markdown",
      "source": [
        "# Conclusion"
      ],
      "metadata": {
        "id": "c71Um4_DOWtW"
      }
    },
    {
      "cell_type": "markdown",
      "source": [
        "Now that we have explored and learned so much about this data, we will do our best to briefly showcase what we have learned from this data, how we built our machine learning model, and the outcomes of this project!\n",
        "\n",
        "Based on our observations throughout our analysis and modeling, we can safely say that it is possible to predict the top goalscorers wiht a relatively high level of certainty. There are many variables that play a role in this, some of the major ones being shots, shots on target, penalties attempted, penalties scored, expected goals, and non-penalty expected goals. All of these variables maintain a correlation with the number of goals a player scores during a single season in the English Premier League. \n",
        "\n",
        "Our models showed the correlation score for these different variables, and we were able to investigate the type of relationship these features had with the goals scored. Additionally, we gained a much better understanding of how penalties relate to the goals scored by a player, this was especially important because our plots indicated a strong correlation between the two features, however we did not recognize this until we looked at how common it was for top goalscorers to also be their team's appointed penalty taker. \n",
        "\n",
        "Our analysis also helped us answer the question of whether or not a team can help predict the goalscorer. Our plots led us to the conclusion that there is some correlation between the top goalscorer and the team they play for, however, there was not enough evidence from the datasets we used to justify having the team as an additional predictor. On top of this, football is a very unpredectible sport, and successfull teams often fail, while less successful teams end up winning it all! This makes predictions based on teams quite uncertain. \n",
        "\n",
        "Finally, we had the opportunity to use supervised learning and built a RandomForest model to predict the top 20 goalscorers for the 2021-2022 season in the EPL. To make our predictions more accurate, we used the holdout set method and managed to get an prediction accuracy of 83% which we were very pleased with. We also took the opportunity to remove some of the important features in our prediction model to see how they affected our prediction results and were not suprised to see an increase in error and reduced accuracy when we did so. \n",
        "\n",
        "Overall, we were very pleased with the results of our project and prediction model. It gave us a chance to explore data in an interesting field we are interested in and learn more about creating, training and predicting using machine learning models. However, this project only scratches the surface on such an informative dataset. This project could be expanded by exploring alternative models such as linear regressions, we could also try and "
      ],
      "metadata": {
        "id": "MB23kKbYOZcM"
      }
    }
  ]
}